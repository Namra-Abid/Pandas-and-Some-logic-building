{
 "cells": [
  {
   "cell_type": "code",
   "execution_count": 1,
   "id": "14ac25d3-a904-47f5-8e40-ca572cbaf0cf",
   "metadata": {},
   "outputs": [
    {
     "data": {
      "text/html": [
       "<div>\n",
       "<style scoped>\n",
       "    .dataframe tbody tr th:only-of-type {\n",
       "        vertical-align: middle;\n",
       "    }\n",
       "\n",
       "    .dataframe tbody tr th {\n",
       "        vertical-align: top;\n",
       "    }\n",
       "\n",
       "    .dataframe thead th {\n",
       "        text-align: right;\n",
       "    }\n",
       "</style>\n",
       "<table border=\"1\" class=\"dataframe\">\n",
       "  <thead>\n",
       "    <tr style=\"text-align: right;\">\n",
       "      <th></th>\n",
       "      <th>country</th>\n",
       "      <th>continent</th>\n",
       "      <th>population</th>\n",
       "      <th>area</th>\n",
       "      <th>gdp</th>\n",
       "    </tr>\n",
       "  </thead>\n",
       "  <tbody>\n",
       "    <tr>\n",
       "      <th>0</th>\n",
       "      <td>Germany</td>\n",
       "      <td>Europe</td>\n",
       "      <td>1000000</td>\n",
       "      <td>500</td>\n",
       "      <td>500000000</td>\n",
       "    </tr>\n",
       "    <tr>\n",
       "      <th>1</th>\n",
       "      <td>France</td>\n",
       "      <td>Europe</td>\n",
       "      <td>2000000</td>\n",
       "      <td>800</td>\n",
       "      <td>1200000000</td>\n",
       "    </tr>\n",
       "    <tr>\n",
       "      <th>2</th>\n",
       "      <td>Italy</td>\n",
       "      <td>Europe</td>\n",
       "      <td>1500000</td>\n",
       "      <td>600</td>\n",
       "      <td>750000000</td>\n",
       "    </tr>\n",
       "    <tr>\n",
       "      <th>3</th>\n",
       "      <td>Spain</td>\n",
       "      <td>Europe</td>\n",
       "      <td>800000</td>\n",
       "      <td>450</td>\n",
       "      <td>400000000</td>\n",
       "    </tr>\n",
       "    <tr>\n",
       "      <th>4</th>\n",
       "      <td>Brazil</td>\n",
       "      <td>South America</td>\n",
       "      <td>210000000</td>\n",
       "      <td>8500000</td>\n",
       "      <td>2500000000</td>\n",
       "    </tr>\n",
       "    <tr>\n",
       "      <th>5</th>\n",
       "      <td>Argentina</td>\n",
       "      <td>South America</td>\n",
       "      <td>45000000</td>\n",
       "      <td>2780000</td>\n",
       "      <td>500000000</td>\n",
       "    </tr>\n",
       "    <tr>\n",
       "      <th>6</th>\n",
       "      <td>Canada</td>\n",
       "      <td>North America</td>\n",
       "      <td>38000000</td>\n",
       "      <td>9985000</td>\n",
       "      <td>1800000000</td>\n",
       "    </tr>\n",
       "    <tr>\n",
       "      <th>7</th>\n",
       "      <td>USA</td>\n",
       "      <td>North America</td>\n",
       "      <td>331000000</td>\n",
       "      <td>9834000</td>\n",
       "      <td>23000000000</td>\n",
       "    </tr>\n",
       "    <tr>\n",
       "      <th>8</th>\n",
       "      <td>India</td>\n",
       "      <td>Asia</td>\n",
       "      <td>1400000000</td>\n",
       "      <td>3287000</td>\n",
       "      <td>3200000000</td>\n",
       "    </tr>\n",
       "    <tr>\n",
       "      <th>9</th>\n",
       "      <td>China</td>\n",
       "      <td>Asia</td>\n",
       "      <td>1440000000</td>\n",
       "      <td>9600000</td>\n",
       "      <td>15000000000</td>\n",
       "    </tr>\n",
       "    <tr>\n",
       "      <th>10</th>\n",
       "      <td>Australia</td>\n",
       "      <td>Oceania</td>\n",
       "      <td>26000000</td>\n",
       "      <td>7692000</td>\n",
       "      <td>1400000000</td>\n",
       "    </tr>\n",
       "    <tr>\n",
       "      <th>11</th>\n",
       "      <td>South Africa</td>\n",
       "      <td>Africa</td>\n",
       "      <td>60000000</td>\n",
       "      <td>1219000</td>\n",
       "      <td>350000000</td>\n",
       "    </tr>\n",
       "  </tbody>\n",
       "</table>\n",
       "</div>"
      ],
      "text/plain": [
       "         country      continent  population     area          gdp\n",
       "0        Germany         Europe     1000000      500    500000000\n",
       "1         France         Europe     2000000      800   1200000000\n",
       "2          Italy         Europe     1500000      600    750000000\n",
       "3          Spain         Europe      800000      450    400000000\n",
       "4         Brazil  South America   210000000  8500000   2500000000\n",
       "5      Argentina  South America    45000000  2780000    500000000\n",
       "6         Canada  North America    38000000  9985000   1800000000\n",
       "7            USA  North America   331000000  9834000  23000000000\n",
       "8          India           Asia  1400000000  3287000   3200000000\n",
       "9          China           Asia  1440000000  9600000  15000000000\n",
       "10     Australia        Oceania    26000000  7692000   1400000000\n",
       "11  South Africa         Africa    60000000  1219000    350000000"
      ]
     },
     "execution_count": 1,
     "metadata": {},
     "output_type": "execute_result"
    }
   ],
   "source": [
    "import pandas as pd\n",
    "\n",
    "# Creating the dataset with countries from different continents\n",
    "countries_data = {\n",
    "    'country': [\n",
    "        'Germany', 'France', 'Italy', 'Spain',  # Europe\n",
    "        'Brazil', 'Argentina',  # South America\n",
    "        'Canada', 'USA',  # North America\n",
    "        'India', 'China',  # Asia\n",
    "        'Australia',  # Oceania\n",
    "        'South Africa'  # Africa\n",
    "    ],\n",
    "    'continent': [\n",
    "        'Europe', 'Europe', 'Europe', 'Europe',\n",
    "        'South America', 'South America',\n",
    "        'North America', 'North America',\n",
    "        'Asia', 'Asia',\n",
    "        'Oceania',\n",
    "        'Africa'\n",
    "    ],\n",
    "    'population': [\n",
    "        1000000, 2000000, 1500000, 800000,  # Europe\n",
    "        210000000, 45000000,  # South America\n",
    "        38000000, 331000000,  # North America\n",
    "        1400000000, 1440000000,  # Asia\n",
    "        26000000,  # Oceania\n",
    "        60000000  # Africa\n",
    "    ],\n",
    "    'area': [\n",
    "        500, 800, 600, 450,  # Europe\n",
    "        8500000, 2780000,  # South America\n",
    "        9985000, 9834000,  # North America\n",
    "        3287000, 9600000,  # Asia\n",
    "        7692000,  # Oceania\n",
    "        1219000  # Africa\n",
    "    ],\n",
    "    'gdp': [\n",
    "        500000000, 1200000000, 750000000, 400000000,  # Europe\n",
    "        2500000000, 500000000,  # South America\n",
    "        1800000000, 23000000000,  # North America\n",
    "        3200000000, 15000000000,  # Asia\n",
    "        1400000000,  # Oceania\n",
    "        350000000  # Africa\n",
    "    ]\n",
    "}\n",
    "\n",
    "# Creating the DataFrame\n",
    "countries_df = pd.DataFrame(countries_data)\n",
    "\n",
    "# Displaying the DataFrame\n",
    "(countries_df)\n"
   ]
  },
  {
   "cell_type": "code",
   "execution_count": 2,
   "id": "f5850677-4f85-4c8b-b7fc-954aa743ddfe",
   "metadata": {},
   "outputs": [],
   "source": [
    "import openpyxl\n",
    "countries_df.to_excel('myfile.xlsx')"
   ]
  },
  {
   "cell_type": "code",
   "execution_count": null,
   "id": "5544e980-6bf7-423c-9ffa-bb1e842323ec",
   "metadata": {},
   "outputs": [],
   "source": []
  },
  {
   "cell_type": "code",
   "execution_count": 3,
   "id": "cb6bb9ad-68b4-4d5c-97e4-63d6fecf1644",
   "metadata": {},
   "outputs": [
    {
     "data": {
      "text/html": [
       "<div>\n",
       "<style scoped>\n",
       "    .dataframe tbody tr th:only-of-type {\n",
       "        vertical-align: middle;\n",
       "    }\n",
       "\n",
       "    .dataframe tbody tr th {\n",
       "        vertical-align: top;\n",
       "    }\n",
       "\n",
       "    .dataframe thead th {\n",
       "        text-align: right;\n",
       "    }\n",
       "</style>\n",
       "<table border=\"1\" class=\"dataframe\">\n",
       "  <thead>\n",
       "    <tr style=\"text-align: right;\">\n",
       "      <th></th>\n",
       "      <th>Transid</th>\n",
       "      <th>WHEN</th>\n",
       "      <th>WHERE</th>\n",
       "      <th>WHAT</th>\n",
       "      <th>HOW</th>\n",
       "      <th>QUANTITY</th>\n",
       "      <th>REVENUE</th>\n",
       "    </tr>\n",
       "  </thead>\n",
       "  <tbody>\n",
       "    <tr>\n",
       "      <th>0</th>\n",
       "      <td>1</td>\n",
       "      <td>2002-11-30</td>\n",
       "      <td>Paris</td>\n",
       "      <td>Exploring in 10 Easy Lessons</td>\n",
       "      <td>Store</td>\n",
       "      <td>4</td>\n",
       "      <td>80</td>\n",
       "    </tr>\n",
       "    <tr>\n",
       "      <th>1</th>\n",
       "      <td>2</td>\n",
       "      <td>2002-10-20</td>\n",
       "      <td>London</td>\n",
       "      <td>Mastering the Art of Cooking</td>\n",
       "      <td>Catalog</td>\n",
       "      <td>3</td>\n",
       "      <td>1794</td>\n",
       "    </tr>\n",
       "    <tr>\n",
       "      <th>2</th>\n",
       "      <td>3</td>\n",
       "      <td>2002-11-07</td>\n",
       "      <td>Paris</td>\n",
       "      <td>Exploring in 10 Easy Lessons</td>\n",
       "      <td>Store</td>\n",
       "      <td>2</td>\n",
       "      <td>16</td>\n",
       "    </tr>\n",
       "    <tr>\n",
       "      <th>3</th>\n",
       "      <td>4</td>\n",
       "      <td>2002-07-28</td>\n",
       "      <td>London</td>\n",
       "      <td>Advanced Robotics</td>\n",
       "      <td>Store</td>\n",
       "      <td>3</td>\n",
       "      <td>885</td>\n",
       "    </tr>\n",
       "    <tr>\n",
       "      <th>4</th>\n",
       "      <td>5</td>\n",
       "      <td>2002-08-05</td>\n",
       "      <td>Paris</td>\n",
       "      <td>Learn to Code</td>\n",
       "      <td>Store</td>\n",
       "      <td>3</td>\n",
       "      <td>165</td>\n",
       "    </tr>\n",
       "    <tr>\n",
       "      <th>5</th>\n",
       "      <td>6</td>\n",
       "      <td>2002-09-15</td>\n",
       "      <td>Berlin</td>\n",
       "      <td>Photography Essentials</td>\n",
       "      <td>Catalog</td>\n",
       "      <td>5</td>\n",
       "      <td>250</td>\n",
       "    </tr>\n",
       "    <tr>\n",
       "      <th>6</th>\n",
       "      <td>7</td>\n",
       "      <td>2002-10-01</td>\n",
       "      <td>Madrid</td>\n",
       "      <td>Gardening Tips</td>\n",
       "      <td>Store</td>\n",
       "      <td>7</td>\n",
       "      <td>350</td>\n",
       "    </tr>\n",
       "  </tbody>\n",
       "</table>\n",
       "</div>"
      ],
      "text/plain": [
       "   Transid        WHEN   WHERE                          WHAT      HOW  \\\n",
       "0        1  2002-11-30   Paris  Exploring in 10 Easy Lessons    Store   \n",
       "1        2  2002-10-20  London  Mastering the Art of Cooking  Catalog   \n",
       "2        3  2002-11-07   Paris  Exploring in 10 Easy Lessons    Store   \n",
       "3        4  2002-07-28  London             Advanced Robotics    Store   \n",
       "4        5  2002-08-05   Paris                 Learn to Code    Store   \n",
       "5        6  2002-09-15  Berlin        Photography Essentials  Catalog   \n",
       "6        7  2002-10-01  Madrid                Gardening Tips    Store   \n",
       "\n",
       "   QUANTITY  REVENUE  \n",
       "0         4       80  \n",
       "1         3     1794  \n",
       "2         2       16  \n",
       "3         3      885  \n",
       "4         3      165  \n",
       "5         5      250  \n",
       "6         7      350  "
      ]
     },
     "execution_count": 3,
     "metadata": {},
     "output_type": "execute_result"
    }
   ],
   "source": [
    "import pandas as pd\n",
    "\n",
    "# Data dictionary with 7 rows\n",
    "data = {\n",
    "    \"Transid\": [1, 2, 3, 4, 5, 6, 7],\n",
    "    \"WHEN\": [\n",
    "        \"2002-11-30\", \"2002-10-20\", \"2002-11-07\", \n",
    "        \"2002-07-28\", \"2002-08-05\", \"2002-09-15\", \"2002-10-01\"\n",
    "    ],\n",
    "    \"WHERE\": [\"Paris\", \"London\", \"Paris\", \"London\", \"Paris\", \"Berlin\", \"Madrid\"],\n",
    "    \"WHAT\": [\n",
    "        \"Exploring in 10 Easy Lessons\", \"Mastering the Art of Cooking\", \n",
    "        \"Exploring in 10 Easy Lessons\", \"Advanced Robotics\", \n",
    "        \"Learn to Code\", \"Photography Essentials\", \n",
    "        \"Gardening Tips\"\n",
    "    ],\n",
    "    \"HOW\": [\"Store\", \"Catalog\", \"Store\", \"Store\", \"Store\", \"Catalog\", \"Store\"],\n",
    "    \"QUANTITY\": [4, 3, 2, 3, 3, 5, 7],\n",
    "    \"REVENUE\": [80, 1794, 16, 885, 165, 250, 350]\n",
    "}\n",
    "\n",
    "# Convert the data dictionary into a DataFrame\n",
    "exped = pd.DataFrame(data)\n",
    "\n",
    "# Display the DataFrame\n",
    "(exped)\n",
    "\n",
    "#\n",
    "#This dataset likely represents transaction records for a retail or educational product/service system."
   ]
  },
  {
   "cell_type": "code",
   "execution_count": 4,
   "id": "0e37c7b4-828e-494a-86a9-5c1168ed748b",
   "metadata": {},
   "outputs": [],
   "source": [
    "# exped.loc[:2,:3]--> will generate error"
   ]
  },
  {
   "cell_type": "code",
   "execution_count": 5,
   "id": "65f6ffe0-ba2f-44d6-9dec-0b61d1523c52",
   "metadata": {},
   "outputs": [
    {
     "data": {
      "text/html": [
       "<div>\n",
       "<style scoped>\n",
       "    .dataframe tbody tr th:only-of-type {\n",
       "        vertical-align: middle;\n",
       "    }\n",
       "\n",
       "    .dataframe tbody tr th {\n",
       "        vertical-align: top;\n",
       "    }\n",
       "\n",
       "    .dataframe thead th {\n",
       "        text-align: right;\n",
       "    }\n",
       "</style>\n",
       "<table border=\"1\" class=\"dataframe\">\n",
       "  <thead>\n",
       "    <tr style=\"text-align: right;\">\n",
       "      <th></th>\n",
       "      <th>Transid</th>\n",
       "      <th>WHEN</th>\n",
       "      <th>WHERE</th>\n",
       "    </tr>\n",
       "  </thead>\n",
       "  <tbody>\n",
       "    <tr>\n",
       "      <th>0</th>\n",
       "      <td>1</td>\n",
       "      <td>2002-11-30</td>\n",
       "      <td>Paris</td>\n",
       "    </tr>\n",
       "    <tr>\n",
       "      <th>1</th>\n",
       "      <td>2</td>\n",
       "      <td>2002-10-20</td>\n",
       "      <td>London</td>\n",
       "    </tr>\n",
       "    <tr>\n",
       "      <th>2</th>\n",
       "      <td>3</td>\n",
       "      <td>2002-11-07</td>\n",
       "      <td>Paris</td>\n",
       "    </tr>\n",
       "  </tbody>\n",
       "</table>\n",
       "</div>"
      ],
      "text/plain": [
       "   Transid        WHEN   WHERE\n",
       "0        1  2002-11-30   Paris\n",
       "1        2  2002-10-20  London\n",
       "2        3  2002-11-07   Paris"
      ]
     },
     "execution_count": 5,
     "metadata": {},
     "output_type": "execute_result"
    }
   ],
   "source": [
    "exped.loc[:2,[\"Transid\",\"WHEN\",\"WHERE\"]]"
   ]
  },
  {
   "cell_type": "code",
   "execution_count": 6,
   "id": "f84f33df-c966-43a1-b071-44bede49c1a5",
   "metadata": {
    "scrolled": true
   },
   "outputs": [
    {
     "data": {
      "text/html": [
       "<div>\n",
       "<style scoped>\n",
       "    .dataframe tbody tr th:only-of-type {\n",
       "        vertical-align: middle;\n",
       "    }\n",
       "\n",
       "    .dataframe tbody tr th {\n",
       "        vertical-align: top;\n",
       "    }\n",
       "\n",
       "    .dataframe thead th {\n",
       "        text-align: right;\n",
       "    }\n",
       "</style>\n",
       "<table border=\"1\" class=\"dataframe\">\n",
       "  <thead>\n",
       "    <tr style=\"text-align: right;\">\n",
       "      <th></th>\n",
       "      <th>Transid</th>\n",
       "      <th>WHEN</th>\n",
       "      <th>WHERE</th>\n",
       "      <th>WHAT</th>\n",
       "      <th>HOW</th>\n",
       "      <th>QUANTITY</th>\n",
       "      <th>REVENUE</th>\n",
       "    </tr>\n",
       "  </thead>\n",
       "  <tbody>\n",
       "    <tr>\n",
       "      <th>0</th>\n",
       "      <td>1</td>\n",
       "      <td>2002-11-30</td>\n",
       "      <td>Paris</td>\n",
       "      <td>Exploring in 10 Easy Lessons</td>\n",
       "      <td>Store</td>\n",
       "      <td>4</td>\n",
       "      <td>80</td>\n",
       "    </tr>\n",
       "    <tr>\n",
       "      <th>1</th>\n",
       "      <td>2</td>\n",
       "      <td>2002-10-20</td>\n",
       "      <td>London</td>\n",
       "      <td>Mastering the Art of Cooking</td>\n",
       "      <td>Catalog</td>\n",
       "      <td>3</td>\n",
       "      <td>1794</td>\n",
       "    </tr>\n",
       "    <tr>\n",
       "      <th>2</th>\n",
       "      <td>3</td>\n",
       "      <td>2002-11-07</td>\n",
       "      <td>Paris</td>\n",
       "      <td>Exploring in 10 Easy Lessons</td>\n",
       "      <td>Store</td>\n",
       "      <td>2</td>\n",
       "      <td>16</td>\n",
       "    </tr>\n",
       "    <tr>\n",
       "      <th>3</th>\n",
       "      <td>4</td>\n",
       "      <td>2002-07-28</td>\n",
       "      <td>London</td>\n",
       "      <td>Advanced Robotics</td>\n",
       "      <td>Store</td>\n",
       "      <td>3</td>\n",
       "      <td>885</td>\n",
       "    </tr>\n",
       "    <tr>\n",
       "      <th>4</th>\n",
       "      <td>5</td>\n",
       "      <td>2002-08-05</td>\n",
       "      <td>Paris</td>\n",
       "      <td>Learn to Code</td>\n",
       "      <td>Store</td>\n",
       "      <td>3</td>\n",
       "      <td>165</td>\n",
       "    </tr>\n",
       "    <tr>\n",
       "      <th>5</th>\n",
       "      <td>6</td>\n",
       "      <td>2002-09-15</td>\n",
       "      <td>Berlin</td>\n",
       "      <td>Photography Essentials</td>\n",
       "      <td>Catalog</td>\n",
       "      <td>5</td>\n",
       "      <td>250</td>\n",
       "    </tr>\n",
       "    <tr>\n",
       "      <th>6</th>\n",
       "      <td>7</td>\n",
       "      <td>2002-10-01</td>\n",
       "      <td>Madrid</td>\n",
       "      <td>Gardening Tips</td>\n",
       "      <td>Store</td>\n",
       "      <td>7</td>\n",
       "      <td>350</td>\n",
       "    </tr>\n",
       "  </tbody>\n",
       "</table>\n",
       "</div>"
      ],
      "text/plain": [
       "   Transid        WHEN   WHERE                          WHAT      HOW  \\\n",
       "0        1  2002-11-30   Paris  Exploring in 10 Easy Lessons    Store   \n",
       "1        2  2002-10-20  London  Mastering the Art of Cooking  Catalog   \n",
       "2        3  2002-11-07   Paris  Exploring in 10 Easy Lessons    Store   \n",
       "3        4  2002-07-28  London             Advanced Robotics    Store   \n",
       "4        5  2002-08-05   Paris                 Learn to Code    Store   \n",
       "5        6  2002-09-15  Berlin        Photography Essentials  Catalog   \n",
       "6        7  2002-10-01  Madrid                Gardening Tips    Store   \n",
       "\n",
       "   QUANTITY  REVENUE  \n",
       "0         4       80  \n",
       "1         3     1794  \n",
       "2         2       16  \n",
       "3         3      885  \n",
       "4         3      165  \n",
       "5         5      250  \n",
       "6         7      350  "
      ]
     },
     "execution_count": 6,
     "metadata": {},
     "output_type": "execute_result"
    }
   ],
   "source": [
    "exped"
   ]
  },
  {
   "cell_type": "code",
   "execution_count": 7,
   "id": "2406d1a3-48da-4a0a-9fbf-1ffd11639816",
   "metadata": {},
   "outputs": [
    {
     "data": {
      "text/plain": [
       "Transid                     4\n",
       "WHEN               2002-07-28\n",
       "WHERE                  London\n",
       "WHAT        Advanced Robotics\n",
       "HOW                     Store\n",
       "QUANTITY                    3\n",
       "REVENUE                   885\n",
       "Name: 3, dtype: object"
      ]
     },
     "execution_count": 7,
     "metadata": {},
     "output_type": "execute_result"
    }
   ],
   "source": [
    "exped.iloc[3,:]"
   ]
  },
  {
   "cell_type": "code",
   "execution_count": 8,
   "id": "db7707ea-3cd7-4a51-b6ea-7c76dff1c464",
   "metadata": {},
   "outputs": [
    {
     "data": {
      "text/plain": [
       "Transid     False\n",
       "WHEN         True\n",
       "WHERE       False\n",
       "WHAT        False\n",
       "HOW         False\n",
       "QUANTITY    False\n",
       "REVENUE     False\n",
       "Name: 1, dtype: bool"
      ]
     },
     "execution_count": 8,
     "metadata": {},
     "output_type": "execute_result"
    }
   ],
   "source": [
    "exped.iloc[1,:]==\"2002-10-20\""
   ]
  },
  {
   "cell_type": "code",
   "execution_count": 9,
   "id": "97b1920e-5b01-4e86-95bf-08b8c8260654",
   "metadata": {},
   "outputs": [
    {
     "data": {
      "text/plain": [
       "Transid     False\n",
       "WHEN        False\n",
       "WHERE        True\n",
       "WHAT        False\n",
       "HOW         False\n",
       "QUANTITY    False\n",
       "REVENUE     False\n",
       "Name: 1, dtype: bool"
      ]
     },
     "execution_count": 9,
     "metadata": {},
     "output_type": "execute_result"
    }
   ],
   "source": [
    "exped.iloc[1,:]==\"London\""
   ]
  },
  {
   "cell_type": "code",
   "execution_count": 10,
   "id": "9e42e555-fce3-4690-b23f-127193469c22",
   "metadata": {},
   "outputs": [
    {
     "data": {
      "text/plain": [
       "0     Paris\n",
       "1    London\n",
       "2     Paris\n",
       "3    London\n",
       "4     Paris\n",
       "5    Berlin\n",
       "6    Madrid\n",
       "Name: WHERE, dtype: object"
      ]
     },
     "execution_count": 10,
     "metadata": {},
     "output_type": "execute_result"
    }
   ],
   "source": [
    "exped['WHERE']"
   ]
  },
  {
   "cell_type": "code",
   "execution_count": 11,
   "id": "f553a983-c43c-4728-9668-f595899ba1f6",
   "metadata": {
    "scrolled": true
   },
   "outputs": [
    {
     "data": {
      "text/plain": [
       "0    False\n",
       "1     True\n",
       "2    False\n",
       "3     True\n",
       "4    False\n",
       "5    False\n",
       "6    False\n",
       "Name: WHERE, dtype: bool"
      ]
     },
     "execution_count": 11,
     "metadata": {},
     "output_type": "execute_result"
    }
   ],
   "source": [
    "exped['WHERE'] == 'London'\n"
   ]
  },
  {
   "cell_type": "code",
   "execution_count": 12,
   "id": "1ec07cb7-e72e-4ed3-bb05-f357bbb7ca82",
   "metadata": {},
   "outputs": [
    {
     "data": {
      "text/html": [
       "<div>\n",
       "<style scoped>\n",
       "    .dataframe tbody tr th:only-of-type {\n",
       "        vertical-align: middle;\n",
       "    }\n",
       "\n",
       "    .dataframe tbody tr th {\n",
       "        vertical-align: top;\n",
       "    }\n",
       "\n",
       "    .dataframe thead th {\n",
       "        text-align: right;\n",
       "    }\n",
       "</style>\n",
       "<table border=\"1\" class=\"dataframe\">\n",
       "  <thead>\n",
       "    <tr style=\"text-align: right;\">\n",
       "      <th></th>\n",
       "      <th>Transid</th>\n",
       "      <th>WHEN</th>\n",
       "      <th>WHERE</th>\n",
       "      <th>WHAT</th>\n",
       "      <th>HOW</th>\n",
       "      <th>QUANTITY</th>\n",
       "      <th>REVENUE</th>\n",
       "    </tr>\n",
       "  </thead>\n",
       "  <tbody>\n",
       "    <tr>\n",
       "      <th>1</th>\n",
       "      <td>2</td>\n",
       "      <td>2002-10-20</td>\n",
       "      <td>London</td>\n",
       "      <td>Mastering the Art of Cooking</td>\n",
       "      <td>Catalog</td>\n",
       "      <td>3</td>\n",
       "      <td>1794</td>\n",
       "    </tr>\n",
       "    <tr>\n",
       "      <th>3</th>\n",
       "      <td>4</td>\n",
       "      <td>2002-07-28</td>\n",
       "      <td>London</td>\n",
       "      <td>Advanced Robotics</td>\n",
       "      <td>Store</td>\n",
       "      <td>3</td>\n",
       "      <td>885</td>\n",
       "    </tr>\n",
       "  </tbody>\n",
       "</table>\n",
       "</div>"
      ],
      "text/plain": [
       "   Transid        WHEN   WHERE                          WHAT      HOW  \\\n",
       "1        2  2002-10-20  London  Mastering the Art of Cooking  Catalog   \n",
       "3        4  2002-07-28  London             Advanced Robotics    Store   \n",
       "\n",
       "   QUANTITY  REVENUE  \n",
       "1         3     1794  \n",
       "3         3      885  "
      ]
     },
     "execution_count": 12,
     "metadata": {},
     "output_type": "execute_result"
    }
   ],
   "source": [
    "exped.loc[[1,3],:]"
   ]
  },
  {
   "cell_type": "code",
   "execution_count": null,
   "id": "05f67dbe-cb16-4d8a-adc0-a37ae64ad39c",
   "metadata": {},
   "outputs": [],
   "source": []
  },
  {
   "cell_type": "code",
   "execution_count": 13,
   "id": "16c3da00-b6f2-4f43-ada6-e29a4a751e3e",
   "metadata": {},
   "outputs": [
    {
     "data": {
      "text/html": [
       "<div>\n",
       "<style scoped>\n",
       "    .dataframe tbody tr th:only-of-type {\n",
       "        vertical-align: middle;\n",
       "    }\n",
       "\n",
       "    .dataframe tbody tr th {\n",
       "        vertical-align: top;\n",
       "    }\n",
       "\n",
       "    .dataframe thead th {\n",
       "        text-align: right;\n",
       "    }\n",
       "</style>\n",
       "<table border=\"1\" class=\"dataframe\">\n",
       "  <thead>\n",
       "    <tr style=\"text-align: right;\">\n",
       "      <th></th>\n",
       "      <th>Transid</th>\n",
       "      <th>WHEN</th>\n",
       "      <th>WHERE</th>\n",
       "      <th>WHAT</th>\n",
       "      <th>HOW</th>\n",
       "      <th>QUANTITY</th>\n",
       "      <th>REVENUE</th>\n",
       "    </tr>\n",
       "  </thead>\n",
       "  <tbody>\n",
       "    <tr>\n",
       "      <th>0</th>\n",
       "      <td>1</td>\n",
       "      <td>2002-11-30</td>\n",
       "      <td>Paris</td>\n",
       "      <td>Exploring in 10 Easy Lessons</td>\n",
       "      <td>Store</td>\n",
       "      <td>4</td>\n",
       "      <td>80</td>\n",
       "    </tr>\n",
       "    <tr>\n",
       "      <th>2</th>\n",
       "      <td>3</td>\n",
       "      <td>2002-11-07</td>\n",
       "      <td>Paris</td>\n",
       "      <td>Exploring in 10 Easy Lessons</td>\n",
       "      <td>Store</td>\n",
       "      <td>2</td>\n",
       "      <td>16</td>\n",
       "    </tr>\n",
       "    <tr>\n",
       "      <th>4</th>\n",
       "      <td>5</td>\n",
       "      <td>2002-08-05</td>\n",
       "      <td>Paris</td>\n",
       "      <td>Learn to Code</td>\n",
       "      <td>Store</td>\n",
       "      <td>3</td>\n",
       "      <td>165</td>\n",
       "    </tr>\n",
       "  </tbody>\n",
       "</table>\n",
       "</div>"
      ],
      "text/plain": [
       "   Transid        WHEN  WHERE                          WHAT    HOW  QUANTITY  \\\n",
       "0        1  2002-11-30  Paris  Exploring in 10 Easy Lessons  Store         4   \n",
       "2        3  2002-11-07  Paris  Exploring in 10 Easy Lessons  Store         2   \n",
       "4        5  2002-08-05  Paris                 Learn to Code  Store         3   \n",
       "\n",
       "   REVENUE  \n",
       "0       80  \n",
       "2       16  \n",
       "4      165  "
      ]
     },
     "execution_count": 13,
     "metadata": {},
     "output_type": "execute_result"
    }
   ],
   "source": [
    "exped.loc[exped.WHERE == 'Paris']"
   ]
  },
  {
   "cell_type": "code",
   "execution_count": 14,
   "id": "506cbf42-0ab3-4bfa-a6b5-907a2f92aac0",
   "metadata": {},
   "outputs": [
    {
     "data": {
      "text/html": [
       "<div>\n",
       "<style scoped>\n",
       "    .dataframe tbody tr th:only-of-type {\n",
       "        vertical-align: middle;\n",
       "    }\n",
       "\n",
       "    .dataframe tbody tr th {\n",
       "        vertical-align: top;\n",
       "    }\n",
       "\n",
       "    .dataframe thead th {\n",
       "        text-align: right;\n",
       "    }\n",
       "</style>\n",
       "<table border=\"1\" class=\"dataframe\">\n",
       "  <thead>\n",
       "    <tr style=\"text-align: right;\">\n",
       "      <th></th>\n",
       "      <th>country</th>\n",
       "      <th>continent</th>\n",
       "      <th>population</th>\n",
       "      <th>area</th>\n",
       "      <th>gdp</th>\n",
       "    </tr>\n",
       "  </thead>\n",
       "  <tbody>\n",
       "    <tr>\n",
       "      <th>0</th>\n",
       "      <td>Germany</td>\n",
       "      <td>Europe</td>\n",
       "      <td>1000000</td>\n",
       "      <td>500</td>\n",
       "      <td>500000000</td>\n",
       "    </tr>\n",
       "    <tr>\n",
       "      <th>1</th>\n",
       "      <td>France</td>\n",
       "      <td>Europe</td>\n",
       "      <td>2000000</td>\n",
       "      <td>800</td>\n",
       "      <td>1200000000</td>\n",
       "    </tr>\n",
       "    <tr>\n",
       "      <th>2</th>\n",
       "      <td>Italy</td>\n",
       "      <td>Europe</td>\n",
       "      <td>1500000</td>\n",
       "      <td>600</td>\n",
       "      <td>750000000</td>\n",
       "    </tr>\n",
       "    <tr>\n",
       "      <th>3</th>\n",
       "      <td>Spain</td>\n",
       "      <td>Europe</td>\n",
       "      <td>800000</td>\n",
       "      <td>450</td>\n",
       "      <td>400000000</td>\n",
       "    </tr>\n",
       "    <tr>\n",
       "      <th>4</th>\n",
       "      <td>Brazil</td>\n",
       "      <td>South America</td>\n",
       "      <td>210000000</td>\n",
       "      <td>8500000</td>\n",
       "      <td>2500000000</td>\n",
       "    </tr>\n",
       "    <tr>\n",
       "      <th>5</th>\n",
       "      <td>Argentina</td>\n",
       "      <td>South America</td>\n",
       "      <td>45000000</td>\n",
       "      <td>2780000</td>\n",
       "      <td>500000000</td>\n",
       "    </tr>\n",
       "    <tr>\n",
       "      <th>6</th>\n",
       "      <td>Canada</td>\n",
       "      <td>North America</td>\n",
       "      <td>38000000</td>\n",
       "      <td>9985000</td>\n",
       "      <td>1800000000</td>\n",
       "    </tr>\n",
       "    <tr>\n",
       "      <th>7</th>\n",
       "      <td>USA</td>\n",
       "      <td>North America</td>\n",
       "      <td>331000000</td>\n",
       "      <td>9834000</td>\n",
       "      <td>23000000000</td>\n",
       "    </tr>\n",
       "    <tr>\n",
       "      <th>8</th>\n",
       "      <td>India</td>\n",
       "      <td>Asia</td>\n",
       "      <td>1400000000</td>\n",
       "      <td>3287000</td>\n",
       "      <td>3200000000</td>\n",
       "    </tr>\n",
       "    <tr>\n",
       "      <th>9</th>\n",
       "      <td>China</td>\n",
       "      <td>Asia</td>\n",
       "      <td>1440000000</td>\n",
       "      <td>9600000</td>\n",
       "      <td>15000000000</td>\n",
       "    </tr>\n",
       "    <tr>\n",
       "      <th>10</th>\n",
       "      <td>Australia</td>\n",
       "      <td>Oceania</td>\n",
       "      <td>26000000</td>\n",
       "      <td>7692000</td>\n",
       "      <td>1400000000</td>\n",
       "    </tr>\n",
       "    <tr>\n",
       "      <th>11</th>\n",
       "      <td>South Africa</td>\n",
       "      <td>Africa</td>\n",
       "      <td>60000000</td>\n",
       "      <td>1219000</td>\n",
       "      <td>350000000</td>\n",
       "    </tr>\n",
       "  </tbody>\n",
       "</table>\n",
       "</div>"
      ],
      "text/plain": [
       "         country      continent  population     area          gdp\n",
       "0        Germany         Europe     1000000      500    500000000\n",
       "1         France         Europe     2000000      800   1200000000\n",
       "2          Italy         Europe     1500000      600    750000000\n",
       "3          Spain         Europe      800000      450    400000000\n",
       "4         Brazil  South America   210000000  8500000   2500000000\n",
       "5      Argentina  South America    45000000  2780000    500000000\n",
       "6         Canada  North America    38000000  9985000   1800000000\n",
       "7            USA  North America   331000000  9834000  23000000000\n",
       "8          India           Asia  1400000000  3287000   3200000000\n",
       "9          China           Asia  1440000000  9600000  15000000000\n",
       "10     Australia        Oceania    26000000  7692000   1400000000\n",
       "11  South Africa         Africa    60000000  1219000    350000000"
      ]
     },
     "execution_count": 14,
     "metadata": {},
     "output_type": "execute_result"
    }
   ],
   "source": [
    "countries_df"
   ]
  },
  {
   "cell_type": "code",
   "execution_count": null,
   "id": "2ea561a0-7786-4582-9091-f5c9c1cf519d",
   "metadata": {},
   "outputs": [],
   "source": []
  },
  {
   "cell_type": "code",
   "execution_count": null,
   "id": "5d8b81b3-b532-4c52-b0a8-37ba490aa69d",
   "metadata": {},
   "outputs": [],
   "source": []
  },
  {
   "cell_type": "code",
   "execution_count": 15,
   "id": "5ab36dd8-825f-4d73-9afc-90c4f5abb927",
   "metadata": {},
   "outputs": [
    {
     "data": {
      "text/plain": [
       "0      True\n",
       "1      True\n",
       "2      True\n",
       "3      True\n",
       "4     False\n",
       "5     False\n",
       "6     False\n",
       "7     False\n",
       "8     False\n",
       "9     False\n",
       "10    False\n",
       "11    False\n",
       "Name: continent, dtype: bool"
      ]
     },
     "execution_count": 15,
     "metadata": {},
     "output_type": "execute_result"
    }
   ],
   "source": [
    "countries_df['continent'] == 'Europe'"
   ]
  },
  {
   "cell_type": "code",
   "execution_count": 16,
   "id": "2da59d2a-d9e4-4935-b1ae-b41f42800644",
   "metadata": {},
   "outputs": [
    {
     "data": {
      "text/html": [
       "<div>\n",
       "<style scoped>\n",
       "    .dataframe tbody tr th:only-of-type {\n",
       "        vertical-align: middle;\n",
       "    }\n",
       "\n",
       "    .dataframe tbody tr th {\n",
       "        vertical-align: top;\n",
       "    }\n",
       "\n",
       "    .dataframe thead th {\n",
       "        text-align: right;\n",
       "    }\n",
       "</style>\n",
       "<table border=\"1\" class=\"dataframe\">\n",
       "  <thead>\n",
       "    <tr style=\"text-align: right;\">\n",
       "      <th></th>\n",
       "      <th>country</th>\n",
       "      <th>continent</th>\n",
       "      <th>population</th>\n",
       "      <th>area</th>\n",
       "      <th>gdp</th>\n",
       "    </tr>\n",
       "  </thead>\n",
       "  <tbody>\n",
       "    <tr>\n",
       "      <th>0</th>\n",
       "      <td>Germany</td>\n",
       "      <td>Europe</td>\n",
       "      <td>1000000</td>\n",
       "      <td>500</td>\n",
       "      <td>500000000</td>\n",
       "    </tr>\n",
       "    <tr>\n",
       "      <th>1</th>\n",
       "      <td>France</td>\n",
       "      <td>Europe</td>\n",
       "      <td>2000000</td>\n",
       "      <td>800</td>\n",
       "      <td>1200000000</td>\n",
       "    </tr>\n",
       "    <tr>\n",
       "      <th>2</th>\n",
       "      <td>Italy</td>\n",
       "      <td>Europe</td>\n",
       "      <td>1500000</td>\n",
       "      <td>600</td>\n",
       "      <td>750000000</td>\n",
       "    </tr>\n",
       "    <tr>\n",
       "      <th>3</th>\n",
       "      <td>Spain</td>\n",
       "      <td>Europe</td>\n",
       "      <td>800000</td>\n",
       "      <td>450</td>\n",
       "      <td>400000000</td>\n",
       "    </tr>\n",
       "  </tbody>\n",
       "</table>\n",
       "</div>"
      ],
      "text/plain": [
       "   country continent  population  area         gdp\n",
       "0  Germany    Europe     1000000   500   500000000\n",
       "1   France    Europe     2000000   800  1200000000\n",
       "2    Italy    Europe     1500000   600   750000000\n",
       "3    Spain    Europe      800000   450   400000000"
      ]
     },
     "execution_count": 16,
     "metadata": {},
     "output_type": "execute_result"
    }
   ],
   "source": [
    "countries_df.loc[countries_df['continent'] == 'Europe']"
   ]
  },
  {
   "cell_type": "code",
   "execution_count": null,
   "id": "0258e083-de06-4f28-bce0-47732dfda046",
   "metadata": {},
   "outputs": [],
   "source": []
  },
  {
   "cell_type": "markdown",
   "id": "0453505a-404d-4b5a-825c-fdaa2f16e2ae",
   "metadata": {},
   "source": [
    "### & (Logical AND)\n",
    "Used when all conditions must be true for a row to be included in the result.\n",
    "Both conditions need to evaluate to True for a row to be selected."
   ]
  },
  {
   "cell_type": "code",
   "execution_count": 17,
   "id": "6ac93aa5-76bf-4f93-aae6-a1fbe99f7a38",
   "metadata": {},
   "outputs": [
    {
     "data": {
      "text/html": [
       "<div>\n",
       "<style scoped>\n",
       "    .dataframe tbody tr th:only-of-type {\n",
       "        vertical-align: middle;\n",
       "    }\n",
       "\n",
       "    .dataframe tbody tr th {\n",
       "        vertical-align: top;\n",
       "    }\n",
       "\n",
       "    .dataframe thead th {\n",
       "        text-align: right;\n",
       "    }\n",
       "</style>\n",
       "<table border=\"1\" class=\"dataframe\">\n",
       "  <thead>\n",
       "    <tr style=\"text-align: right;\">\n",
       "      <th></th>\n",
       "      <th>country</th>\n",
       "      <th>continent</th>\n",
       "      <th>population</th>\n",
       "      <th>area</th>\n",
       "      <th>gdp</th>\n",
       "    </tr>\n",
       "  </thead>\n",
       "  <tbody>\n",
       "    <tr>\n",
       "      <th>1</th>\n",
       "      <td>France</td>\n",
       "      <td>Europe</td>\n",
       "      <td>2000000</td>\n",
       "      <td>800</td>\n",
       "      <td>1200000000</td>\n",
       "    </tr>\n",
       "    <tr>\n",
       "      <th>2</th>\n",
       "      <td>Italy</td>\n",
       "      <td>Europe</td>\n",
       "      <td>1500000</td>\n",
       "      <td>600</td>\n",
       "      <td>750000000</td>\n",
       "    </tr>\n",
       "    <tr>\n",
       "      <th>5</th>\n",
       "      <td>Argentina</td>\n",
       "      <td>South America</td>\n",
       "      <td>45000000</td>\n",
       "      <td>2780000</td>\n",
       "      <td>500000000</td>\n",
       "    </tr>\n",
       "    <tr>\n",
       "      <th>6</th>\n",
       "      <td>Canada</td>\n",
       "      <td>North America</td>\n",
       "      <td>38000000</td>\n",
       "      <td>9985000</td>\n",
       "      <td>1800000000</td>\n",
       "    </tr>\n",
       "    <tr>\n",
       "      <th>10</th>\n",
       "      <td>Australia</td>\n",
       "      <td>Oceania</td>\n",
       "      <td>26000000</td>\n",
       "      <td>7692000</td>\n",
       "      <td>1400000000</td>\n",
       "    </tr>\n",
       "  </tbody>\n",
       "</table>\n",
       "</div>"
      ],
      "text/plain": [
       "      country      continent  population     area         gdp\n",
       "1      France         Europe     2000000      800  1200000000\n",
       "2       Italy         Europe     1500000      600   750000000\n",
       "5   Argentina  South America    45000000  2780000   500000000\n",
       "6      Canada  North America    38000000  9985000  1800000000\n",
       "10  Australia        Oceania    26000000  7692000  1400000000"
      ]
     },
     "execution_count": 17,
     "metadata": {},
     "output_type": "execute_result"
    }
   ],
   "source": [
    "countries_df.loc[(countries_df.population<60000000) & (countries_df.population>1000000)]"
   ]
  },
  {
   "cell_type": "code",
   "execution_count": 18,
   "id": "eb1c4920-5a17-4638-9495-5f57f3ec7b53",
   "metadata": {},
   "outputs": [
    {
     "data": {
      "text/html": [
       "<div>\n",
       "<style scoped>\n",
       "    .dataframe tbody tr th:only-of-type {\n",
       "        vertical-align: middle;\n",
       "    }\n",
       "\n",
       "    .dataframe tbody tr th {\n",
       "        vertical-align: top;\n",
       "    }\n",
       "\n",
       "    .dataframe thead th {\n",
       "        text-align: right;\n",
       "    }\n",
       "</style>\n",
       "<table border=\"1\" class=\"dataframe\">\n",
       "  <thead>\n",
       "    <tr style=\"text-align: right;\">\n",
       "      <th></th>\n",
       "      <th>country</th>\n",
       "      <th>continent</th>\n",
       "      <th>population</th>\n",
       "      <th>area</th>\n",
       "      <th>gdp</th>\n",
       "    </tr>\n",
       "  </thead>\n",
       "  <tbody>\n",
       "    <tr>\n",
       "      <th>0</th>\n",
       "      <td>Germany</td>\n",
       "      <td>Europe</td>\n",
       "      <td>1000000</td>\n",
       "      <td>500</td>\n",
       "      <td>500000000</td>\n",
       "    </tr>\n",
       "  </tbody>\n",
       "</table>\n",
       "</div>"
      ],
      "text/plain": [
       "   country continent  population  area        gdp\n",
       "0  Germany    Europe     1000000   500  500000000"
      ]
     },
     "execution_count": 18,
     "metadata": {},
     "output_type": "execute_result"
    }
   ],
   "source": [
    "countries_df.loc[(countries_df.continent==\"Europe\") & (countries_df.country==\"Germany\")]"
   ]
  },
  {
   "cell_type": "code",
   "execution_count": 19,
   "id": "7cc80afa-b7ad-4fd9-8ec9-e21270698d08",
   "metadata": {},
   "outputs": [
    {
     "data": {
      "text/html": [
       "<div>\n",
       "<style scoped>\n",
       "    .dataframe tbody tr th:only-of-type {\n",
       "        vertical-align: middle;\n",
       "    }\n",
       "\n",
       "    .dataframe tbody tr th {\n",
       "        vertical-align: top;\n",
       "    }\n",
       "\n",
       "    .dataframe thead th {\n",
       "        text-align: right;\n",
       "    }\n",
       "</style>\n",
       "<table border=\"1\" class=\"dataframe\">\n",
       "  <thead>\n",
       "    <tr style=\"text-align: right;\">\n",
       "      <th></th>\n",
       "      <th>Transid</th>\n",
       "      <th>WHEN</th>\n",
       "      <th>WHERE</th>\n",
       "      <th>WHAT</th>\n",
       "      <th>HOW</th>\n",
       "      <th>QUANTITY</th>\n",
       "      <th>REVENUE</th>\n",
       "    </tr>\n",
       "  </thead>\n",
       "  <tbody>\n",
       "    <tr>\n",
       "      <th>0</th>\n",
       "      <td>1</td>\n",
       "      <td>2002-11-30</td>\n",
       "      <td>Paris</td>\n",
       "      <td>Exploring in 10 Easy Lessons</td>\n",
       "      <td>Store</td>\n",
       "      <td>4</td>\n",
       "      <td>80</td>\n",
       "    </tr>\n",
       "    <tr>\n",
       "      <th>1</th>\n",
       "      <td>2</td>\n",
       "      <td>2002-10-20</td>\n",
       "      <td>London</td>\n",
       "      <td>Mastering the Art of Cooking</td>\n",
       "      <td>Catalog</td>\n",
       "      <td>3</td>\n",
       "      <td>1794</td>\n",
       "    </tr>\n",
       "    <tr>\n",
       "      <th>2</th>\n",
       "      <td>3</td>\n",
       "      <td>2002-11-07</td>\n",
       "      <td>Paris</td>\n",
       "      <td>Exploring in 10 Easy Lessons</td>\n",
       "      <td>Store</td>\n",
       "      <td>2</td>\n",
       "      <td>16</td>\n",
       "    </tr>\n",
       "    <tr>\n",
       "      <th>3</th>\n",
       "      <td>4</td>\n",
       "      <td>2002-07-28</td>\n",
       "      <td>London</td>\n",
       "      <td>Advanced Robotics</td>\n",
       "      <td>Store</td>\n",
       "      <td>3</td>\n",
       "      <td>885</td>\n",
       "    </tr>\n",
       "    <tr>\n",
       "      <th>4</th>\n",
       "      <td>5</td>\n",
       "      <td>2002-08-05</td>\n",
       "      <td>Paris</td>\n",
       "      <td>Learn to Code</td>\n",
       "      <td>Store</td>\n",
       "      <td>3</td>\n",
       "      <td>165</td>\n",
       "    </tr>\n",
       "    <tr>\n",
       "      <th>5</th>\n",
       "      <td>6</td>\n",
       "      <td>2002-09-15</td>\n",
       "      <td>Berlin</td>\n",
       "      <td>Photography Essentials</td>\n",
       "      <td>Catalog</td>\n",
       "      <td>5</td>\n",
       "      <td>250</td>\n",
       "    </tr>\n",
       "    <tr>\n",
       "      <th>6</th>\n",
       "      <td>7</td>\n",
       "      <td>2002-10-01</td>\n",
       "      <td>Madrid</td>\n",
       "      <td>Gardening Tips</td>\n",
       "      <td>Store</td>\n",
       "      <td>7</td>\n",
       "      <td>350</td>\n",
       "    </tr>\n",
       "  </tbody>\n",
       "</table>\n",
       "</div>"
      ],
      "text/plain": [
       "   Transid        WHEN   WHERE                          WHAT      HOW  \\\n",
       "0        1  2002-11-30   Paris  Exploring in 10 Easy Lessons    Store   \n",
       "1        2  2002-10-20  London  Mastering the Art of Cooking  Catalog   \n",
       "2        3  2002-11-07   Paris  Exploring in 10 Easy Lessons    Store   \n",
       "3        4  2002-07-28  London             Advanced Robotics    Store   \n",
       "4        5  2002-08-05   Paris                 Learn to Code    Store   \n",
       "5        6  2002-09-15  Berlin        Photography Essentials  Catalog   \n",
       "6        7  2002-10-01  Madrid                Gardening Tips    Store   \n",
       "\n",
       "   QUANTITY  REVENUE  \n",
       "0         4       80  \n",
       "1         3     1794  \n",
       "2         2       16  \n",
       "3         3      885  \n",
       "4         3      165  \n",
       "5         5      250  \n",
       "6         7      350  "
      ]
     },
     "execution_count": 19,
     "metadata": {},
     "output_type": "execute_result"
    }
   ],
   "source": [
    "exped"
   ]
  },
  {
   "cell_type": "code",
   "execution_count": 20,
   "id": "5d0168bc-7007-461f-92bb-ba903f77ab66",
   "metadata": {},
   "outputs": [
    {
     "data": {
      "text/html": [
       "<div>\n",
       "<style scoped>\n",
       "    .dataframe tbody tr th:only-of-type {\n",
       "        vertical-align: middle;\n",
       "    }\n",
       "\n",
       "    .dataframe tbody tr th {\n",
       "        vertical-align: top;\n",
       "    }\n",
       "\n",
       "    .dataframe thead th {\n",
       "        text-align: right;\n",
       "    }\n",
       "</style>\n",
       "<table border=\"1\" class=\"dataframe\">\n",
       "  <thead>\n",
       "    <tr style=\"text-align: right;\">\n",
       "      <th></th>\n",
       "      <th>Transid</th>\n",
       "      <th>WHEN</th>\n",
       "      <th>WHERE</th>\n",
       "      <th>WHAT</th>\n",
       "      <th>HOW</th>\n",
       "      <th>QUANTITY</th>\n",
       "      <th>REVENUE</th>\n",
       "    </tr>\n",
       "  </thead>\n",
       "  <tbody>\n",
       "    <tr>\n",
       "      <th>1</th>\n",
       "      <td>2</td>\n",
       "      <td>2002-10-20</td>\n",
       "      <td>London</td>\n",
       "      <td>Mastering the Art of Cooking</td>\n",
       "      <td>Catalog</td>\n",
       "      <td>3</td>\n",
       "      <td>1794</td>\n",
       "    </tr>\n",
       "    <tr>\n",
       "      <th>3</th>\n",
       "      <td>4</td>\n",
       "      <td>2002-07-28</td>\n",
       "      <td>London</td>\n",
       "      <td>Advanced Robotics</td>\n",
       "      <td>Store</td>\n",
       "      <td>3</td>\n",
       "      <td>885</td>\n",
       "    </tr>\n",
       "  </tbody>\n",
       "</table>\n",
       "</div>"
      ],
      "text/plain": [
       "   Transid        WHEN   WHERE                          WHAT      HOW  \\\n",
       "1        2  2002-10-20  London  Mastering the Art of Cooking  Catalog   \n",
       "3        4  2002-07-28  London             Advanced Robotics    Store   \n",
       "\n",
       "   QUANTITY  REVENUE  \n",
       "1         3     1794  \n",
       "3         3      885  "
      ]
     },
     "execution_count": 20,
     "metadata": {},
     "output_type": "execute_result"
    }
   ],
   "source": [
    "exped.loc[(exped.WHERE == 'London') & (exped.REVENUE >= 800)]"
   ]
  },
  {
   "cell_type": "markdown",
   "id": "c4faebd8-17e4-49b6-b87a-820cb9a1c9d7",
   "metadata": {},
   "source": [
    "### | (Logical OR)\n",
    "Used when at least one condition must be true for a row to be included in the result.\n",
    "If either of the conditions evaluates to True, the row will be selected."
   ]
  },
  {
   "cell_type": "code",
   "execution_count": 21,
   "id": "d5137467-c43e-4185-bbb1-f88b347c68db",
   "metadata": {},
   "outputs": [
    {
     "data": {
      "text/html": [
       "<div>\n",
       "<style scoped>\n",
       "    .dataframe tbody tr th:only-of-type {\n",
       "        vertical-align: middle;\n",
       "    }\n",
       "\n",
       "    .dataframe tbody tr th {\n",
       "        vertical-align: top;\n",
       "    }\n",
       "\n",
       "    .dataframe thead th {\n",
       "        text-align: right;\n",
       "    }\n",
       "</style>\n",
       "<table border=\"1\" class=\"dataframe\">\n",
       "  <thead>\n",
       "    <tr style=\"text-align: right;\">\n",
       "      <th></th>\n",
       "      <th>country</th>\n",
       "      <th>continent</th>\n",
       "      <th>population</th>\n",
       "      <th>area</th>\n",
       "      <th>gdp</th>\n",
       "    </tr>\n",
       "  </thead>\n",
       "  <tbody>\n",
       "  </tbody>\n",
       "</table>\n",
       "</div>"
      ],
      "text/plain": [
       "Empty DataFrame\n",
       "Columns: [country, continent, population, area, gdp]\n",
       "Index: []"
      ]
     },
     "execution_count": 21,
     "metadata": {},
     "output_type": "execute_result"
    }
   ],
   "source": [
    "countries_df.loc[(countries_df.continent==\"Europe\") & (countries_df.country==\"Pakistan\")]"
   ]
  },
  {
   "cell_type": "code",
   "execution_count": 22,
   "id": "aa9910c8-2646-4b85-acc1-ba1c0772dc40",
   "metadata": {},
   "outputs": [
    {
     "data": {
      "text/html": [
       "<div>\n",
       "<style scoped>\n",
       "    .dataframe tbody tr th:only-of-type {\n",
       "        vertical-align: middle;\n",
       "    }\n",
       "\n",
       "    .dataframe tbody tr th {\n",
       "        vertical-align: top;\n",
       "    }\n",
       "\n",
       "    .dataframe thead th {\n",
       "        text-align: right;\n",
       "    }\n",
       "</style>\n",
       "<table border=\"1\" class=\"dataframe\">\n",
       "  <thead>\n",
       "    <tr style=\"text-align: right;\">\n",
       "      <th></th>\n",
       "      <th>country</th>\n",
       "      <th>continent</th>\n",
       "      <th>population</th>\n",
       "      <th>area</th>\n",
       "      <th>gdp</th>\n",
       "    </tr>\n",
       "  </thead>\n",
       "  <tbody>\n",
       "    <tr>\n",
       "      <th>0</th>\n",
       "      <td>Germany</td>\n",
       "      <td>Europe</td>\n",
       "      <td>1000000</td>\n",
       "      <td>500</td>\n",
       "      <td>500000000</td>\n",
       "    </tr>\n",
       "    <tr>\n",
       "      <th>1</th>\n",
       "      <td>France</td>\n",
       "      <td>Europe</td>\n",
       "      <td>2000000</td>\n",
       "      <td>800</td>\n",
       "      <td>1200000000</td>\n",
       "    </tr>\n",
       "    <tr>\n",
       "      <th>2</th>\n",
       "      <td>Italy</td>\n",
       "      <td>Europe</td>\n",
       "      <td>1500000</td>\n",
       "      <td>600</td>\n",
       "      <td>750000000</td>\n",
       "    </tr>\n",
       "    <tr>\n",
       "      <th>3</th>\n",
       "      <td>Spain</td>\n",
       "      <td>Europe</td>\n",
       "      <td>800000</td>\n",
       "      <td>450</td>\n",
       "      <td>400000000</td>\n",
       "    </tr>\n",
       "  </tbody>\n",
       "</table>\n",
       "</div>"
      ],
      "text/plain": [
       "   country continent  population  area         gdp\n",
       "0  Germany    Europe     1000000   500   500000000\n",
       "1   France    Europe     2000000   800  1200000000\n",
       "2    Italy    Europe     1500000   600   750000000\n",
       "3    Spain    Europe      800000   450   400000000"
      ]
     },
     "execution_count": 22,
     "metadata": {},
     "output_type": "execute_result"
    }
   ],
   "source": [
    "countries_df.loc[(countries_df.continent==\"Europe\") | (countries_df.country==\"Pakistan\")]"
   ]
  },
  {
   "cell_type": "code",
   "execution_count": 23,
   "id": "87b84288-ac60-4350-98f0-8c1ae0c50b05",
   "metadata": {},
   "outputs": [
    {
     "data": {
      "text/html": [
       "<div>\n",
       "<style scoped>\n",
       "    .dataframe tbody tr th:only-of-type {\n",
       "        vertical-align: middle;\n",
       "    }\n",
       "\n",
       "    .dataframe tbody tr th {\n",
       "        vertical-align: top;\n",
       "    }\n",
       "\n",
       "    .dataframe thead th {\n",
       "        text-align: right;\n",
       "    }\n",
       "</style>\n",
       "<table border=\"1\" class=\"dataframe\">\n",
       "  <thead>\n",
       "    <tr style=\"text-align: right;\">\n",
       "      <th></th>\n",
       "      <th>Transid</th>\n",
       "      <th>WHEN</th>\n",
       "      <th>WHERE</th>\n",
       "      <th>WHAT</th>\n",
       "      <th>HOW</th>\n",
       "      <th>QUANTITY</th>\n",
       "      <th>REVENUE</th>\n",
       "    </tr>\n",
       "  </thead>\n",
       "  <tbody>\n",
       "    <tr>\n",
       "      <th>5</th>\n",
       "      <td>6</td>\n",
       "      <td>2002-09-15</td>\n",
       "      <td>Berlin</td>\n",
       "      <td>Photography Essentials</td>\n",
       "      <td>Catalog</td>\n",
       "      <td>5</td>\n",
       "      <td>250</td>\n",
       "    </tr>\n",
       "    <tr>\n",
       "      <th>6</th>\n",
       "      <td>7</td>\n",
       "      <td>2002-10-01</td>\n",
       "      <td>Madrid</td>\n",
       "      <td>Gardening Tips</td>\n",
       "      <td>Store</td>\n",
       "      <td>7</td>\n",
       "      <td>350</td>\n",
       "    </tr>\n",
       "  </tbody>\n",
       "</table>\n",
       "</div>"
      ],
      "text/plain": [
       "   Transid        WHEN   WHERE                    WHAT      HOW  QUANTITY  \\\n",
       "5        6  2002-09-15  Berlin  Photography Essentials  Catalog         5   \n",
       "6        7  2002-10-01  Madrid          Gardening Tips    Store         7   \n",
       "\n",
       "   REVENUE  \n",
       "5      250  \n",
       "6      350  "
      ]
     },
     "execution_count": 23,
     "metadata": {},
     "output_type": "execute_result"
    }
   ],
   "source": [
    "exped.loc[(exped.QUANTITY >= 5) | (exped.REVENUE >= 2500)]"
   ]
  },
  {
   "cell_type": "code",
   "execution_count": 24,
   "id": "d98fe641-8092-4e03-902a-788dfb6b6424",
   "metadata": {},
   "outputs": [
    {
     "data": {
      "text/html": [
       "<div>\n",
       "<style scoped>\n",
       "    .dataframe tbody tr th:only-of-type {\n",
       "        vertical-align: middle;\n",
       "    }\n",
       "\n",
       "    .dataframe tbody tr th {\n",
       "        vertical-align: top;\n",
       "    }\n",
       "\n",
       "    .dataframe thead th {\n",
       "        text-align: right;\n",
       "    }\n",
       "</style>\n",
       "<table border=\"1\" class=\"dataframe\">\n",
       "  <thead>\n",
       "    <tr style=\"text-align: right;\">\n",
       "      <th></th>\n",
       "      <th>country</th>\n",
       "      <th>continent</th>\n",
       "      <th>population</th>\n",
       "      <th>area</th>\n",
       "      <th>gdp</th>\n",
       "    </tr>\n",
       "  </thead>\n",
       "  <tbody>\n",
       "    <tr>\n",
       "      <th>1</th>\n",
       "      <td>France</td>\n",
       "      <td>Europe</td>\n",
       "      <td>2000000</td>\n",
       "      <td>800</td>\n",
       "      <td>1200000000</td>\n",
       "    </tr>\n",
       "  </tbody>\n",
       "</table>\n",
       "</div>"
      ],
      "text/plain": [
       "  country continent  population  area         gdp\n",
       "1  France    Europe     2000000   800  1200000000"
      ]
     },
     "execution_count": 24,
     "metadata": {},
     "output_type": "execute_result"
    }
   ],
   "source": [
    "countries_df.loc[(countries_df['continent'] == 'Europe') & (countries_df['gdp'] >= 1000000000)]\n"
   ]
  },
  {
   "cell_type": "code",
   "execution_count": 25,
   "id": "aac50559-7aae-4325-8713-a88074b89066",
   "metadata": {},
   "outputs": [
    {
     "data": {
      "text/html": [
       "<div>\n",
       "<style scoped>\n",
       "    .dataframe tbody tr th:only-of-type {\n",
       "        vertical-align: middle;\n",
       "    }\n",
       "\n",
       "    .dataframe tbody tr th {\n",
       "        vertical-align: top;\n",
       "    }\n",
       "\n",
       "    .dataframe thead th {\n",
       "        text-align: right;\n",
       "    }\n",
       "</style>\n",
       "<table border=\"1\" class=\"dataframe\">\n",
       "  <thead>\n",
       "    <tr style=\"text-align: right;\">\n",
       "      <th></th>\n",
       "      <th>country</th>\n",
       "      <th>continent</th>\n",
       "      <th>population</th>\n",
       "      <th>area</th>\n",
       "      <th>gdp</th>\n",
       "    </tr>\n",
       "  </thead>\n",
       "  <tbody>\n",
       "    <tr>\n",
       "      <th>4</th>\n",
       "      <td>Brazil</td>\n",
       "      <td>South America</td>\n",
       "      <td>210000000</td>\n",
       "      <td>8500000</td>\n",
       "      <td>2500000000</td>\n",
       "    </tr>\n",
       "    <tr>\n",
       "      <th>7</th>\n",
       "      <td>USA</td>\n",
       "      <td>North America</td>\n",
       "      <td>331000000</td>\n",
       "      <td>9834000</td>\n",
       "      <td>23000000000</td>\n",
       "    </tr>\n",
       "    <tr>\n",
       "      <th>8</th>\n",
       "      <td>India</td>\n",
       "      <td>Asia</td>\n",
       "      <td>1400000000</td>\n",
       "      <td>3287000</td>\n",
       "      <td>3200000000</td>\n",
       "    </tr>\n",
       "    <tr>\n",
       "      <th>9</th>\n",
       "      <td>China</td>\n",
       "      <td>Asia</td>\n",
       "      <td>1440000000</td>\n",
       "      <td>9600000</td>\n",
       "      <td>15000000000</td>\n",
       "    </tr>\n",
       "    <tr>\n",
       "      <th>11</th>\n",
       "      <td>South Africa</td>\n",
       "      <td>Africa</td>\n",
       "      <td>60000000</td>\n",
       "      <td>1219000</td>\n",
       "      <td>350000000</td>\n",
       "    </tr>\n",
       "  </tbody>\n",
       "</table>\n",
       "</div>"
      ],
      "text/plain": [
       "         country      continent  population     area          gdp\n",
       "4         Brazil  South America   210000000  8500000   2500000000\n",
       "7            USA  North America   331000000  9834000  23000000000\n",
       "8          India           Asia  1400000000  3287000   3200000000\n",
       "9          China           Asia  1440000000  9600000  15000000000\n",
       "11  South Africa         Africa    60000000  1219000    350000000"
      ]
     },
     "execution_count": 25,
     "metadata": {},
     "output_type": "execute_result"
    }
   ],
   "source": [
    "countries_df.loc[(countries_df['population'] >= 50000000) | (countries_df['gdp'] >= 2500000000)]\n"
   ]
  },
  {
   "cell_type": "markdown",
   "id": "d9fa1f73-020d-47ab-8e72-15630e3b549b",
   "metadata": {},
   "source": [
    "# GroupBy"
   ]
  },
  {
   "cell_type": "code",
   "execution_count": 26,
   "id": "c5e7ea20-8f48-47ec-86de-4133c55731a5",
   "metadata": {},
   "outputs": [
    {
     "data": {
      "text/html": [
       "<div>\n",
       "<style scoped>\n",
       "    .dataframe tbody tr th:only-of-type {\n",
       "        vertical-align: middle;\n",
       "    }\n",
       "\n",
       "    .dataframe tbody tr th {\n",
       "        vertical-align: top;\n",
       "    }\n",
       "\n",
       "    .dataframe thead th {\n",
       "        text-align: right;\n",
       "    }\n",
       "</style>\n",
       "<table border=\"1\" class=\"dataframe\">\n",
       "  <thead>\n",
       "    <tr style=\"text-align: right;\">\n",
       "      <th></th>\n",
       "      <th>country</th>\n",
       "      <th>continent</th>\n",
       "      <th>population</th>\n",
       "      <th>area</th>\n",
       "      <th>gdp</th>\n",
       "    </tr>\n",
       "  </thead>\n",
       "  <tbody>\n",
       "    <tr>\n",
       "      <th>0</th>\n",
       "      <td>Germany</td>\n",
       "      <td>Europe</td>\n",
       "      <td>1000000</td>\n",
       "      <td>500</td>\n",
       "      <td>500000000</td>\n",
       "    </tr>\n",
       "    <tr>\n",
       "      <th>1</th>\n",
       "      <td>France</td>\n",
       "      <td>Europe</td>\n",
       "      <td>2000000</td>\n",
       "      <td>800</td>\n",
       "      <td>1200000000</td>\n",
       "    </tr>\n",
       "    <tr>\n",
       "      <th>2</th>\n",
       "      <td>Italy</td>\n",
       "      <td>Europe</td>\n",
       "      <td>1500000</td>\n",
       "      <td>600</td>\n",
       "      <td>750000000</td>\n",
       "    </tr>\n",
       "    <tr>\n",
       "      <th>3</th>\n",
       "      <td>Spain</td>\n",
       "      <td>Europe</td>\n",
       "      <td>800000</td>\n",
       "      <td>450</td>\n",
       "      <td>400000000</td>\n",
       "    </tr>\n",
       "    <tr>\n",
       "      <th>4</th>\n",
       "      <td>Brazil</td>\n",
       "      <td>South America</td>\n",
       "      <td>210000000</td>\n",
       "      <td>8500000</td>\n",
       "      <td>2500000000</td>\n",
       "    </tr>\n",
       "    <tr>\n",
       "      <th>5</th>\n",
       "      <td>Argentina</td>\n",
       "      <td>South America</td>\n",
       "      <td>45000000</td>\n",
       "      <td>2780000</td>\n",
       "      <td>500000000</td>\n",
       "    </tr>\n",
       "    <tr>\n",
       "      <th>6</th>\n",
       "      <td>Canada</td>\n",
       "      <td>North America</td>\n",
       "      <td>38000000</td>\n",
       "      <td>9985000</td>\n",
       "      <td>1800000000</td>\n",
       "    </tr>\n",
       "    <tr>\n",
       "      <th>7</th>\n",
       "      <td>USA</td>\n",
       "      <td>North America</td>\n",
       "      <td>331000000</td>\n",
       "      <td>9834000</td>\n",
       "      <td>23000000000</td>\n",
       "    </tr>\n",
       "    <tr>\n",
       "      <th>8</th>\n",
       "      <td>India</td>\n",
       "      <td>Asia</td>\n",
       "      <td>1400000000</td>\n",
       "      <td>3287000</td>\n",
       "      <td>3200000000</td>\n",
       "    </tr>\n",
       "    <tr>\n",
       "      <th>9</th>\n",
       "      <td>China</td>\n",
       "      <td>Asia</td>\n",
       "      <td>1440000000</td>\n",
       "      <td>9600000</td>\n",
       "      <td>15000000000</td>\n",
       "    </tr>\n",
       "  </tbody>\n",
       "</table>\n",
       "</div>"
      ],
      "text/plain": [
       "     country      continent  population     area          gdp\n",
       "0    Germany         Europe     1000000      500    500000000\n",
       "1     France         Europe     2000000      800   1200000000\n",
       "2      Italy         Europe     1500000      600    750000000\n",
       "3      Spain         Europe      800000      450    400000000\n",
       "4     Brazil  South America   210000000  8500000   2500000000\n",
       "5  Argentina  South America    45000000  2780000    500000000\n",
       "6     Canada  North America    38000000  9985000   1800000000\n",
       "7        USA  North America   331000000  9834000  23000000000\n",
       "8      India           Asia  1400000000  3287000   3200000000\n",
       "9      China           Asia  1440000000  9600000  15000000000"
      ]
     },
     "execution_count": 26,
     "metadata": {},
     "output_type": "execute_result"
    }
   ],
   "source": [
    "countries_df.head(10)"
   ]
  },
  {
   "cell_type": "code",
   "execution_count": 27,
   "id": "cc7f5d3b-1b0c-4840-a33a-52aba4ef747a",
   "metadata": {},
   "outputs": [
    {
     "data": {
      "text/plain": [
       "continent\n",
       "Europe           4\n",
       "South America    2\n",
       "North America    2\n",
       "Asia             2\n",
       "Oceania          1\n",
       "Africa           1\n",
       "Name: count, dtype: int64"
      ]
     },
     "execution_count": 27,
     "metadata": {},
     "output_type": "execute_result"
    }
   ],
   "source": [
    "countries_df['continent'].value_counts()"
   ]
  },
  {
   "cell_type": "code",
   "execution_count": 28,
   "id": "15151bf1-6715-4f44-a91f-3cef3889d99c",
   "metadata": {},
   "outputs": [
    {
     "data": {
      "text/html": [
       "<div>\n",
       "<style scoped>\n",
       "    .dataframe tbody tr th:only-of-type {\n",
       "        vertical-align: middle;\n",
       "    }\n",
       "\n",
       "    .dataframe tbody tr th {\n",
       "        vertical-align: top;\n",
       "    }\n",
       "\n",
       "    .dataframe thead th {\n",
       "        text-align: right;\n",
       "    }\n",
       "</style>\n",
       "<table border=\"1\" class=\"dataframe\">\n",
       "  <thead>\n",
       "    <tr style=\"text-align: right;\">\n",
       "      <th></th>\n",
       "      <th>country</th>\n",
       "    </tr>\n",
       "    <tr>\n",
       "      <th>continent</th>\n",
       "      <th></th>\n",
       "    </tr>\n",
       "  </thead>\n",
       "  <tbody>\n",
       "    <tr>\n",
       "      <th>Africa</th>\n",
       "      <td>1</td>\n",
       "    </tr>\n",
       "    <tr>\n",
       "      <th>Asia</th>\n",
       "      <td>2</td>\n",
       "    </tr>\n",
       "    <tr>\n",
       "      <th>Europe</th>\n",
       "      <td>4</td>\n",
       "    </tr>\n",
       "    <tr>\n",
       "      <th>North America</th>\n",
       "      <td>2</td>\n",
       "    </tr>\n",
       "    <tr>\n",
       "      <th>Oceania</th>\n",
       "      <td>1</td>\n",
       "    </tr>\n",
       "    <tr>\n",
       "      <th>South America</th>\n",
       "      <td>2</td>\n",
       "    </tr>\n",
       "  </tbody>\n",
       "</table>\n",
       "</div>"
      ],
      "text/plain": [
       "               country\n",
       "continent             \n",
       "Africa               1\n",
       "Asia                 2\n",
       "Europe               4\n",
       "North America        2\n",
       "Oceania              1\n",
       "South America        2"
      ]
     },
     "execution_count": 28,
     "metadata": {},
     "output_type": "execute_result"
    }
   ],
   "source": [
    "countries_df.groupby(\"continent\")[[\"country\"]].count()\n"
   ]
  },
  {
   "cell_type": "code",
   "execution_count": 29,
   "id": "3b9105c7-12cc-4356-ba25-99e7a7288896",
   "metadata": {},
   "outputs": [
    {
     "data": {
      "text/html": [
       "<div>\n",
       "<style scoped>\n",
       "    .dataframe tbody tr th:only-of-type {\n",
       "        vertical-align: middle;\n",
       "    }\n",
       "\n",
       "    .dataframe tbody tr th {\n",
       "        vertical-align: top;\n",
       "    }\n",
       "\n",
       "    .dataframe thead th {\n",
       "        text-align: right;\n",
       "    }\n",
       "</style>\n",
       "<table border=\"1\" class=\"dataframe\">\n",
       "  <thead>\n",
       "    <tr style=\"text-align: right;\">\n",
       "      <th></th>\n",
       "      <th>population</th>\n",
       "    </tr>\n",
       "    <tr>\n",
       "      <th>continent</th>\n",
       "      <th></th>\n",
       "    </tr>\n",
       "  </thead>\n",
       "  <tbody>\n",
       "    <tr>\n",
       "      <th>Africa</th>\n",
       "      <td>60000000</td>\n",
       "    </tr>\n",
       "    <tr>\n",
       "      <th>Asia</th>\n",
       "      <td>2840000000</td>\n",
       "    </tr>\n",
       "    <tr>\n",
       "      <th>Europe</th>\n",
       "      <td>5300000</td>\n",
       "    </tr>\n",
       "    <tr>\n",
       "      <th>North America</th>\n",
       "      <td>369000000</td>\n",
       "    </tr>\n",
       "    <tr>\n",
       "      <th>Oceania</th>\n",
       "      <td>26000000</td>\n",
       "    </tr>\n",
       "    <tr>\n",
       "      <th>South America</th>\n",
       "      <td>255000000</td>\n",
       "    </tr>\n",
       "  </tbody>\n",
       "</table>\n",
       "</div>"
      ],
      "text/plain": [
       "               population\n",
       "continent                \n",
       "Africa           60000000\n",
       "Asia           2840000000\n",
       "Europe            5300000\n",
       "North America   369000000\n",
       "Oceania          26000000\n",
       "South America   255000000"
      ]
     },
     "execution_count": 29,
     "metadata": {},
     "output_type": "execute_result"
    }
   ],
   "source": [
    "countries_df.groupby('continent')[['population']].sum()\n"
   ]
  },
  {
   "cell_type": "code",
   "execution_count": 30,
   "id": "58621fcc-2e1b-4ca2-98d7-597a44cdf040",
   "metadata": {},
   "outputs": [
    {
     "data": {
      "text/html": [
       "<div>\n",
       "<style scoped>\n",
       "    .dataframe tbody tr th:only-of-type {\n",
       "        vertical-align: middle;\n",
       "    }\n",
       "\n",
       "    .dataframe tbody tr th {\n",
       "        vertical-align: top;\n",
       "    }\n",
       "\n",
       "    .dataframe thead th {\n",
       "        text-align: right;\n",
       "    }\n",
       "</style>\n",
       "<table border=\"1\" class=\"dataframe\">\n",
       "  <thead>\n",
       "    <tr style=\"text-align: right;\">\n",
       "      <th></th>\n",
       "      <th>gdp</th>\n",
       "      <th>area</th>\n",
       "      <th>population</th>\n",
       "    </tr>\n",
       "    <tr>\n",
       "      <th>continent</th>\n",
       "      <th></th>\n",
       "      <th></th>\n",
       "      <th></th>\n",
       "    </tr>\n",
       "  </thead>\n",
       "  <tbody>\n",
       "    <tr>\n",
       "      <th>Africa</th>\n",
       "      <td>350000000</td>\n",
       "      <td>1219000</td>\n",
       "      <td>60000000</td>\n",
       "    </tr>\n",
       "    <tr>\n",
       "      <th>Asia</th>\n",
       "      <td>18200000000</td>\n",
       "      <td>12887000</td>\n",
       "      <td>2840000000</td>\n",
       "    </tr>\n",
       "    <tr>\n",
       "      <th>Europe</th>\n",
       "      <td>2850000000</td>\n",
       "      <td>2350</td>\n",
       "      <td>5300000</td>\n",
       "    </tr>\n",
       "    <tr>\n",
       "      <th>North America</th>\n",
       "      <td>24800000000</td>\n",
       "      <td>19819000</td>\n",
       "      <td>369000000</td>\n",
       "    </tr>\n",
       "    <tr>\n",
       "      <th>Oceania</th>\n",
       "      <td>1400000000</td>\n",
       "      <td>7692000</td>\n",
       "      <td>26000000</td>\n",
       "    </tr>\n",
       "    <tr>\n",
       "      <th>South America</th>\n",
       "      <td>3000000000</td>\n",
       "      <td>11280000</td>\n",
       "      <td>255000000</td>\n",
       "    </tr>\n",
       "  </tbody>\n",
       "</table>\n",
       "</div>"
      ],
      "text/plain": [
       "                       gdp      area  population\n",
       "continent                                       \n",
       "Africa           350000000   1219000    60000000\n",
       "Asia           18200000000  12887000  2840000000\n",
       "Europe          2850000000      2350     5300000\n",
       "North America  24800000000  19819000   369000000\n",
       "Oceania         1400000000   7692000    26000000\n",
       "South America   3000000000  11280000   255000000"
      ]
     },
     "execution_count": 30,
     "metadata": {},
     "output_type": "execute_result"
    }
   ],
   "source": [
    "countries_df.groupby(\"continent\")[[\"gdp\", \"area\",\"population\"]].sum()\n"
   ]
  },
  {
   "cell_type": "code",
   "execution_count": 31,
   "id": "29c3bd12-baa5-4230-962a-51b31ca24cd4",
   "metadata": {},
   "outputs": [
    {
     "data": {
      "text/html": [
       "<div>\n",
       "<style scoped>\n",
       "    .dataframe tbody tr th:only-of-type {\n",
       "        vertical-align: middle;\n",
       "    }\n",
       "\n",
       "    .dataframe tbody tr th {\n",
       "        vertical-align: top;\n",
       "    }\n",
       "\n",
       "    .dataframe thead th {\n",
       "        text-align: right;\n",
       "    }\n",
       "</style>\n",
       "<table border=\"1\" class=\"dataframe\">\n",
       "  <thead>\n",
       "    <tr style=\"text-align: right;\">\n",
       "      <th></th>\n",
       "      <th>population</th>\n",
       "      <th>gdp</th>\n",
       "    </tr>\n",
       "    <tr>\n",
       "      <th>continent</th>\n",
       "      <th></th>\n",
       "      <th></th>\n",
       "    </tr>\n",
       "  </thead>\n",
       "  <tbody>\n",
       "    <tr>\n",
       "      <th>Africa</th>\n",
       "      <td>6.000000e+07</td>\n",
       "      <td>3.500000e+08</td>\n",
       "    </tr>\n",
       "    <tr>\n",
       "      <th>Asia</th>\n",
       "      <td>1.420000e+09</td>\n",
       "      <td>9.100000e+09</td>\n",
       "    </tr>\n",
       "    <tr>\n",
       "      <th>Europe</th>\n",
       "      <td>1.325000e+06</td>\n",
       "      <td>7.125000e+08</td>\n",
       "    </tr>\n",
       "    <tr>\n",
       "      <th>North America</th>\n",
       "      <td>1.845000e+08</td>\n",
       "      <td>1.240000e+10</td>\n",
       "    </tr>\n",
       "    <tr>\n",
       "      <th>Oceania</th>\n",
       "      <td>2.600000e+07</td>\n",
       "      <td>1.400000e+09</td>\n",
       "    </tr>\n",
       "    <tr>\n",
       "      <th>South America</th>\n",
       "      <td>1.275000e+08</td>\n",
       "      <td>1.500000e+09</td>\n",
       "    </tr>\n",
       "  </tbody>\n",
       "</table>\n",
       "</div>"
      ],
      "text/plain": [
       "                 population           gdp\n",
       "continent                                \n",
       "Africa         6.000000e+07  3.500000e+08\n",
       "Asia           1.420000e+09  9.100000e+09\n",
       "Europe         1.325000e+06  7.125000e+08\n",
       "North America  1.845000e+08  1.240000e+10\n",
       "Oceania        2.600000e+07  1.400000e+09\n",
       "South America  1.275000e+08  1.500000e+09"
      ]
     },
     "execution_count": 31,
     "metadata": {},
     "output_type": "execute_result"
    }
   ],
   "source": [
    "countries_df.groupby(\"continent\")[[\"population\", \"gdp\"]].mean()"
   ]
  },
  {
   "cell_type": "code",
   "execution_count": 32,
   "id": "89dec6ff-f52a-4cf0-8908-bf2745e347c6",
   "metadata": {},
   "outputs": [
    {
     "data": {
      "text/html": [
       "<div>\n",
       "<style scoped>\n",
       "    .dataframe tbody tr th:only-of-type {\n",
       "        vertical-align: middle;\n",
       "    }\n",
       "\n",
       "    .dataframe tbody tr th {\n",
       "        vertical-align: top;\n",
       "    }\n",
       "\n",
       "    .dataframe thead th {\n",
       "        text-align: right;\n",
       "    }\n",
       "</style>\n",
       "<table border=\"1\" class=\"dataframe\">\n",
       "  <thead>\n",
       "    <tr style=\"text-align: right;\">\n",
       "      <th></th>\n",
       "      <th>Transid</th>\n",
       "      <th>WHEN</th>\n",
       "      <th>WHERE</th>\n",
       "      <th>WHAT</th>\n",
       "      <th>HOW</th>\n",
       "      <th>QUANTITY</th>\n",
       "      <th>REVENUE</th>\n",
       "    </tr>\n",
       "  </thead>\n",
       "  <tbody>\n",
       "    <tr>\n",
       "      <th>0</th>\n",
       "      <td>1</td>\n",
       "      <td>2002-11-30</td>\n",
       "      <td>Paris</td>\n",
       "      <td>Exploring in 10 Easy Lessons</td>\n",
       "      <td>Store</td>\n",
       "      <td>4</td>\n",
       "      <td>80</td>\n",
       "    </tr>\n",
       "    <tr>\n",
       "      <th>1</th>\n",
       "      <td>2</td>\n",
       "      <td>2002-10-20</td>\n",
       "      <td>London</td>\n",
       "      <td>Mastering the Art of Cooking</td>\n",
       "      <td>Catalog</td>\n",
       "      <td>3</td>\n",
       "      <td>1794</td>\n",
       "    </tr>\n",
       "    <tr>\n",
       "      <th>2</th>\n",
       "      <td>3</td>\n",
       "      <td>2002-11-07</td>\n",
       "      <td>Paris</td>\n",
       "      <td>Exploring in 10 Easy Lessons</td>\n",
       "      <td>Store</td>\n",
       "      <td>2</td>\n",
       "      <td>16</td>\n",
       "    </tr>\n",
       "    <tr>\n",
       "      <th>3</th>\n",
       "      <td>4</td>\n",
       "      <td>2002-07-28</td>\n",
       "      <td>London</td>\n",
       "      <td>Advanced Robotics</td>\n",
       "      <td>Store</td>\n",
       "      <td>3</td>\n",
       "      <td>885</td>\n",
       "    </tr>\n",
       "    <tr>\n",
       "      <th>4</th>\n",
       "      <td>5</td>\n",
       "      <td>2002-08-05</td>\n",
       "      <td>Paris</td>\n",
       "      <td>Learn to Code</td>\n",
       "      <td>Store</td>\n",
       "      <td>3</td>\n",
       "      <td>165</td>\n",
       "    </tr>\n",
       "    <tr>\n",
       "      <th>5</th>\n",
       "      <td>6</td>\n",
       "      <td>2002-09-15</td>\n",
       "      <td>Berlin</td>\n",
       "      <td>Photography Essentials</td>\n",
       "      <td>Catalog</td>\n",
       "      <td>5</td>\n",
       "      <td>250</td>\n",
       "    </tr>\n",
       "    <tr>\n",
       "      <th>6</th>\n",
       "      <td>7</td>\n",
       "      <td>2002-10-01</td>\n",
       "      <td>Madrid</td>\n",
       "      <td>Gardening Tips</td>\n",
       "      <td>Store</td>\n",
       "      <td>7</td>\n",
       "      <td>350</td>\n",
       "    </tr>\n",
       "  </tbody>\n",
       "</table>\n",
       "</div>"
      ],
      "text/plain": [
       "   Transid        WHEN   WHERE                          WHAT      HOW  \\\n",
       "0        1  2002-11-30   Paris  Exploring in 10 Easy Lessons    Store   \n",
       "1        2  2002-10-20  London  Mastering the Art of Cooking  Catalog   \n",
       "2        3  2002-11-07   Paris  Exploring in 10 Easy Lessons    Store   \n",
       "3        4  2002-07-28  London             Advanced Robotics    Store   \n",
       "4        5  2002-08-05   Paris                 Learn to Code    Store   \n",
       "5        6  2002-09-15  Berlin        Photography Essentials  Catalog   \n",
       "6        7  2002-10-01  Madrid                Gardening Tips    Store   \n",
       "\n",
       "   QUANTITY  REVENUE  \n",
       "0         4       80  \n",
       "1         3     1794  \n",
       "2         2       16  \n",
       "3         3      885  \n",
       "4         3      165  \n",
       "5         5      250  \n",
       "6         7      350  "
      ]
     },
     "execution_count": 32,
     "metadata": {},
     "output_type": "execute_result"
    }
   ],
   "source": [
    "exped"
   ]
  },
  {
   "cell_type": "code",
   "execution_count": 33,
   "id": "dadc957b-9cf6-4ca9-b2c3-4d7cd4abbd75",
   "metadata": {},
   "outputs": [
    {
     "data": {
      "text/html": [
       "<div>\n",
       "<style scoped>\n",
       "    .dataframe tbody tr th:only-of-type {\n",
       "        vertical-align: middle;\n",
       "    }\n",
       "\n",
       "    .dataframe tbody tr th {\n",
       "        vertical-align: top;\n",
       "    }\n",
       "\n",
       "    .dataframe thead th {\n",
       "        text-align: right;\n",
       "    }\n",
       "</style>\n",
       "<table border=\"1\" class=\"dataframe\">\n",
       "  <thead>\n",
       "    <tr style=\"text-align: right;\">\n",
       "      <th></th>\n",
       "      <th>QUANTITY</th>\n",
       "      <th>REVENUE</th>\n",
       "    </tr>\n",
       "    <tr>\n",
       "      <th>WHERE</th>\n",
       "      <th></th>\n",
       "      <th></th>\n",
       "    </tr>\n",
       "  </thead>\n",
       "  <tbody>\n",
       "    <tr>\n",
       "      <th>Berlin</th>\n",
       "      <td>5</td>\n",
       "      <td>250</td>\n",
       "    </tr>\n",
       "    <tr>\n",
       "      <th>London</th>\n",
       "      <td>6</td>\n",
       "      <td>2679</td>\n",
       "    </tr>\n",
       "    <tr>\n",
       "      <th>Madrid</th>\n",
       "      <td>7</td>\n",
       "      <td>350</td>\n",
       "    </tr>\n",
       "    <tr>\n",
       "      <th>Paris</th>\n",
       "      <td>9</td>\n",
       "      <td>261</td>\n",
       "    </tr>\n",
       "  </tbody>\n",
       "</table>\n",
       "</div>"
      ],
      "text/plain": [
       "        QUANTITY  REVENUE\n",
       "WHERE                    \n",
       "Berlin         5      250\n",
       "London         6     2679\n",
       "Madrid         7      350\n",
       "Paris          9      261"
      ]
     },
     "execution_count": 33,
     "metadata": {},
     "output_type": "execute_result"
    }
   ],
   "source": [
    "exped.groupby(\"WHERE\")[[\"QUANTITY\", \"REVENUE\"]].sum()"
   ]
  },
  {
   "cell_type": "code",
   "execution_count": 34,
   "id": "60daa13c-3a2e-4d10-adbd-1741f8e9a4a0",
   "metadata": {},
   "outputs": [
    {
     "data": {
      "text/plain": [
       "HOW      WHERE \n",
       "Catalog  Berlin     250.0\n",
       "         London    1794.0\n",
       "Store    London     885.0\n",
       "         Madrid     350.0\n",
       "         Paris       87.0\n",
       "Name: REVENUE, dtype: float64"
      ]
     },
     "execution_count": 34,
     "metadata": {},
     "output_type": "execute_result"
    }
   ],
   "source": [
    "a = exped.groupby(['HOW','WHERE'])['REVENUE'].mean()\n",
    "a"
   ]
  },
  {
   "cell_type": "markdown",
   "id": "f3b11d3b-665e-430a-ab13-14ee2888c6d3",
   "metadata": {},
   "source": [
    "# Pivot Table\n",
    "\n",
    "A pivot table in pandas allows you to summarize, aggregate, and reshape data flexibly. It’s particularly useful for organizing data based on specific rows (index), columns (columns), and values (values) with aggregation functions like sum, mean, count, et"
   ]
  },
  {
   "cell_type": "code",
   "execution_count": 35,
   "id": "4d55ace0-be66-4033-8e1c-c39046a693d2",
   "metadata": {},
   "outputs": [
    {
     "data": {
      "text/html": [
       "<div>\n",
       "<style scoped>\n",
       "    .dataframe tbody tr th:only-of-type {\n",
       "        vertical-align: middle;\n",
       "    }\n",
       "\n",
       "    .dataframe tbody tr th {\n",
       "        vertical-align: top;\n",
       "    }\n",
       "\n",
       "    .dataframe thead th {\n",
       "        text-align: right;\n",
       "    }\n",
       "</style>\n",
       "<table border=\"1\" class=\"dataframe\">\n",
       "  <thead>\n",
       "    <tr style=\"text-align: right;\">\n",
       "      <th></th>\n",
       "      <th>country</th>\n",
       "      <th>continent</th>\n",
       "      <th>population</th>\n",
       "      <th>area</th>\n",
       "      <th>gdp</th>\n",
       "    </tr>\n",
       "  </thead>\n",
       "  <tbody>\n",
       "    <tr>\n",
       "      <th>0</th>\n",
       "      <td>Germany</td>\n",
       "      <td>Europe</td>\n",
       "      <td>1000000</td>\n",
       "      <td>500</td>\n",
       "      <td>500000000</td>\n",
       "    </tr>\n",
       "    <tr>\n",
       "      <th>1</th>\n",
       "      <td>France</td>\n",
       "      <td>Europe</td>\n",
       "      <td>2000000</td>\n",
       "      <td>800</td>\n",
       "      <td>1200000000</td>\n",
       "    </tr>\n",
       "    <tr>\n",
       "      <th>2</th>\n",
       "      <td>Italy</td>\n",
       "      <td>Europe</td>\n",
       "      <td>1500000</td>\n",
       "      <td>600</td>\n",
       "      <td>750000000</td>\n",
       "    </tr>\n",
       "    <tr>\n",
       "      <th>3</th>\n",
       "      <td>Spain</td>\n",
       "      <td>Europe</td>\n",
       "      <td>800000</td>\n",
       "      <td>450</td>\n",
       "      <td>400000000</td>\n",
       "    </tr>\n",
       "    <tr>\n",
       "      <th>4</th>\n",
       "      <td>Brazil</td>\n",
       "      <td>South America</td>\n",
       "      <td>210000000</td>\n",
       "      <td>8500000</td>\n",
       "      <td>2500000000</td>\n",
       "    </tr>\n",
       "  </tbody>\n",
       "</table>\n",
       "</div>"
      ],
      "text/plain": [
       "   country      continent  population     area         gdp\n",
       "0  Germany         Europe     1000000      500   500000000\n",
       "1   France         Europe     2000000      800  1200000000\n",
       "2    Italy         Europe     1500000      600   750000000\n",
       "3    Spain         Europe      800000      450   400000000\n",
       "4   Brazil  South America   210000000  8500000  2500000000"
      ]
     },
     "execution_count": 35,
     "metadata": {},
     "output_type": "execute_result"
    }
   ],
   "source": [
    "countries_df.head()"
   ]
  },
  {
   "cell_type": "code",
   "execution_count": 40,
   "id": "bde880dd-0f55-420b-9856-ab2fc4b5d90e",
   "metadata": {},
   "outputs": [
    {
     "data": {
      "text/html": [
       "<div>\n",
       "<style scoped>\n",
       "    .dataframe tbody tr th:only-of-type {\n",
       "        vertical-align: middle;\n",
       "    }\n",
       "\n",
       "    .dataframe tbody tr th {\n",
       "        vertical-align: top;\n",
       "    }\n",
       "\n",
       "    .dataframe thead th {\n",
       "        text-align: right;\n",
       "    }\n",
       "</style>\n",
       "<table border=\"1\" class=\"dataframe\">\n",
       "  <thead>\n",
       "    <tr style=\"text-align: right;\">\n",
       "      <th></th>\n",
       "      <th>country</th>\n",
       "      <th>continent</th>\n",
       "      <th>population</th>\n",
       "      <th>area</th>\n",
       "      <th>gdp</th>\n",
       "    </tr>\n",
       "  </thead>\n",
       "  <tbody>\n",
       "    <tr>\n",
       "      <th>7</th>\n",
       "      <td>USA</td>\n",
       "      <td>North America</td>\n",
       "      <td>331000000</td>\n",
       "      <td>9834000</td>\n",
       "      <td>23000000000</td>\n",
       "    </tr>\n",
       "    <tr>\n",
       "      <th>3</th>\n",
       "      <td>Spain</td>\n",
       "      <td>Europe</td>\n",
       "      <td>800000</td>\n",
       "      <td>450</td>\n",
       "      <td>400000000</td>\n",
       "    </tr>\n",
       "    <tr>\n",
       "      <th>11</th>\n",
       "      <td>South Africa</td>\n",
       "      <td>Africa</td>\n",
       "      <td>60000000</td>\n",
       "      <td>1219000</td>\n",
       "      <td>350000000</td>\n",
       "    </tr>\n",
       "    <tr>\n",
       "      <th>2</th>\n",
       "      <td>Italy</td>\n",
       "      <td>Europe</td>\n",
       "      <td>1500000</td>\n",
       "      <td>600</td>\n",
       "      <td>750000000</td>\n",
       "    </tr>\n",
       "    <tr>\n",
       "      <th>8</th>\n",
       "      <td>India</td>\n",
       "      <td>Asia</td>\n",
       "      <td>1400000000</td>\n",
       "      <td>3287000</td>\n",
       "      <td>3200000000</td>\n",
       "    </tr>\n",
       "    <tr>\n",
       "      <th>0</th>\n",
       "      <td>Germany</td>\n",
       "      <td>Europe</td>\n",
       "      <td>1000000</td>\n",
       "      <td>500</td>\n",
       "      <td>500000000</td>\n",
       "    </tr>\n",
       "    <tr>\n",
       "      <th>1</th>\n",
       "      <td>France</td>\n",
       "      <td>Europe</td>\n",
       "      <td>2000000</td>\n",
       "      <td>800</td>\n",
       "      <td>1200000000</td>\n",
       "    </tr>\n",
       "    <tr>\n",
       "      <th>9</th>\n",
       "      <td>China</td>\n",
       "      <td>Asia</td>\n",
       "      <td>1440000000</td>\n",
       "      <td>9600000</td>\n",
       "      <td>15000000000</td>\n",
       "    </tr>\n",
       "    <tr>\n",
       "      <th>6</th>\n",
       "      <td>Canada</td>\n",
       "      <td>North America</td>\n",
       "      <td>38000000</td>\n",
       "      <td>9985000</td>\n",
       "      <td>1800000000</td>\n",
       "    </tr>\n",
       "    <tr>\n",
       "      <th>4</th>\n",
       "      <td>Brazil</td>\n",
       "      <td>South America</td>\n",
       "      <td>210000000</td>\n",
       "      <td>8500000</td>\n",
       "      <td>2500000000</td>\n",
       "    </tr>\n",
       "    <tr>\n",
       "      <th>10</th>\n",
       "      <td>Australia</td>\n",
       "      <td>Oceania</td>\n",
       "      <td>26000000</td>\n",
       "      <td>7692000</td>\n",
       "      <td>1400000000</td>\n",
       "    </tr>\n",
       "    <tr>\n",
       "      <th>5</th>\n",
       "      <td>Argentina</td>\n",
       "      <td>South America</td>\n",
       "      <td>45000000</td>\n",
       "      <td>2780000</td>\n",
       "      <td>500000000</td>\n",
       "    </tr>\n",
       "  </tbody>\n",
       "</table>\n",
       "</div>"
      ],
      "text/plain": [
       "         country      continent  population     area          gdp\n",
       "7            USA  North America   331000000  9834000  23000000000\n",
       "3          Spain         Europe      800000      450    400000000\n",
       "11  South Africa         Africa    60000000  1219000    350000000\n",
       "2          Italy         Europe     1500000      600    750000000\n",
       "8          India           Asia  1400000000  3287000   3200000000\n",
       "0        Germany         Europe     1000000      500    500000000\n",
       "1         France         Europe     2000000      800   1200000000\n",
       "9          China           Asia  1440000000  9600000  15000000000\n",
       "6         Canada  North America    38000000  9985000   1800000000\n",
       "4         Brazil  South America   210000000  8500000   2500000000\n",
       "10     Australia        Oceania    26000000  7692000   1400000000\n",
       "5      Argentina  South America    45000000  2780000    500000000"
      ]
     },
     "execution_count": 40,
     "metadata": {},
     "output_type": "execute_result"
    }
   ],
   "source": [
    "countries_df.sort_values(by=\"country\",ascending=False)"
   ]
  },
  {
   "cell_type": "code",
   "execution_count": 37,
   "id": "7bd5fc59-c9e2-4aef-83ad-dc6eb9256e66",
   "metadata": {},
   "outputs": [
    {
     "data": {
      "text/plain": [
       "continent\n",
       "Africa             350000000\n",
       "Asia             18200000000\n",
       "Europe            2850000000\n",
       "North America    24800000000\n",
       "Oceania           1400000000\n",
       "South America     3000000000\n",
       "Name: gdp, dtype: int64"
      ]
     },
     "execution_count": 37,
     "metadata": {},
     "output_type": "execute_result"
    }
   ],
   "source": [
    "countries_df.groupby(\"continent\")[\"gdp\"].sum()"
   ]
  },
  {
   "cell_type": "code",
   "execution_count": 47,
   "id": "7c18cd1a-d5f6-418f-8c6c-9bc46782718c",
   "metadata": {},
   "outputs": [
    {
     "name": "stdout",
     "output_type": "stream",
     "text": [
      "                       gdp\n",
      "continent                 \n",
      "Africa           350000000\n",
      "Asia           18200000000\n",
      "Europe          2850000000\n",
      "North America  24800000000\n",
      "Oceania         1400000000\n",
      "South America   3000000000\n"
     ]
    }
   ],
   "source": [
    "# Basic pivot table to see total GDP by continent\n",
    "pivot_table=countries_df.pivot_table(\n",
    "    values='gdp', \n",
    "    index='continent', \n",
    "    aggfunc='sum'\n",
    ")\n",
    "\n",
    "print(pivot_table)\n"
   ]
  },
  {
   "cell_type": "code",
   "execution_count": 50,
   "id": "a16aea34-6c92-4c6f-9cb1-9ce9eddfd84a",
   "metadata": {},
   "outputs": [
    {
     "name": "stdout",
     "output_type": "stream",
     "text": [
      "                       gdp\n",
      "continent                 \n",
      "Africa           350000000\n",
      "Asia           18200000000\n",
      "Europe          2850000000\n",
      "North America  24800000000\n",
      "Oceania         1400000000\n",
      "South America   3000000000\n"
     ]
    }
   ],
   "source": [
    "pivot_table=pd.pivot_table(\n",
    "    countries_df,\n",
    "    values='gdp', \n",
    "    index='continent', \n",
    "    aggfunc='sum'\n",
    ")\n",
    "\n",
    "print(pivot_table)"
   ]
  },
  {
   "cell_type": "code",
   "execution_count": 51,
   "id": "1330e680-b8f2-4635-975b-76e57b1ea83d",
   "metadata": {},
   "outputs": [],
   "source": [
    "# countries_df.groupby(\"continent\")[[\"gdp\"]].sum()"
   ]
  },
  {
   "cell_type": "code",
   "execution_count": null,
   "id": "c77cc9fe-7a02-49a8-a7d8-320de0e43487",
   "metadata": {},
   "outputs": [],
   "source": []
  },
  {
   "cell_type": "code",
   "execution_count": 42,
   "id": "3c647c85-3204-4e39-a3f8-655c4fb934dc",
   "metadata": {},
   "outputs": [
    {
     "data": {
      "text/html": [
       "<div>\n",
       "<style scoped>\n",
       "    .dataframe tbody tr th:only-of-type {\n",
       "        vertical-align: middle;\n",
       "    }\n",
       "\n",
       "    .dataframe tbody tr th {\n",
       "        vertical-align: top;\n",
       "    }\n",
       "\n",
       "    .dataframe thead th {\n",
       "        text-align: right;\n",
       "    }\n",
       "</style>\n",
       "<table border=\"1\" class=\"dataframe\">\n",
       "  <thead>\n",
       "    <tr style=\"text-align: right;\">\n",
       "      <th></th>\n",
       "      <th>gdp</th>\n",
       "    </tr>\n",
       "    <tr>\n",
       "      <th>continent</th>\n",
       "      <th></th>\n",
       "    </tr>\n",
       "  </thead>\n",
       "  <tbody>\n",
       "    <tr>\n",
       "      <th>Africa</th>\n",
       "      <td>350000000</td>\n",
       "    </tr>\n",
       "    <tr>\n",
       "      <th>Asia</th>\n",
       "      <td>18200000000</td>\n",
       "    </tr>\n",
       "    <tr>\n",
       "      <th>Europe</th>\n",
       "      <td>2850000000</td>\n",
       "    </tr>\n",
       "    <tr>\n",
       "      <th>North America</th>\n",
       "      <td>24800000000</td>\n",
       "    </tr>\n",
       "    <tr>\n",
       "      <th>Oceania</th>\n",
       "      <td>1400000000</td>\n",
       "    </tr>\n",
       "    <tr>\n",
       "      <th>South America</th>\n",
       "      <td>3000000000</td>\n",
       "    </tr>\n",
       "  </tbody>\n",
       "</table>\n",
       "</div>"
      ],
      "text/plain": [
       "                       gdp\n",
       "continent                 \n",
       "Africa           350000000\n",
       "Asia           18200000000\n",
       "Europe          2850000000\n",
       "North America  24800000000\n",
       "Oceania         1400000000\n",
       "South America   3000000000"
      ]
     },
     "execution_count": 42,
     "metadata": {},
     "output_type": "execute_result"
    }
   ],
   "source": [
    "# Basic pivot table to see total GDP by continent\n",
    "pivot_table = countries_df.pivot_table(\n",
    "    values='gdp', \n",
    "    index='continent', \n",
    "    aggfunc='sum'\n",
    ")\n",
    "\n",
    "(pivot_table)\n"
   ]
  },
  {
   "cell_type": "code",
   "execution_count": null,
   "id": "4b2ac6cf-1186-4980-84a9-ea048dde762c",
   "metadata": {},
   "outputs": [],
   "source": []
  },
  {
   "cell_type": "code",
   "execution_count": 52,
   "id": "9e8d86ef-09fc-4217-9e9c-07f5af3982ef",
   "metadata": {},
   "outputs": [
    {
     "data": {
      "text/plain": [
       "<AxesSubplot:xlabel='continent'>"
      ]
     },
     "execution_count": 52,
     "metadata": {},
     "output_type": "execute_result"
    },
    {
     "data": {
      "image/png": "[encoded data removed]",
      "text/plain": [
       "<Figure size 640x480 with 1 Axes>"
      ]
     },
     "metadata": {},
     "output_type": "display_data"
    }
   ],
   "source": [
    "pivot_table.plot(kind='bar')"
   ]
  },
  {
   "cell_type": "code",
   "execution_count": 54,
   "id": "f47aed87-2d31-44f5-b397-f33612a09ffd",
   "metadata": {},
   "outputs": [
    {
     "data": {
      "text/html": [
       "<div>\n",
       "<style scoped>\n",
       "    .dataframe tbody tr th:only-of-type {\n",
       "        vertical-align: middle;\n",
       "    }\n",
       "\n",
       "    .dataframe tbody tr th {\n",
       "        vertical-align: top;\n",
       "    }\n",
       "\n",
       "    .dataframe thead th {\n",
       "        text-align: right;\n",
       "    }\n",
       "</style>\n",
       "<table border=\"1\" class=\"dataframe\">\n",
       "  <thead>\n",
       "    <tr style=\"text-align: right;\">\n",
       "      <th></th>\n",
       "      <th>continent</th>\n",
       "    </tr>\n",
       "    <tr>\n",
       "      <th>country</th>\n",
       "      <th></th>\n",
       "    </tr>\n",
       "  </thead>\n",
       "  <tbody>\n",
       "    <tr>\n",
       "      <th>Argentina</th>\n",
       "      <td>1</td>\n",
       "    </tr>\n",
       "    <tr>\n",
       "      <th>Australia</th>\n",
       "      <td>1</td>\n",
       "    </tr>\n",
       "    <tr>\n",
       "      <th>Brazil</th>\n",
       "      <td>1</td>\n",
       "    </tr>\n",
       "    <tr>\n",
       "      <th>Canada</th>\n",
       "      <td>1</td>\n",
       "    </tr>\n",
       "    <tr>\n",
       "      <th>China</th>\n",
       "      <td>1</td>\n",
       "    </tr>\n",
       "    <tr>\n",
       "      <th>France</th>\n",
       "      <td>1</td>\n",
       "    </tr>\n",
       "    <tr>\n",
       "      <th>Germany</th>\n",
       "      <td>1</td>\n",
       "    </tr>\n",
       "    <tr>\n",
       "      <th>India</th>\n",
       "      <td>1</td>\n",
       "    </tr>\n",
       "    <tr>\n",
       "      <th>Italy</th>\n",
       "      <td>1</td>\n",
       "    </tr>\n",
       "    <tr>\n",
       "      <th>South Africa</th>\n",
       "      <td>1</td>\n",
       "    </tr>\n",
       "    <tr>\n",
       "      <th>Spain</th>\n",
       "      <td>1</td>\n",
       "    </tr>\n",
       "    <tr>\n",
       "      <th>USA</th>\n",
       "      <td>1</td>\n",
       "    </tr>\n",
       "  </tbody>\n",
       "</table>\n",
       "</div>"
      ],
      "text/plain": [
       "              continent\n",
       "country                \n",
       "Argentina             1\n",
       "Australia             1\n",
       "Brazil                1\n",
       "Canada                1\n",
       "China                 1\n",
       "France                1\n",
       "Germany               1\n",
       "India                 1\n",
       "Italy                 1\n",
       "South Africa          1\n",
       "Spain                 1\n",
       "USA                   1"
      ]
     },
     "execution_count": 54,
     "metadata": {},
     "output_type": "execute_result"
    }
   ],
   "source": [
    "countries_df.groupby(\"country\")[[\"continent\"]].count()\n"
   ]
  },
  {
   "cell_type": "code",
   "execution_count": 55,
   "id": "4f0c1f3d-08ed-426a-8f3e-f6ce8569e9b6",
   "metadata": {},
   "outputs": [
    {
     "data": {
      "text/html": [
       "<div>\n",
       "<style scoped>\n",
       "    .dataframe tbody tr th:only-of-type {\n",
       "        vertical-align: middle;\n",
       "    }\n",
       "\n",
       "    .dataframe tbody tr th {\n",
       "        vertical-align: top;\n",
       "    }\n",
       "\n",
       "    .dataframe thead th {\n",
       "        text-align: right;\n",
       "    }\n",
       "</style>\n",
       "<table border=\"1\" class=\"dataframe\">\n",
       "  <thead>\n",
       "    <tr style=\"text-align: right;\">\n",
       "      <th></th>\n",
       "      <th>country</th>\n",
       "    </tr>\n",
       "    <tr>\n",
       "      <th>continent</th>\n",
       "      <th></th>\n",
       "    </tr>\n",
       "  </thead>\n",
       "  <tbody>\n",
       "    <tr>\n",
       "      <th>Africa</th>\n",
       "      <td>1</td>\n",
       "    </tr>\n",
       "    <tr>\n",
       "      <th>Asia</th>\n",
       "      <td>2</td>\n",
       "    </tr>\n",
       "    <tr>\n",
       "      <th>Europe</th>\n",
       "      <td>4</td>\n",
       "    </tr>\n",
       "    <tr>\n",
       "      <th>North America</th>\n",
       "      <td>2</td>\n",
       "    </tr>\n",
       "    <tr>\n",
       "      <th>Oceania</th>\n",
       "      <td>1</td>\n",
       "    </tr>\n",
       "    <tr>\n",
       "      <th>South America</th>\n",
       "      <td>2</td>\n",
       "    </tr>\n",
       "  </tbody>\n",
       "</table>\n",
       "</div>"
      ],
      "text/plain": [
       "               country\n",
       "continent             \n",
       "Africa               1\n",
       "Asia                 2\n",
       "Europe               4\n",
       "North America        2\n",
       "Oceania              1\n",
       "South America        2"
      ]
     },
     "execution_count": 55,
     "metadata": {},
     "output_type": "execute_result"
    }
   ],
   "source": [
    "countries_df.groupby(\"continent\")[[\"country\"]].count()\n"
   ]
  },
  {
   "cell_type": "code",
   "execution_count": 56,
   "id": "6db5d335-2c12-45bf-a06d-8aa58f1d6233",
   "metadata": {},
   "outputs": [
    {
     "data": {
      "text/plain": [
       "continent\n",
       "Europe           4\n",
       "South America    2\n",
       "North America    2\n",
       "Asia             2\n",
       "Oceania          1\n",
       "Africa           1\n",
       "Name: count, dtype: int64"
      ]
     },
     "execution_count": 56,
     "metadata": {},
     "output_type": "execute_result"
    }
   ],
   "source": [
    "countries_df['continent'].value_counts()"
   ]
  },
  {
   "cell_type": "code",
   "execution_count": 57,
   "id": "3b503d9c-166e-4fb7-a02a-dbacfde12b9e",
   "metadata": {},
   "outputs": [
    {
     "name": "stdout",
     "output_type": "stream",
     "text": [
      "               country\n",
      "continent             \n",
      "Africa               1\n",
      "Asia                 2\n",
      "Europe               4\n",
      "North America        2\n",
      "Oceania              1\n",
      "South America        2\n"
     ]
    }
   ],
   "source": [
    "pivot_country_count = countries_df.pivot_table(\n",
    "    values='country', \n",
    "    index='continent', \n",
    "    aggfunc='count'\n",
    ")\n",
    "print(pivot_country_count)\n"
   ]
  },
  {
   "cell_type": "code",
   "execution_count": null,
   "id": "73a8e4af-51d8-43a9-8da7-4a25bc89432d",
   "metadata": {},
   "outputs": [],
   "source": [
    "pivot_country_count.plot(kind=\"bar\")"
   ]
  },
  {
   "cell_type": "code",
   "execution_count": null,
   "id": "9f4e67aa-3d6c-4933-b3d3-d27f7266f1a5",
   "metadata": {},
   "outputs": [],
   "source": [
    "countries_df"
   ]
  },
  {
   "cell_type": "code",
   "execution_count": 58,
   "id": "10b8eddc-1032-4485-b1bc-f230f7032932",
   "metadata": {},
   "outputs": [
    {
     "data": {
      "text/html": [
       "<div>\n",
       "<style scoped>\n",
       "    .dataframe tbody tr th:only-of-type {\n",
       "        vertical-align: middle;\n",
       "    }\n",
       "\n",
       "    .dataframe tbody tr th {\n",
       "        vertical-align: top;\n",
       "    }\n",
       "\n",
       "    .dataframe thead th {\n",
       "        text-align: right;\n",
       "    }\n",
       "</style>\n",
       "<table border=\"1\" class=\"dataframe\">\n",
       "  <thead>\n",
       "    <tr style=\"text-align: right;\">\n",
       "      <th>country</th>\n",
       "      <th>Argentina</th>\n",
       "      <th>Australia</th>\n",
       "      <th>Brazil</th>\n",
       "      <th>Canada</th>\n",
       "      <th>China</th>\n",
       "      <th>France</th>\n",
       "      <th>Germany</th>\n",
       "      <th>India</th>\n",
       "      <th>Italy</th>\n",
       "      <th>South Africa</th>\n",
       "      <th>Spain</th>\n",
       "      <th>USA</th>\n",
       "    </tr>\n",
       "    <tr>\n",
       "      <th>continent</th>\n",
       "      <th></th>\n",
       "      <th></th>\n",
       "      <th></th>\n",
       "      <th></th>\n",
       "      <th></th>\n",
       "      <th></th>\n",
       "      <th></th>\n",
       "      <th></th>\n",
       "      <th></th>\n",
       "      <th></th>\n",
       "      <th></th>\n",
       "      <th></th>\n",
       "    </tr>\n",
       "  </thead>\n",
       "  <tbody>\n",
       "    <tr>\n",
       "      <th>Africa</th>\n",
       "      <td>NaN</td>\n",
       "      <td>NaN</td>\n",
       "      <td>NaN</td>\n",
       "      <td>NaN</td>\n",
       "      <td>NaN</td>\n",
       "      <td>NaN</td>\n",
       "      <td>NaN</td>\n",
       "      <td>NaN</td>\n",
       "      <td>NaN</td>\n",
       "      <td>350000000.0</td>\n",
       "      <td>NaN</td>\n",
       "      <td>NaN</td>\n",
       "    </tr>\n",
       "    <tr>\n",
       "      <th>Asia</th>\n",
       "      <td>NaN</td>\n",
       "      <td>NaN</td>\n",
       "      <td>NaN</td>\n",
       "      <td>NaN</td>\n",
       "      <td>1.500000e+10</td>\n",
       "      <td>NaN</td>\n",
       "      <td>NaN</td>\n",
       "      <td>3.200000e+09</td>\n",
       "      <td>NaN</td>\n",
       "      <td>NaN</td>\n",
       "      <td>NaN</td>\n",
       "      <td>NaN</td>\n",
       "    </tr>\n",
       "    <tr>\n",
       "      <th>Europe</th>\n",
       "      <td>NaN</td>\n",
       "      <td>NaN</td>\n",
       "      <td>NaN</td>\n",
       "      <td>NaN</td>\n",
       "      <td>NaN</td>\n",
       "      <td>1.200000e+09</td>\n",
       "      <td>500000000.0</td>\n",
       "      <td>NaN</td>\n",
       "      <td>750000000.0</td>\n",
       "      <td>NaN</td>\n",
       "      <td>400000000.0</td>\n",
       "      <td>NaN</td>\n",
       "    </tr>\n",
       "    <tr>\n",
       "      <th>North America</th>\n",
       "      <td>NaN</td>\n",
       "      <td>NaN</td>\n",
       "      <td>NaN</td>\n",
       "      <td>1.800000e+09</td>\n",
       "      <td>NaN</td>\n",
       "      <td>NaN</td>\n",
       "      <td>NaN</td>\n",
       "      <td>NaN</td>\n",
       "      <td>NaN</td>\n",
       "      <td>NaN</td>\n",
       "      <td>NaN</td>\n",
       "      <td>2.300000e+10</td>\n",
       "    </tr>\n",
       "    <tr>\n",
       "      <th>Oceania</th>\n",
       "      <td>NaN</td>\n",
       "      <td>1.400000e+09</td>\n",
       "      <td>NaN</td>\n",
       "      <td>NaN</td>\n",
       "      <td>NaN</td>\n",
       "      <td>NaN</td>\n",
       "      <td>NaN</td>\n",
       "      <td>NaN</td>\n",
       "      <td>NaN</td>\n",
       "      <td>NaN</td>\n",
       "      <td>NaN</td>\n",
       "      <td>NaN</td>\n",
       "    </tr>\n",
       "    <tr>\n",
       "      <th>South America</th>\n",
       "      <td>500000000.0</td>\n",
       "      <td>NaN</td>\n",
       "      <td>2.500000e+09</td>\n",
       "      <td>NaN</td>\n",
       "      <td>NaN</td>\n",
       "      <td>NaN</td>\n",
       "      <td>NaN</td>\n",
       "      <td>NaN</td>\n",
       "      <td>NaN</td>\n",
       "      <td>NaN</td>\n",
       "      <td>NaN</td>\n",
       "      <td>NaN</td>\n",
       "    </tr>\n",
       "  </tbody>\n",
       "</table>\n",
       "</div>"
      ],
      "text/plain": [
       "country          Argentina     Australia        Brazil        Canada  \\\n",
       "continent                                                              \n",
       "Africa                 NaN           NaN           NaN           NaN   \n",
       "Asia                   NaN           NaN           NaN           NaN   \n",
       "Europe                 NaN           NaN           NaN           NaN   \n",
       "North America          NaN           NaN           NaN  1.800000e+09   \n",
       "Oceania                NaN  1.400000e+09           NaN           NaN   \n",
       "South America  500000000.0           NaN  2.500000e+09           NaN   \n",
       "\n",
       "country               China        France      Germany         India  \\\n",
       "continent                                                              \n",
       "Africa                  NaN           NaN          NaN           NaN   \n",
       "Asia           1.500000e+10           NaN          NaN  3.200000e+09   \n",
       "Europe                  NaN  1.200000e+09  500000000.0           NaN   \n",
       "North America           NaN           NaN          NaN           NaN   \n",
       "Oceania                 NaN           NaN          NaN           NaN   \n",
       "South America           NaN           NaN          NaN           NaN   \n",
       "\n",
       "country              Italy  South Africa        Spain           USA  \n",
       "continent                                                            \n",
       "Africa                 NaN   350000000.0          NaN           NaN  \n",
       "Asia                   NaN           NaN          NaN           NaN  \n",
       "Europe         750000000.0           NaN  400000000.0           NaN  \n",
       "North America          NaN           NaN          NaN  2.300000e+10  \n",
       "Oceania                NaN           NaN          NaN           NaN  \n",
       "South America          NaN           NaN          NaN           NaN  "
      ]
     },
     "execution_count": 58,
     "metadata": {},
     "output_type": "execute_result"
    }
   ],
   "source": [
    "# Create a pivot table with filtering and aggregation\n",
    "pivot_df = pd.pivot_table(\n",
    "    countries_df,\n",
    "    index='continent',\n",
    "    columns='country',\n",
    "    values='gdp',\n",
    "    aggfunc='sum'\n",
    ")\n",
    "\n",
    "pivot_df"
   ]
  },
  {
   "cell_type": "code",
   "execution_count": 59,
   "id": "6e6d2ef9-4c2b-4c80-9329-3bbdab83a6a0",
   "metadata": {},
   "outputs": [
    {
     "data": {
      "text/html": [
       "<div>\n",
       "<style scoped>\n",
       "    .dataframe tbody tr th:only-of-type {\n",
       "        vertical-align: middle;\n",
       "    }\n",
       "\n",
       "    .dataframe tbody tr th {\n",
       "        vertical-align: top;\n",
       "    }\n",
       "\n",
       "    .dataframe thead th {\n",
       "        text-align: right;\n",
       "    }\n",
       "</style>\n",
       "<table border=\"1\" class=\"dataframe\">\n",
       "  <thead>\n",
       "    <tr style=\"text-align: right;\">\n",
       "      <th></th>\n",
       "      <th>country</th>\n",
       "      <th>continent</th>\n",
       "      <th>population</th>\n",
       "      <th>area</th>\n",
       "      <th>gdp</th>\n",
       "    </tr>\n",
       "  </thead>\n",
       "  <tbody>\n",
       "    <tr>\n",
       "      <th>0</th>\n",
       "      <td>Germany</td>\n",
       "      <td>Europe</td>\n",
       "      <td>1000000</td>\n",
       "      <td>500</td>\n",
       "      <td>500000000</td>\n",
       "    </tr>\n",
       "    <tr>\n",
       "      <th>1</th>\n",
       "      <td>France</td>\n",
       "      <td>Europe</td>\n",
       "      <td>2000000</td>\n",
       "      <td>800</td>\n",
       "      <td>1200000000</td>\n",
       "    </tr>\n",
       "    <tr>\n",
       "      <th>2</th>\n",
       "      <td>Italy</td>\n",
       "      <td>Europe</td>\n",
       "      <td>1500000</td>\n",
       "      <td>600</td>\n",
       "      <td>750000000</td>\n",
       "    </tr>\n",
       "    <tr>\n",
       "      <th>3</th>\n",
       "      <td>Spain</td>\n",
       "      <td>Europe</td>\n",
       "      <td>800000</td>\n",
       "      <td>450</td>\n",
       "      <td>400000000</td>\n",
       "    </tr>\n",
       "    <tr>\n",
       "      <th>4</th>\n",
       "      <td>Brazil</td>\n",
       "      <td>South America</td>\n",
       "      <td>210000000</td>\n",
       "      <td>8500000</td>\n",
       "      <td>2500000000</td>\n",
       "    </tr>\n",
       "    <tr>\n",
       "      <th>5</th>\n",
       "      <td>Argentina</td>\n",
       "      <td>South America</td>\n",
       "      <td>45000000</td>\n",
       "      <td>2780000</td>\n",
       "      <td>500000000</td>\n",
       "    </tr>\n",
       "    <tr>\n",
       "      <th>6</th>\n",
       "      <td>Canada</td>\n",
       "      <td>North America</td>\n",
       "      <td>38000000</td>\n",
       "      <td>9985000</td>\n",
       "      <td>1800000000</td>\n",
       "    </tr>\n",
       "    <tr>\n",
       "      <th>7</th>\n",
       "      <td>USA</td>\n",
       "      <td>North America</td>\n",
       "      <td>331000000</td>\n",
       "      <td>9834000</td>\n",
       "      <td>23000000000</td>\n",
       "    </tr>\n",
       "    <tr>\n",
       "      <th>8</th>\n",
       "      <td>India</td>\n",
       "      <td>Asia</td>\n",
       "      <td>1400000000</td>\n",
       "      <td>3287000</td>\n",
       "      <td>3200000000</td>\n",
       "    </tr>\n",
       "    <tr>\n",
       "      <th>9</th>\n",
       "      <td>China</td>\n",
       "      <td>Asia</td>\n",
       "      <td>1440000000</td>\n",
       "      <td>9600000</td>\n",
       "      <td>15000000000</td>\n",
       "    </tr>\n",
       "    <tr>\n",
       "      <th>10</th>\n",
       "      <td>Australia</td>\n",
       "      <td>Oceania</td>\n",
       "      <td>26000000</td>\n",
       "      <td>7692000</td>\n",
       "      <td>1400000000</td>\n",
       "    </tr>\n",
       "    <tr>\n",
       "      <th>11</th>\n",
       "      <td>South Africa</td>\n",
       "      <td>Africa</td>\n",
       "      <td>60000000</td>\n",
       "      <td>1219000</td>\n",
       "      <td>350000000</td>\n",
       "    </tr>\n",
       "  </tbody>\n",
       "</table>\n",
       "</div>"
      ],
      "text/plain": [
       "         country      continent  population     area          gdp\n",
       "0        Germany         Europe     1000000      500    500000000\n",
       "1         France         Europe     2000000      800   1200000000\n",
       "2          Italy         Europe     1500000      600    750000000\n",
       "3          Spain         Europe      800000      450    400000000\n",
       "4         Brazil  South America   210000000  8500000   2500000000\n",
       "5      Argentina  South America    45000000  2780000    500000000\n",
       "6         Canada  North America    38000000  9985000   1800000000\n",
       "7            USA  North America   331000000  9834000  23000000000\n",
       "8          India           Asia  1400000000  3287000   3200000000\n",
       "9          China           Asia  1440000000  9600000  15000000000\n",
       "10     Australia        Oceania    26000000  7692000   1400000000\n",
       "11  South Africa         Africa    60000000  1219000    350000000"
      ]
     },
     "execution_count": 59,
     "metadata": {},
     "output_type": "execute_result"
    }
   ],
   "source": [
    "countries_df"
   ]
  },
  {
   "cell_type": "code",
   "execution_count": 60,
   "id": "92e95d7b-77f8-44bc-9496-ed5af7f406df",
   "metadata": {},
   "outputs": [
    {
     "data": {
      "text/html": [
       "<div>\n",
       "<style scoped>\n",
       "    .dataframe tbody tr th:only-of-type {\n",
       "        vertical-align: middle;\n",
       "    }\n",
       "\n",
       "    .dataframe tbody tr th {\n",
       "        vertical-align: top;\n",
       "    }\n",
       "\n",
       "    .dataframe thead th {\n",
       "        text-align: right;\n",
       "    }\n",
       "</style>\n",
       "<table border=\"1\" class=\"dataframe\">\n",
       "  <thead>\n",
       "    <tr style=\"text-align: right;\">\n",
       "      <th></th>\n",
       "      <th>country</th>\n",
       "      <th>continent</th>\n",
       "      <th>population</th>\n",
       "      <th>area</th>\n",
       "      <th>gdp</th>\n",
       "    </tr>\n",
       "  </thead>\n",
       "  <tbody>\n",
       "    <tr>\n",
       "      <th>0</th>\n",
       "      <td>Germany</td>\n",
       "      <td>Europe</td>\n",
       "      <td>1000000</td>\n",
       "      <td>500</td>\n",
       "      <td>500000000</td>\n",
       "    </tr>\n",
       "    <tr>\n",
       "      <th>1</th>\n",
       "      <td>France</td>\n",
       "      <td>Europe</td>\n",
       "      <td>2000000</td>\n",
       "      <td>800</td>\n",
       "      <td>1200000000</td>\n",
       "    </tr>\n",
       "    <tr>\n",
       "      <th>2</th>\n",
       "      <td>Italy</td>\n",
       "      <td>Europe</td>\n",
       "      <td>1500000</td>\n",
       "      <td>600</td>\n",
       "      <td>750000000</td>\n",
       "    </tr>\n",
       "  </tbody>\n",
       "</table>\n",
       "</div>"
      ],
      "text/plain": [
       "   country continent  population  area         gdp\n",
       "0  Germany    Europe     1000000   500   500000000\n",
       "1   France    Europe     2000000   800  1200000000\n",
       "2    Italy    Europe     1500000   600   750000000"
      ]
     },
     "execution_count": 60,
     "metadata": {},
     "output_type": "execute_result"
    }
   ],
   "source": [
    "countries_df[(countries_df['continent'] == 'Europe') & (countries_df['area'] > 450   )]"
   ]
  },
  {
   "cell_type": "code",
   "execution_count": 61,
   "id": "2e34122c-8845-4936-b470-a2c8064a3d07",
   "metadata": {},
   "outputs": [
    {
     "data": {
      "text/html": [
       "<div>\n",
       "<style scoped>\n",
       "    .dataframe tbody tr th:only-of-type {\n",
       "        vertical-align: middle;\n",
       "    }\n",
       "\n",
       "    .dataframe tbody tr th {\n",
       "        vertical-align: top;\n",
       "    }\n",
       "\n",
       "    .dataframe thead th {\n",
       "        text-align: right;\n",
       "    }\n",
       "</style>\n",
       "<table border=\"1\" class=\"dataframe\">\n",
       "  <thead>\n",
       "    <tr style=\"text-align: right;\">\n",
       "      <th></th>\n",
       "      <th>country</th>\n",
       "      <th>continent</th>\n",
       "      <th>population</th>\n",
       "      <th>area</th>\n",
       "      <th>gdp</th>\n",
       "    </tr>\n",
       "  </thead>\n",
       "  <tbody>\n",
       "    <tr>\n",
       "      <th>0</th>\n",
       "      <td>Germany</td>\n",
       "      <td>Europe</td>\n",
       "      <td>1000000</td>\n",
       "      <td>500</td>\n",
       "      <td>500000000</td>\n",
       "    </tr>\n",
       "    <tr>\n",
       "      <th>1</th>\n",
       "      <td>Germany</td>\n",
       "      <td>Europe</td>\n",
       "      <td>1</td>\n",
       "      <td>2</td>\n",
       "      <td>3</td>\n",
       "    </tr>\n",
       "    <tr>\n",
       "      <th>2</th>\n",
       "      <td>France</td>\n",
       "      <td>Europe</td>\n",
       "      <td>2000000</td>\n",
       "      <td>800</td>\n",
       "      <td>1200000000</td>\n",
       "    </tr>\n",
       "    <tr>\n",
       "      <th>3</th>\n",
       "      <td>Italy</td>\n",
       "      <td>Europe</td>\n",
       "      <td>1500000</td>\n",
       "      <td>600</td>\n",
       "      <td>750000000</td>\n",
       "    </tr>\n",
       "    <tr>\n",
       "      <th>4</th>\n",
       "      <td>Spain</td>\n",
       "      <td>Europe</td>\n",
       "      <td>800000</td>\n",
       "      <td>450</td>\n",
       "      <td>400000000</td>\n",
       "    </tr>\n",
       "    <tr>\n",
       "      <th>5</th>\n",
       "      <td>Brazil</td>\n",
       "      <td>South America</td>\n",
       "      <td>210000000</td>\n",
       "      <td>8500000</td>\n",
       "      <td>2500000000</td>\n",
       "    </tr>\n",
       "    <tr>\n",
       "      <th>6</th>\n",
       "      <td>Argentina</td>\n",
       "      <td>South America</td>\n",
       "      <td>45000000</td>\n",
       "      <td>2780000</td>\n",
       "      <td>500000000</td>\n",
       "    </tr>\n",
       "    <tr>\n",
       "      <th>7</th>\n",
       "      <td>Canada</td>\n",
       "      <td>North America</td>\n",
       "      <td>38000000</td>\n",
       "      <td>9985000</td>\n",
       "      <td>1800000000</td>\n",
       "    </tr>\n",
       "    <tr>\n",
       "      <th>8</th>\n",
       "      <td>USA</td>\n",
       "      <td>North America</td>\n",
       "      <td>331000000</td>\n",
       "      <td>9834000</td>\n",
       "      <td>23000000000</td>\n",
       "    </tr>\n",
       "    <tr>\n",
       "      <th>9</th>\n",
       "      <td>India</td>\n",
       "      <td>Asia</td>\n",
       "      <td>1400000000</td>\n",
       "      <td>3287000</td>\n",
       "      <td>3200000000</td>\n",
       "    </tr>\n",
       "    <tr>\n",
       "      <th>10</th>\n",
       "      <td>China</td>\n",
       "      <td>Asia</td>\n",
       "      <td>1440000000</td>\n",
       "      <td>9600000</td>\n",
       "      <td>15000000000</td>\n",
       "    </tr>\n",
       "    <tr>\n",
       "      <th>11</th>\n",
       "      <td>Australia</td>\n",
       "      <td>Oceania</td>\n",
       "      <td>26000000</td>\n",
       "      <td>7692000</td>\n",
       "      <td>1400000000</td>\n",
       "    </tr>\n",
       "    <tr>\n",
       "      <th>12</th>\n",
       "      <td>South Africa</td>\n",
       "      <td>Africa</td>\n",
       "      <td>60000000</td>\n",
       "      <td>1219000</td>\n",
       "      <td>350000000</td>\n",
       "    </tr>\n",
       "  </tbody>\n",
       "</table>\n",
       "</div>"
      ],
      "text/plain": [
       "         country      continent  population     area          gdp\n",
       "0        Germany         Europe     1000000      500    500000000\n",
       "1        Germany         Europe           1        2            3\n",
       "2         France         Europe     2000000      800   1200000000\n",
       "3          Italy         Europe     1500000      600    750000000\n",
       "4          Spain         Europe      800000      450    400000000\n",
       "5         Brazil  South America   210000000  8500000   2500000000\n",
       "6      Argentina  South America    45000000  2780000    500000000\n",
       "7         Canada  North America    38000000  9985000   1800000000\n",
       "8            USA  North America   331000000  9834000  23000000000\n",
       "9          India           Asia  1400000000  3287000   3200000000\n",
       "10         China           Asia  1440000000  9600000  15000000000\n",
       "11     Australia        Oceania    26000000  7692000   1400000000\n",
       "12  South Africa         Africa    60000000  1219000    350000000"
      ]
     },
     "execution_count": 61,
     "metadata": {},
     "output_type": "execute_result"
    }
   ],
   "source": [
    "import pandas as pd\n",
    "\n",
    "# Creating the dataset with countries from different continents\n",
    "countries_data = {\n",
    "    'country': [\n",
    "        'Germany','Germany' ,'France', 'Italy', 'Spain',  # Europe\n",
    "        'Brazil', 'Argentina',  # South America\n",
    "        'Canada', 'USA',  # North America\n",
    "        'India', 'China',  # Asia\n",
    "        'Australia',  # Oceania\n",
    "        'South Africa'  # Africa\n",
    "    ],\n",
    "    'continent': [\n",
    "        'Europe', 'Europe', 'Europe', 'Europe', 'Europe',\n",
    "        'South America', 'South America',\n",
    "        'North America', 'North America',\n",
    "        'Asia', 'Asia',\n",
    "        'Oceania',\n",
    "        'Africa'\n",
    "    ],\n",
    "    'population': [\n",
    "        1000000,1, 2000000, 1500000, 800000,  # Europe\n",
    "        210000000, 45000000,  # South America\n",
    "        38000000, 331000000,  # North America\n",
    "        1400000000, 1440000000,  # Asia\n",
    "        26000000,  # Oceania\n",
    "        60000000  # Africa\n",
    "    ],\n",
    "    'area': [\n",
    "        500,2, 800, 600, 450,  # Europe\n",
    "        8500000, 2780000,  # South America\n",
    "        9985000, 9834000,  # North America\n",
    "        3287000, 9600000,  # Asia\n",
    "        7692000,  # Oceania\n",
    "        1219000  # Africa\n",
    "    ],\n",
    "    'gdp': [\n",
    "        500000000, 3,1200000000, 750000000, 400000000,  # Europe\n",
    "        2500000000, 500000000,  # South America\n",
    "        1800000000, 23000000000,  # North America\n",
    "        3200000000, 15000000000,  # Asia\n",
    "        1400000000,  # Oceania\n",
    "        350000000  # Africa\n",
    "    ]\n",
    "}\n",
    "\n",
    "# Creating the DataFrame\n",
    "countries_df = pd.DataFrame(countries_data)\n",
    "\n",
    "# Displaying the DataFrame\n",
    "(countries_df)\n"
   ]
  },
  {
   "cell_type": "code",
   "execution_count": null,
   "id": "71452771-5adc-44ff-b904-9be2dabb8bf4",
   "metadata": {},
   "outputs": [],
   "source": []
  },
  {
   "cell_type": "code",
   "execution_count": null,
   "id": "180aec98-f05f-4010-90a9-ec034533bd87",
   "metadata": {},
   "outputs": [],
   "source": [
    "# Create a pivot table with filtering and aggregation\n",
    "pivot_df = pd.pivot_table(\n",
    "    countries_df[(countries_df['continent'] == 'Europe') & (countries_df['area'] > 1)],\n",
    "    index='continent',\n",
    "    columns='country',\n",
    "    values='gdp',\n",
    "    aggfunc='sum'\n",
    ")\n",
    "\n",
    "pivot_df"
   ]
  },
  {
   "cell_type": "code",
   "execution_count": null,
   "id": "8074df47-f048-4ecc-8d5e-306ea2c63caa",
   "metadata": {},
   "outputs": [],
   "source": [
    "pivot_df.sum()"
   ]
  },
  {
   "cell_type": "code",
   "execution_count": null,
   "id": "51652084-43b2-4c0e-b209-ba8267a6912e",
   "metadata": {},
   "outputs": [],
   "source": [
    "pivot_df.loc['Total'] = pivot_df.sum()\n",
    "\n",
    "# # Print the pivot table\n",
    "print(pivot_df)"
   ]
  },
  {
   "cell_type": "code",
   "execution_count": null,
   "id": "c52106f3-1342-4dcf-b2fe-72e85f52b137",
   "metadata": {},
   "outputs": [],
   "source": [
    "sales=pd.read_csv(\"Sales.csv\")\n",
    "sales.head()\n",
    "\n"
   ]
  },
  {
   "cell_type": "code",
   "execution_count": null,
   "id": "a80e22b7-0401-4d38-8ee6-9c0c2117c92d",
   "metadata": {},
   "outputs": [],
   "source": [
    "sales.shape"
   ]
  },
  {
   "cell_type": "code",
   "execution_count": null,
   "id": "de4206dd-d17f-41e7-a357-d0765e372167",
   "metadata": {},
   "outputs": [],
   "source": [
    "sales[\"Product\"].unique() "
   ]
  },
  {
   "cell_type": "code",
   "execution_count": null,
   "id": "843e8fec-f0e4-4451-b461-2ceb6f261bc3",
   "metadata": {},
   "outputs": [],
   "source": [
    "# sales\n"
   ]
  },
  {
   "cell_type": "code",
   "execution_count": null,
   "id": "01dc06c7-e503-4b98-96b7-a85cafddf404",
   "metadata": {},
   "outputs": [],
   "source": [
    "sales.Product.unique()"
   ]
  },
  {
   "cell_type": "code",
   "execution_count": null,
   "id": "f675c33e-a0fb-4ffa-8f7e-16b657482046",
   "metadata": {},
   "outputs": [],
   "source": [
    "for i in sales.columns:\n",
    "    print(i)"
   ]
  },
  {
   "cell_type": "code",
   "execution_count": null,
   "id": "da353969-1323-40e9-b593-e2314ee16762",
   "metadata": {},
   "outputs": [],
   "source": [
    "for i in sales.columns:\n",
    "    print(sales[i].unique() )"
   ]
  },
  {
   "cell_type": "code",
   "execution_count": null,
   "id": "a221ae8b-5c30-4e6f-a111-50cd8c3d3cae",
   "metadata": {},
   "outputs": [],
   "source": [
    "pd.pivot_table(sales, index = 'Region', values = 'Turnover', aggfunc = 'sum')"
   ]
  },
  {
   "cell_type": "code",
   "execution_count": null,
   "id": "fc313076-60cd-47fd-8ab4-9ba9d4e0d2fa",
   "metadata": {},
   "outputs": [],
   "source": [
    "sales.Category.unique() # actual and predicted"
   ]
  },
  {
   "cell_type": "code",
   "execution_count": null,
   "id": "a06f73cd-e398-484c-8cfd-d0436c34cfc6",
   "metadata": {},
   "outputs": [],
   "source": [
    "actual_sales_df=sales[sales.Category=='Actual']\n",
    "actual_sales_df"
   ]
  },
  {
   "cell_type": "code",
   "execution_count": null,
   "id": "acedb45a-a282-43c2-8422-c905c6382a5a",
   "metadata": {},
   "outputs": [],
   "source": [
    "pd.pivot_table(actual_sales_df, index = 'Region',values = 'Turnover', aggfunc = ['sum', 'mean', 'std'])"
   ]
  },
  {
   "cell_type": "code",
   "execution_count": null,
   "id": "bbd8ba1a-b26e-478c-aba2-a89f242e0676",
   "metadata": {},
   "outputs": [],
   "source": [
    "sales[(sales.Category=='Actual') & (sales.Year==2020)]"
   ]
  },
  {
   "cell_type": "code",
   "execution_count": null,
   "id": "ccd5582c-32dd-4350-88e6-fb23c994e3ce",
   "metadata": {},
   "outputs": [],
   "source": [
    "insurance_df=pd.read_excel(\"insurance.xlsx\")\n",
    "insurance_df.head()"
   ]
  },
  {
   "cell_type": "code",
   "execution_count": null,
   "id": "f7719144-62d8-4e5a-8afd-f7d72ccbf043",
   "metadata": {},
   "outputs": [],
   "source": [
    "insurance_df[\"Location\"].unique()"
   ]
  },
  {
   "cell_type": "code",
   "execution_count": null,
   "id": "a417adf3-2e8a-4283-bcb3-6db238839cab",
   "metadata": {},
   "outputs": [],
   "source": [
    "pd.pivot_table(sales,values=\"Turnover\", index=[\"Category\",\"Product\"] , aggfunc='mean')"
   ]
  },
  {
   "cell_type": "code",
   "execution_count": null,
   "id": "cffd0f08-eb64-49df-8bcf-1f224f7e26c5",
   "metadata": {},
   "outputs": [],
   "source": [
    "pd.pivot_table(sales,values=\"Turnover\", index=[\"Product\",\"Category\"] , aggfunc='mean')"
   ]
  },
  {
   "cell_type": "code",
   "execution_count": null,
   "id": "7556422f-f746-4394-8090-ce056aad5d71",
   "metadata": {},
   "outputs": [],
   "source": [
    "insurance_df.head()"
   ]
  },
  {
   "cell_type": "code",
   "execution_count": null,
   "id": "2775b952-8a80-46c9-aa22-20f927c1a283",
   "metadata": {},
   "outputs": [],
   "source": [
    "insurance_df[ (insurance_df.Flood==\"Y\") & (insurance_df.Earthquake==\"Y\")]"
   ]
  },
  {
   "cell_type": "code",
   "execution_count": null,
   "id": "e38917a2-bd25-4ed8-932c-862ac5ca9118",
   "metadata": {},
   "outputs": [],
   "source": [
    "location_state=pd.pivot_table(insurance_df, values=\"Location\" ,index=[\"State\"],aggfunc=\"count\")\n",
    "location_state"
   ]
  },
  {
   "cell_type": "code",
   "execution_count": null,
   "id": "f96537e7-1df1-4101-9418-09142a3dd2cf",
   "metadata": {},
   "outputs": [],
   "source": [
    "location_state=pd.pivot_table(insurance_df, values=\"Policy\" ,index=[\"State\",\"Location\"],aggfunc=\"count\")\n",
    "location_state"
   ]
  },
  {
   "cell_type": "code",
   "execution_count": null,
   "id": "0c96194d-805a-4d93-bf8c-6a1bea542a13",
   "metadata": {},
   "outputs": [],
   "source": [
    "location_state.plot(kind=\"bar\")"
   ]
  },
  {
   "cell_type": "code",
   "execution_count": null,
   "id": "c400b314-9218-4f3e-9932-2e670cb03078",
   "metadata": {},
   "outputs": [],
   "source": [
    "# .mean()\n",
    "# values=\"InsuredValues\",\n",
    "# index=[\"State\",\"Construction\"]\n",
    "\n",
    "# (Flood==Y)&(Earthquake==Y)\n",
    "\n",
    "\n",
    "\n",
    "pd.pivot_table(insurance_df[ (insurance_df.Flood==\"Y\") & (insurance_df.Earthquake==\"Y\")],values=\"InsuredValue\",index=[\"State\",\"Construction\"]).mean()"
   ]
  },
  {
   "cell_type": "code",
   "execution_count": null,
   "id": "50b0f9fd-2148-438f-a648-d073c0682717",
   "metadata": {},
   "outputs": [],
   "source": []
  },
  {
   "cell_type": "code",
   "execution_count": null,
   "id": "1127855b-b74e-4a18-8634-48e7cef04cf5",
   "metadata": {},
   "outputs": [],
   "source": [
    "insurance_df_L_B_R=pd.pivot_table(insurance_df,values=[\"InsuredValue\"], index=[\"Location\",\"BusinessType\",\"Region\"]).sum()\n",
    "insurance_df_L_B_R[\"Total\"]=insurance_df_L_B_R.sum()\n",
    "insurance_df_L_B_R"
   ]
  },
  {
   "cell_type": "code",
   "execution_count": null,
   "id": "644712e9-2c6b-4a6a-ab47-20718974a314",
   "metadata": {},
   "outputs": [],
   "source": [
    "pd.pivot_table(insurance_df,values=\"InsuredValue\", index=[\"State\",\"Location\"] , aggfunc='mean')"
   ]
  },
  {
   "cell_type": "code",
   "execution_count": null,
   "id": "569cbb1f-b484-47b0-92eb-d8f8eb6e4bb8",
   "metadata": {},
   "outputs": [],
   "source": [
    "pd.pivot_table(insurance_df,values=\"InsuredValue\", index=[\"Location\",\"State\"] , aggfunc='mean')"
   ]
  },
  {
   "cell_type": "code",
   "execution_count": null,
   "id": "ced7948b-c9c7-44ad-a8e3-3340fd401784",
   "metadata": {},
   "outputs": [],
   "source": [
    "pd.pivot_table(sales[(sales.Category=='Actual') & (sales.Year==2020)], index = 'Region',columns = 'Product', values = 'Turnover', aggfunc = 'sum')"
   ]
  },
  {
   "cell_type": "code",
   "execution_count": null,
   "id": "2fd3a230-8e38-4422-acd8-fb2517f55233",
   "metadata": {},
   "outputs": [],
   "source": [
    "pivot_df = pd.pivot_table(sales[(sales.Category=='Actual') & (sales.Year==2020)],index = 'Region', columns = 'Product', values = 'Turnover',aggfunc = 'sum')\n",
    "pivot_df"
   ]
  },
  {
   "cell_type": "code",
   "execution_count": null,
   "id": "b130189f-effa-42a5-8623-543cd2c7f879",
   "metadata": {},
   "outputs": [],
   "source": [
    "pivot_df.sum()"
   ]
  },
  {
   "cell_type": "code",
   "execution_count": null,
   "id": "196c1b34-ef4d-4991-8b91-72426c45877f",
   "metadata": {},
   "outputs": [],
   "source": [
    "pivot_df = pd.pivot_table(sales[(sales.Category=='Actual') & (sales.Year==2020)],index = 'Region', columns = 'Product', values = 'Turnover',aggfunc = 'sum')\n",
    "pivot_df.loc['Total'] = pivot_df.sum()\n",
    "pivot_df"
   ]
  },
  {
   "cell_type": "code",
   "execution_count": null,
   "id": "ba2d56fa-8a0b-46b9-ba52-8e6087d39bcc",
   "metadata": {},
   "outputs": [],
   "source": [
    "pivot_df.plot(kind='bar')"
   ]
  },
  {
   "cell_type": "code",
   "execution_count": null,
   "id": "3ba6042a-7c93-489e-9dd8-04d7b4b10a83",
   "metadata": {},
   "outputs": [],
   "source": [
    "pivot_df = pd.pivot_table(sales[sales.Category=='Actual'], index = ['Year', 'Region'],columns = 'Product', values = 'Turnover', aggfunc = 'sum')\n",
    "pivot_df"
   ]
  },
  {
   "cell_type": "code",
   "execution_count": null,
   "id": "344b9d21-463c-4c9f-8576-452a1e4502cd",
   "metadata": {},
   "outputs": [],
   "source": [
    "students = pd.read_csv(\"Student_performance.csv\")\n",
    "students.head()"
   ]
  },
  {
   "cell_type": "code",
   "execution_count": null,
   "id": "fba34cb5-38d4-4f8f-b550-37cedeb9f276",
   "metadata": {},
   "outputs": [],
   "source": [
    "#.values is used to extract the data as a NumPy array from the pandas DataFrame."
   ]
  },
  {
   "cell_type": "code",
   "execution_count": null,
   "id": "1bd79d0f-ae85-4898-9044-e1e65ef1c629",
   "metadata": {},
   "outputs": [],
   "source": []
  },
  {
   "cell_type": "code",
   "execution_count": null,
   "id": "fe7bc92d-e34b-4237-abde-f5e3cd186342",
   "metadata": {},
   "outputs": [],
   "source": []
  },
  {
   "cell_type": "markdown",
   "id": "30522649-cd4d-46aa-b3ca-3c4d5088be85",
   "metadata": {},
   "source": [
    "## Continue from here in next class"
   ]
  },
  {
   "cell_type": "code",
   "execution_count": null,
   "id": "22dc8cda-0d08-44dd-9441-720da17cfa04",
   "metadata": {},
   "outputs": [],
   "source": [
    "x = students.loc[:, ['Hours_Studied', 'Sleep_Hours', 'Exercises_Practiced']].values\n",
    "y = students.loc[:, 'Performance'].values"
   ]
  },
  {
   "cell_type": "code",
   "execution_count": null,
   "id": "4b091841-7ce7-46a3-85b2-877fc3223c6b",
   "metadata": {},
   "outputs": [],
   "source": [
    "from sklearn.linear_model import LinearRegression\n",
    "predictivemodel_reg = LinearRegression()"
   ]
  },
  {
   "cell_type": "code",
   "execution_count": null,
   "id": "6a9601bd-b2ef-4148-89a8-149ef2f45d0f",
   "metadata": {},
   "outputs": [],
   "source": [
    "predictivemodel_reg.fit(x, y)"
   ]
  },
  {
   "cell_type": "code",
   "execution_count": null,
   "id": "d1616f9a-e6ac-4a04-aa84-1eb00fb96a25",
   "metadata": {},
   "outputs": [],
   "source": [
    "y_pred = predictivemodel_reg.predict(x)"
   ]
  },
  {
   "cell_type": "code",
   "execution_count": null,
   "id": "881707e0-9131-4a99-b138-39bd863462c3",
   "metadata": {},
   "outputs": [],
   "source": [
    "from sklearn.metrics import r2_score"
   ]
  },
  {
   "cell_type": "code",
   "execution_count": null,
   "id": "7dbc6a26-94cd-4c1f-959d-febb87b56598",
   "metadata": {},
   "outputs": [],
   "source": [
    "r2_score(y, y_pred)"
   ]
  },
  {
   "cell_type": "code",
   "execution_count": null,
   "id": "7af39826-b9b6-4eef-a0d5-8092ff28b515",
   "metadata": {},
   "outputs": [],
   "source": [
    "predictivemodel_reg.predict([[5, 5, 1]])"
   ]
  },
  {
   "cell_type": "code",
   "execution_count": null,
   "id": "1e382ffa-b173-41ee-8a75-b40f90a959ac",
   "metadata": {},
   "outputs": [],
   "source": []
  },
  {
   "cell_type": "code",
   "execution_count": null,
   "id": "996d18b9-00d8-475b-9a89-e7d2287a4ef9",
   "metadata": {},
   "outputs": [],
   "source": []
  },
  {
   "cell_type": "code",
   "execution_count": null,
   "id": "2bc0ba30-5f90-4ed7-97b2-2f9384ee1ee3",
   "metadata": {},
   "outputs": [],
   "source": []
  },
  {
   "cell_type": "code",
   "execution_count": null,
   "id": "ed91e1a7-0760-4248-9c18-6216cfd66d50",
   "metadata": {},
   "outputs": [],
   "source": []
  },
  {
   "cell_type": "code",
   "execution_count": null,
   "id": "e261f2b3-210f-4998-a92a-ed98ce0c63a4",
   "metadata": {},
   "outputs": [],
   "source": []
  },
  {
   "cell_type": "code",
   "execution_count": null,
   "id": "0dd7a29d-46be-4fab-a4c4-75ec30ca7a54",
   "metadata": {},
   "outputs": [],
   "source": []
  },
  {
   "cell_type": "code",
   "execution_count": null,
   "id": "c5ce92d8-81a4-42bd-9dcf-f45b34e258ef",
   "metadata": {},
   "outputs": [],
   "source": []
  },
  {
   "cell_type": "code",
   "execution_count": null,
   "id": "2f7a1442-2686-4838-bd33-4459a7693cab",
   "metadata": {},
   "outputs": [],
   "source": []
  },
  {
   "cell_type": "markdown",
   "id": "8dffc7bc-1c26-4e22-8c01-b384aeede9f6",
   "metadata": {},
   "source": [
    "The random_state parameter acts as a seed for the random number generator used by the algorithm.\n",
    "When you set random_state to a fixed value (like 0), the same random numbers are generated every time, ensuring that the results are consistent across different runs."
   ]
  },
  {
   "cell_type": "code",
   "execution_count": null,
   "id": "721591d3-f71d-4867-8cc0-81ea5c40daed",
   "metadata": {},
   "outputs": [],
   "source": [
    "from sklearn.ensemble import RandomForestRegressor\n",
    "\n",
    "predictivemodel_rf = RandomForestRegressor(random_state=0)"
   ]
  },
  {
   "cell_type": "code",
   "execution_count": null,
   "id": "ac1d0dad-3ab8-4c9c-a17c-997920a8ea4f",
   "metadata": {},
   "outputs": [],
   "source": [
    "predictivemodel_rf.fit(x, y)"
   ]
  },
  {
   "cell_type": "code",
   "execution_count": null,
   "id": "00e6d20e-481a-4e1f-8553-79b6839ad60c",
   "metadata": {},
   "outputs": [],
   "source": [
    "y_pred = predictivemodel_rf.predict(x)"
   ]
  },
  {
   "cell_type": "code",
   "execution_count": null,
   "id": "391334c9-5d66-403e-a0a7-278b0731a8ec",
   "metadata": {},
   "outputs": [],
   "source": [
    "from sklearn.metrics import r2_score\n",
    "r2_score(y, y_pred)"
   ]
  },
  {
   "cell_type": "code",
   "execution_count": null,
   "id": "36eac81a-b196-4a8f-b848-cb2ded0455a0",
   "metadata": {},
   "outputs": [],
   "source": [
    "predictivemodel_rf.predict([[5, 5, 1]])"
   ]
  },
  {
   "cell_type": "code",
   "execution_count": null,
   "id": "b3924fdd-3585-46db-87f0-990bc8994bec",
   "metadata": {},
   "outputs": [],
   "source": [
    "from sklearn.neural_network import MLPRegressor\n",
    "predictivemodel_net = MLPRegressor(solver='lbfgs', max_iter=3000,random_state=0)"
   ]
  },
  {
   "cell_type": "code",
   "execution_count": null,
   "id": "4cef3acb-9c37-4340-ad46-c7ab97424f2c",
   "metadata": {},
   "outputs": [],
   "source": [
    "predictivemodel_net.fit(x, y)"
   ]
  },
  {
   "cell_type": "code",
   "execution_count": null,
   "id": "11062ef7-e62b-4ae9-bda4-a1709ce74701",
   "metadata": {},
   "outputs": [],
   "source": [
    "y_pred = predictivemodel_net.predict(x)"
   ]
  },
  {
   "cell_type": "code",
   "execution_count": null,
   "id": "4c2fca42-f88d-44e6-9e15-7fe976967923",
   "metadata": {},
   "outputs": [],
   "source": [
    "from sklearn.metrics import r2_score\n",
    "r2_score(y, y_pred)"
   ]
  },
  {
   "cell_type": "code",
   "execution_count": null,
   "id": "6a41e29f-03bc-42f6-8c44-f601be5bd8f8",
   "metadata": {},
   "outputs": [],
   "source": [
    "predictivemodel_rf.predict([[5, 5, 1]])"
   ]
  },
  {
   "cell_type": "code",
   "execution_count": null,
   "id": "544e1c5c-5105-45a3-943e-120290dadbf2",
   "metadata": {},
   "outputs": [],
   "source": [
    "name = input(\"What's your name? \")\n",
    "print(\"Nice to meet you \" + name + \"!\")"
   ]
  },
  {
   "cell_type": "code",
   "execution_count": null,
   "id": "45571dee-cdb1-466f-a02c-18fa6ae8bb1a",
   "metadata": {},
   "outputs": [],
   "source": [
    "age = input(\"Your age? \")\n",
    "print(\"So, you are already \" + age + \" years old, \" + name + \"!\")"
   ]
  },
  {
   "cell_type": "code",
   "execution_count": null,
   "id": "9f64a61b-5bc2-482f-a161-4c8bc006e67e",
   "metadata": {},
   "outputs": [],
   "source": [
    "type(age)"
   ]
  },
  {
   "cell_type": "code",
   "execution_count": null,
   "id": "6e2db012-068c-40a5-b6ca-d79912759a47",
   "metadata": {},
   "outputs": [],
   "source": [
    "age = int(input(\"Your age? \"))"
   ]
  },
  {
   "cell_type": "code",
   "execution_count": null,
   "id": "c962d21a-30d2-4772-b7ee-b20fa8ca2c95",
   "metadata": {},
   "outputs": [],
   "source": [
    "type(age)"
   ]
  },
  {
   "cell_type": "markdown",
   "id": "7378ec0e-4d63-4ecb-893f-d5901eae98ca",
   "metadata": {},
   "source": [
    "##### Exercise on pdf page 82"
   ]
  },
  {
   "cell_type": "code",
   "execution_count": null,
   "id": "14d9bc50-9f5c-4c1f-ba24-2db9f55e38f7",
   "metadata": {},
   "outputs": [],
   "source": [
    "12 > 11"
   ]
  },
  {
   "cell_type": "code",
   "execution_count": null,
   "id": "fefdc687-3339-490d-8ee9-8fd6c3f31566",
   "metadata": {},
   "outputs": [],
   "source": [
    "x = True"
   ]
  },
  {
   "cell_type": "code",
   "execution_count": null,
   "id": "d8972aa8-0b08-4c02-8416-4dc459ae4653",
   "metadata": {},
   "outputs": [],
   "source": [
    "x = bool(1) \n",
    "x"
   ]
  },
  {
   "cell_type": "code",
   "execution_count": null,
   "id": "564f57e1-c7df-4814-9e3f-5d0a1e067587",
   "metadata": {},
   "outputs": [],
   "source": [
    "answer = ( 2*3 == 6 )\n",
    "answer"
   ]
  },
  {
   "cell_type": "markdown",
   "id": "6605b89e-d72a-4649-b49c-f529b2bac19b",
   "metadata": {},
   "source": [
    "## Sequences"
   ]
  },
  {
   "cell_type": "markdown",
   "id": "584311ff-8202-473e-a212-99363d2c8a22",
   "metadata": {},
   "source": [
    "![Sequence Image](sequences.JPG )\n"
   ]
  },
  {
   "cell_type": "markdown",
   "id": "c0e14c16-0ffd-4d87-904b-2e377622bcdf",
   "metadata": {},
   "source": [
    "### String"
   ]
  },
  {
   "cell_type": "code",
   "execution_count": null,
   "id": "44fec66e-7e59-4e30-97e8-b6b725c3aca7",
   "metadata": {},
   "outputs": [],
   "source": [
    "greet=\"HelloWorld\"\n",
    "print(greet)"
   ]
  },
  {
   "cell_type": "code",
   "execution_count": null,
   "id": "b8c22535-7b94-481b-9cdf-48c1623b7678",
   "metadata": {},
   "outputs": [],
   "source": [
    "sayhello=\"HelloWorld\"\n",
    "sayhello"
   ]
  },
  {
   "cell_type": "code",
   "execution_count": null,
   "id": "ca85e9d0-4f64-4323-be96-a9c1fb624a23",
   "metadata": {},
   "outputs": [],
   "source": [
    "print(greet+sayhello)"
   ]
  },
  {
   "cell_type": "code",
   "execution_count": null,
   "id": "89e119cc-e4e8-46eb-9926-ab111cd2a69e",
   "metadata": {},
   "outputs": [],
   "source": [
    "print(greet*2)"
   ]
  },
  {
   "cell_type": "code",
   "execution_count": null,
   "id": "e163754e-a4d4-45d2-b523-cc171b01bf6b",
   "metadata": {},
   "outputs": [],
   "source": [
    "greet[1]"
   ]
  },
  {
   "cell_type": "markdown",
   "id": "2ebf70a0-e3d4-49c1-b80d-ac59a0fc40c1",
   "metadata": {},
   "source": [
    "## String Slicing Syntax: string[start:end]\n",
    "\n",
    "- start: The index where the slice begins (inclusive).\n",
    "- end: The index where the slice ends (exclusive).\n",
    "For greet[0:4]:\n",
    "\n",
    "- Starts from index 0 (inclusive) → The character at index 0 is 'H'.\n",
    "- Ends at index 4 (exclusive) → The character at index 4 is 'o', but it is not included in the result."
   ]
  },
  {
   "cell_type": "code",
   "execution_count": null,
   "id": "3d2f8f14-0f98-47bd-92af-0947ff64df1f",
   "metadata": {},
   "outputs": [],
   "source": [
    "greet[0:4]"
   ]
  },
  {
   "cell_type": "code",
   "execution_count": null,
   "id": "a07168c7-4705-44fe-9ac6-fad923f26420",
   "metadata": {},
   "outputs": [],
   "source": [
    "greet[:]"
   ]
  },
  {
   "cell_type": "code",
   "execution_count": null,
   "id": "9c2a2a11-0086-4a84-b64e-9fea905ef3ae",
   "metadata": {},
   "outputs": [],
   "source": [
    "greet = \"HelloWorld\"\n",
    "first_part = greet[:5]  #\n",
    "second_part = greet[5:]  # \n",
    "\n",
    "# Combine the parts\n",
    "result = first_part + \" \" + second_part\n",
    "print(result)\n"
   ]
  },
  {
   "cell_type": "code",
   "execution_count": null,
   "id": "7f7c90a0-7e54-489d-9435-4d460b7cbccf",
   "metadata": {},
   "outputs": [],
   "source": []
  },
  {
   "cell_type": "code",
   "execution_count": null,
   "id": "ec24b359-7492-4764-a1f1-5434642ab04c",
   "metadata": {},
   "outputs": [],
   "source": [
    "greet[-3]"
   ]
  },
  {
   "cell_type": "code",
   "execution_count": null,
   "id": "b193428c-7523-4265-a1ba-ffb42e2b4217",
   "metadata": {},
   "outputs": [],
   "source": [
    "greet[-7:-3]"
   ]
  },
  {
   "cell_type": "code",
   "execution_count": null,
   "id": "b5d4b3b1-9af0-4047-8059-24b3a0d68f77",
   "metadata": {},
   "outputs": [],
   "source": [
    "\"H\" in greet"
   ]
  },
  {
   "cell_type": "code",
   "execution_count": null,
   "id": "99124ee8-dd24-484b-867c-7e04dc63b00b",
   "metadata": {},
   "outputs": [],
   "source": [
    "\"T\" in greet"
   ]
  },
  {
   "cell_type": "code",
   "execution_count": null,
   "id": "e15e456b-44ac-4086-8504-94cb5d633875",
   "metadata": {},
   "outputs": [],
   "source": [
    "len(greet)"
   ]
  },
  {
   "cell_type": "code",
   "execution_count": null,
   "id": "49a9b8f7-6c4c-4273-ad4e-c3b07f809014",
   "metadata": {},
   "outputs": [],
   "source": [
    "type(greet)"
   ]
  },
  {
   "cell_type": "markdown",
   "id": "96deba6b-3af1-40e0-a5f5-1657b960206e",
   "metadata": {},
   "source": [
    "![Sequence Image](slicingbehaviour.JPG)\n"
   ]
  },
  {
   "cell_type": "markdown",
   "id": "f11e3132-011a-400a-a4f8-2e466d54d676",
   "metadata": {},
   "source": [
    "### List (mutable)"
   ]
  },
  {
   "cell_type": "code",
   "execution_count": null,
   "id": "f567fe57-2c87-423b-be92-21b4ab123d5d",
   "metadata": {},
   "outputs": [],
   "source": [
    "list1 = ['physics', 'chemistry', 1997, 2000]\n",
    "list2 = [1, 2, 3, 4, 5 ]\n",
    "list3 = [\"a\", \"b\", \"c\", \"d\"]\n",
    "list4 = [[1,2,3,4], [5,6,7,8]] # 2-dimensional list (list of lists)"
   ]
  },
  {
   "cell_type": "code",
   "execution_count": null,
   "id": "7a27f8e9-cb52-490e-8a13-e95fbb859827",
   "metadata": {},
   "outputs": [],
   "source": [
    "list2[3] = 7"
   ]
  },
  {
   "cell_type": "code",
   "execution_count": null,
   "id": "fdc896f6-670f-451c-9393-2e49d5b7cb35",
   "metadata": {},
   "outputs": [],
   "source": [
    "## end slide 92"
   ]
  },
  {
   "cell_type": "code",
   "execution_count": null,
   "id": "afb9d3dd-1e1e-48c4-94bb-5941b1ed9193",
   "metadata": {},
   "outputs": [],
   "source": [
    "insurance_df.columns"
   ]
  },
  {
   "cell_type": "code",
   "execution_count": null,
   "id": "c1488596-73c3-40cb-a045-4e84486e4738",
   "metadata": {},
   "outputs": [],
   "source": [
    "print(insurance_df.head())"
   ]
  }
 ],
 "metadata": {
  "kernelspec": {
   "display_name": "Python 3 (ipykernel)",
   "language": "python",
   "name": "python3"
  },
  "language_info": {
   "codemirror_mode": {
    "name": "ipython",
    "version": 3
   },
   "file_extension": ".py",
   "mimetype": "text/x-python",
   "name": "python",
   "nbconvert_exporter": "python",
   "pygments_lexer": "ipython3",
   "version": "3.8.6"
  }
 },
 "nbformat": 4,
 "nbformat_minor": 5
}
