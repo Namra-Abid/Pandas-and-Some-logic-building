{
 "cells": [
  {
   "cell_type": "code",
   "execution_count": null,
   "id": "a765a82b-de24-4193-833d-563515877fc0",
   "metadata": {},
   "outputs": [],
   "source": [
    "print (\"Hello World\")"
   ]
  },
  {
   "cell_type": "code",
   "execution_count": null,
   "id": "6d4b7268-27fc-4759-8359-b5b913bbba6b",
   "metadata": {},
   "outputs": [],
   "source": [
    "a=10\n",
    "name=\"Namra\""
   ]
  },
  {
   "cell_type": "code",
   "execution_count": null,
   "id": "35de3641-86a8-47a4-b0bb-c4b7d4b3cb3f",
   "metadata": {},
   "outputs": [],
   "source": [
    "my_list = [1, 2, 3]\n",
    "print(my_list)"
   ]
  },
  {
   "cell_type": "code",
   "execution_count": null,
   "id": "a8a7a43c-74d3-41fe-aed3-4c606c6cfd26",
   "metadata": {},
   "outputs": [],
   "source": [
    "my_list[1] = 50  # Change element at index 1\n",
    "print(my_list) "
   ]
  },
  {
   "cell_type": "code",
   "execution_count": null,
   "id": "cbe55f0d-536a-4ee3-819d-bb30369821ef",
   "metadata": {},
   "outputs": [],
   "source": [
    "my_list.append(6)\n"
   ]
  },
  {
   "cell_type": "code",
   "execution_count": null,
   "id": "5d204079-a42c-4a93-b04d-735b5d05a085",
   "metadata": {},
   "outputs": [],
   "source": [
    "print(my_list)"
   ]
  },
  {
   "cell_type": "code",
   "execution_count": null,
   "id": "a43108f5-65be-4ad5-aac9-afdd987afb57",
   "metadata": {},
   "outputs": [],
   "source": [
    "\n",
    "my_list.pop(1)      # Removes the element at index 1\n",
    "print(my_list)     "
   ]
  },
  {
   "cell_type": "code",
   "execution_count": null,
   "id": "2e14a864-3268-4d66-b894-f0c4f175469e",
   "metadata": {},
   "outputs": [],
   "source": [
    "#if we want to remove element 3 so we use same index\n",
    "my_list.pop(1)      # Removes the element at index 1\n",
    "print(my_list)     "
   ]
  },
  {
   "cell_type": "code",
   "execution_count": null,
   "id": "8cffd9e0-c7be-4a5b-ada9-f58088847b02",
   "metadata": {},
   "outputs": [],
   "source": []
  },
  {
   "cell_type": "code",
   "execution_count": null,
   "id": "45341cc6-1547-4a2c-8582-ec52cf404972",
   "metadata": {},
   "outputs": [],
   "source": [
    "my_tuple = (1, 2, 3)\n",
    "\n",
    "print(my_tuple)\n"
   ]
  },
  {
   "cell_type": "markdown",
   "id": "fda2ede2-ff00-4f1c-9b83-1a86d23d35b7",
   "metadata": {},
   "source": [
    "### Assignment Task:\n",
    "\n",
    "- Create a list of names of 5 German desserts"
   ]
  },
  {
   "cell_type": "code",
   "execution_count": null,
   "id": "c2ea8379-fb96-4fef-bf3c-a9fc85e3ab8f",
   "metadata": {},
   "outputs": [],
   "source": []
  },
  {
   "cell_type": "markdown",
   "id": "3d919508-bbbd-4c60-93ee-cce4531f4b5e",
   "metadata": {},
   "source": [
    "-  Now replace the name of dessert at index 2"
   ]
  },
  {
   "cell_type": "code",
   "execution_count": null,
   "id": "87848a8c-a8c4-49bd-b794-646cdd3512a6",
   "metadata": {},
   "outputs": [],
   "source": []
  },
  {
   "cell_type": "markdown",
   "id": "48167dfd-fc69-495e-b99e-32a54520164a",
   "metadata": {},
   "source": [
    "- After that add name of your favourite dessert at the end of list "
   ]
  },
  {
   "cell_type": "code",
   "execution_count": null,
   "id": "32abb67e-03b3-4720-9021-6d23391d474f",
   "metadata": {},
   "outputs": [],
   "source": []
  },
  {
   "cell_type": "markdown",
   "id": "4decbe66-16af-4e5d-a022-3329a07958b0",
   "metadata": {},
   "source": [
    "-  At last, delete the name of least favourite dessert from already created list "
   ]
  },
  {
   "cell_type": "code",
   "execution_count": null,
   "id": "790f43a2-0c57-4567-8945-a0e155839495",
   "metadata": {},
   "outputs": [],
   "source": []
  },
  {
   "cell_type": "code",
   "execution_count": null,
   "id": "9c9abd37-af5e-4877-91c2-ae974e16d8f3",
   "metadata": {},
   "outputs": [],
   "source": []
  },
  {
   "cell_type": "markdown",
   "id": "2723a711-a7f0-42bc-b4ea-dbb473d334b4",
   "metadata": {},
   "source": [
    "## Equations and Operator Precedence"
   ]
  },
  {
   "cell_type": "markdown",
   "id": "9d438769-1f8e-46a9-b2b3-e69167bd55f7",
   "metadata": {},
   "source": [
    "- Try to manually find out the answer of this equation using PEDMAS \"x = 17 / 2 % 2 * 3**3\""
   ]
  },
  {
   "cell_type": "markdown",
   "id": "c54e96b4-c118-41a1-857e-3e51d0c61e16",
   "metadata": {},
   "source": [
    "- Copy paste the equation in cell below and verify your answer"
   ]
  },
  {
   "cell_type": "code",
   "execution_count": null,
   "id": "3fa8fadd-982b-4ae2-b518-f7b9698f8bd2",
   "metadata": {},
   "outputs": [],
   "source": []
  },
  {
   "cell_type": "code",
   "execution_count": null,
   "id": "8a86b82e-c8e0-46af-b45e-4399157b18a3",
   "metadata": {},
   "outputs": [],
   "source": []
  },
  {
   "cell_type": "code",
   "execution_count": null,
   "id": "f12f3bfc-1891-44c5-86a3-278ba77b19eb",
   "metadata": {},
   "outputs": [],
   "source": []
  },
  {
   "cell_type": "markdown",
   "id": "b1acf92a-f4f9-43fd-a6ba-1f30457949e1",
   "metadata": {},
   "source": [
    "- Try to manually find out the answer of this equation using PEDMAS y= 17/2 * 3**3 %2\n",
    "- Copy paste the equation in cell below and verify your answer\n"
   ]
  },
  {
   "cell_type": "code",
   "execution_count": null,
   "id": "cc20a561-53a9-4ef5-a331-e656407c5581",
   "metadata": {},
   "outputs": [],
   "source": []
  },
  {
   "cell_type": "code",
   "execution_count": null,
   "id": "78f47699-30e4-498c-86b9-4a836d1813ca",
   "metadata": {},
   "outputs": [],
   "source": []
  },
  {
   "cell_type": "markdown",
   "id": "70d37abf-671e-4e31-a47b-a8e6f67d7d38",
   "metadata": {},
   "source": [
    " \n",
    "- Try to manually find out the answer of this equation using PEDMAS z= 17/2 * 3**3 %2\n",
    "- Copy paste the equation in cell below and verify your answer\n"
   ]
  },
  {
   "cell_type": "code",
   "execution_count": null,
   "id": "954835c3-9f9e-4a9c-8532-0aea5e33e92a",
   "metadata": {},
   "outputs": [],
   "source": []
  },
  {
   "cell_type": "code",
   "execution_count": null,
   "id": "884bb022-ce99-4442-9592-919f83c368c8",
   "metadata": {},
   "outputs": [],
   "source": []
  },
  {
   "cell_type": "code",
   "execution_count": null,
   "id": "0a7da991-1055-4f10-92a8-14c7c5a13bcc",
   "metadata": {},
   "outputs": [],
   "source": []
  },
  {
   "cell_type": "code",
   "execution_count": 4,
   "id": "9d34eff7-5349-415b-ad82-9e5491194c6c",
   "metadata": {},
   "outputs": [],
   "source": [
    "Names=['Alice', 'Bob', 'Charlie']\n",
    "Age=[25, 30, 35]\n",
    "City =['New York', 'Los Angeles', 'Chicago']"
   ]
  },
  {
   "cell_type": "code",
   "execution_count": 5,
   "id": "0dce6da9-3dfd-479c-85ed-faf4fd935406",
   "metadata": {},
   "outputs": [
    {
     "name": "stdout",
     "output_type": "stream",
     "text": [
      "      Name  Age         City\n",
      "0    Alice   25     New York\n",
      "1      Bob   30  Los Angeles\n",
      "2  Charlie   35      Chicago\n",
      "3     Dave   20     Maryland\n",
      "4     Sara   40      Misouri\n",
      "5     Liza   18      Arizona\n"
     ]
    }
   ],
   "source": [
    "import pandas as pd\n",
    "\n",
    "data = {\n",
    "    'Name': ['Alice', 'Bob', 'Charlie','Dave','Sara','Liza'],\n",
    "    'Age': [25, 30, 35,20,40,18],\n",
    "    'City': ['New York', 'Los Angeles', 'Chicago','Maryland','Misouri','Arizona']\n",
    "}\n",
    "\n",
    "df = pd.DataFrame(data)\n",
    "print(df)"
   ]
  },
  {
   "cell_type": "code",
   "execution_count": 10,
   "id": "7ed626d0-3aff-4ac1-8348-6e7f460f528d",
   "metadata": {},
   "outputs": [
    {
     "data": {
      "text/plain": [
       "6"
      ]
     },
     "execution_count": 10,
     "metadata": {},
     "output_type": "execute_result"
    }
   ],
   "source": [
    "df.shape[0]"
   ]
  },
  {
   "cell_type": "code",
   "execution_count": 9,
   "id": "fa088a5c-6c87-4140-bfb1-2f7f1a9133eb",
   "metadata": {},
   "outputs": [
    {
     "data": {
      "text/plain": [
       "3"
      ]
     },
     "execution_count": 9,
     "metadata": {},
     "output_type": "execute_result"
    }
   ],
   "source": [
    "df.shape[1]"
   ]
  },
  {
   "cell_type": "code",
   "execution_count": 11,
   "id": "db1ccacd-83ba-4c3a-90e0-c0ea16c1dad6",
   "metadata": {},
   "outputs": [
    {
     "data": {
      "text/plain": [
       "(6, 3)"
      ]
     },
     "execution_count": 11,
     "metadata": {},
     "output_type": "execute_result"
    }
   ],
   "source": [
    "df.shape"
   ]
  },
  {
   "cell_type": "code",
   "execution_count": 14,
   "id": "730e81a1-e606-4337-889b-b82210b20691",
   "metadata": {},
   "outputs": [
    {
     "data": {
      "text/html": [
       "<div>\n",
       "<style scoped>\n",
       "    .dataframe tbody tr th:only-of-type {\n",
       "        vertical-align: middle;\n",
       "    }\n",
       "\n",
       "    .dataframe tbody tr th {\n",
       "        vertical-align: top;\n",
       "    }\n",
       "\n",
       "    .dataframe thead th {\n",
       "        text-align: right;\n",
       "    }\n",
       "</style>\n",
       "<table border=\"1\" class=\"dataframe\">\n",
       "  <thead>\n",
       "    <tr style=\"text-align: right;\">\n",
       "      <th></th>\n",
       "      <th>Name</th>\n",
       "      <th>Age</th>\n",
       "      <th>City</th>\n",
       "    </tr>\n",
       "  </thead>\n",
       "  <tbody>\n",
       "    <tr>\n",
       "      <th>0</th>\n",
       "      <td>Alice</td>\n",
       "      <td>25</td>\n",
       "      <td>New York</td>\n",
       "    </tr>\n",
       "    <tr>\n",
       "      <th>1</th>\n",
       "      <td>Bob</td>\n",
       "      <td>30</td>\n",
       "      <td>Los Angeles</td>\n",
       "    </tr>\n",
       "    <tr>\n",
       "      <th>2</th>\n",
       "      <td>Charlie</td>\n",
       "      <td>35</td>\n",
       "      <td>Chicago</td>\n",
       "    </tr>\n",
       "    <tr>\n",
       "      <th>3</th>\n",
       "      <td>Dave</td>\n",
       "      <td>20</td>\n",
       "      <td>Maryland</td>\n",
       "    </tr>\n",
       "    <tr>\n",
       "      <th>4</th>\n",
       "      <td>Sara</td>\n",
       "      <td>40</td>\n",
       "      <td>Misouri</td>\n",
       "    </tr>\n",
       "    <tr>\n",
       "      <th>5</th>\n",
       "      <td>Liza</td>\n",
       "      <td>18</td>\n",
       "      <td>Arizona</td>\n",
       "    </tr>\n",
       "  </tbody>\n",
       "</table>\n",
       "</div>"
      ],
      "text/plain": [
       "      Name  Age         City\n",
       "0    Alice   25     New York\n",
       "1      Bob   30  Los Angeles\n",
       "2  Charlie   35      Chicago\n",
       "3     Dave   20     Maryland\n",
       "4     Sara   40      Misouri\n",
       "5     Liza   18      Arizona"
      ]
     },
     "execution_count": 14,
     "metadata": {},
     "output_type": "execute_result"
    }
   ],
   "source": [
    "df.loc[:,:]"
   ]
  },
  {
   "cell_type": "code",
   "execution_count": 15,
   "id": "64ea1f99-faca-487e-bcf0-33d216c9dda3",
   "metadata": {},
   "outputs": [
    {
     "data": {
      "text/html": [
       "<div>\n",
       "<style scoped>\n",
       "    .dataframe tbody tr th:only-of-type {\n",
       "        vertical-align: middle;\n",
       "    }\n",
       "\n",
       "    .dataframe tbody tr th {\n",
       "        vertical-align: top;\n",
       "    }\n",
       "\n",
       "    .dataframe thead th {\n",
       "        text-align: right;\n",
       "    }\n",
       "</style>\n",
       "<table border=\"1\" class=\"dataframe\">\n",
       "  <thead>\n",
       "    <tr style=\"text-align: right;\">\n",
       "      <th></th>\n",
       "      <th>Name</th>\n",
       "      <th>Age</th>\n",
       "      <th>City</th>\n",
       "    </tr>\n",
       "  </thead>\n",
       "  <tbody>\n",
       "    <tr>\n",
       "      <th>3</th>\n",
       "      <td>Dave</td>\n",
       "      <td>20</td>\n",
       "      <td>Maryland</td>\n",
       "    </tr>\n",
       "    <tr>\n",
       "      <th>4</th>\n",
       "      <td>Sara</td>\n",
       "      <td>40</td>\n",
       "      <td>Misouri</td>\n",
       "    </tr>\n",
       "  </tbody>\n",
       "</table>\n",
       "</div>"
      ],
      "text/plain": [
       "   Name  Age      City\n",
       "3  Dave   20  Maryland\n",
       "4  Sara   40   Misouri"
      ]
     },
     "execution_count": 15,
     "metadata": {},
     "output_type": "execute_result"
    }
   ],
   "source": [
    "df.loc[3:4,:]"
   ]
  },
  {
   "cell_type": "code",
   "execution_count": 17,
   "id": "4657a561-db9b-4dcd-93e9-73f67fde92de",
   "metadata": {},
   "outputs": [
    {
     "data": {
      "text/html": [
       "<div>\n",
       "<style scoped>\n",
       "    .dataframe tbody tr th:only-of-type {\n",
       "        vertical-align: middle;\n",
       "    }\n",
       "\n",
       "    .dataframe tbody tr th {\n",
       "        vertical-align: top;\n",
       "    }\n",
       "\n",
       "    .dataframe thead th {\n",
       "        text-align: right;\n",
       "    }\n",
       "</style>\n",
       "<table border=\"1\" class=\"dataframe\">\n",
       "  <thead>\n",
       "    <tr style=\"text-align: right;\">\n",
       "      <th></th>\n",
       "      <th>City</th>\n",
       "    </tr>\n",
       "  </thead>\n",
       "  <tbody>\n",
       "    <tr>\n",
       "      <th>0</th>\n",
       "      <td>New York</td>\n",
       "    </tr>\n",
       "    <tr>\n",
       "      <th>1</th>\n",
       "      <td>Los Angeles</td>\n",
       "    </tr>\n",
       "    <tr>\n",
       "      <th>2</th>\n",
       "      <td>Chicago</td>\n",
       "    </tr>\n",
       "    <tr>\n",
       "      <th>3</th>\n",
       "      <td>Maryland</td>\n",
       "    </tr>\n",
       "    <tr>\n",
       "      <th>4</th>\n",
       "      <td>Misouri</td>\n",
       "    </tr>\n",
       "    <tr>\n",
       "      <th>5</th>\n",
       "      <td>Arizona</td>\n",
       "    </tr>\n",
       "  </tbody>\n",
       "</table>\n",
       "</div>"
      ],
      "text/plain": [
       "          City\n",
       "0     New York\n",
       "1  Los Angeles\n",
       "2      Chicago\n",
       "3     Maryland\n",
       "4      Misouri\n",
       "5      Arizona"
      ]
     },
     "execution_count": 17,
     "metadata": {},
     "output_type": "execute_result"
    }
   ],
   "source": [
    "df.loc[:,[\"City\"]]"
   ]
  },
  {
   "cell_type": "code",
   "execution_count": 19,
   "id": "1e8baf13-76d3-4ae1-a3ca-4ecda1002dd5",
   "metadata": {},
   "outputs": [
    {
     "data": {
      "text/html": [
       "<div>\n",
       "<style scoped>\n",
       "    .dataframe tbody tr th:only-of-type {\n",
       "        vertical-align: middle;\n",
       "    }\n",
       "\n",
       "    .dataframe tbody tr th {\n",
       "        vertical-align: top;\n",
       "    }\n",
       "\n",
       "    .dataframe thead th {\n",
       "        text-align: right;\n",
       "    }\n",
       "</style>\n",
       "<table border=\"1\" class=\"dataframe\">\n",
       "  <thead>\n",
       "    <tr style=\"text-align: right;\">\n",
       "      <th></th>\n",
       "      <th>Name</th>\n",
       "      <th>Age</th>\n",
       "      <th>City</th>\n",
       "    </tr>\n",
       "  </thead>\n",
       "  <tbody>\n",
       "    <tr>\n",
       "      <th>0</th>\n",
       "      <td>Alice</td>\n",
       "      <td>25</td>\n",
       "      <td>New York</td>\n",
       "    </tr>\n",
       "    <tr>\n",
       "      <th>2</th>\n",
       "      <td>Charlie</td>\n",
       "      <td>35</td>\n",
       "      <td>Chicago</td>\n",
       "    </tr>\n",
       "  </tbody>\n",
       "</table>\n",
       "</div>"
      ],
      "text/plain": [
       "      Name  Age      City\n",
       "0    Alice   25  New York\n",
       "2  Charlie   35   Chicago"
      ]
     },
     "execution_count": 19,
     "metadata": {},
     "output_type": "execute_result"
    }
   ],
   "source": [
    "df.loc[[0,2],:]"
   ]
  },
  {
   "cell_type": "code",
   "execution_count": 18,
   "id": "c0778d9c-b940-4267-92e7-cbef30169a5d",
   "metadata": {},
   "outputs": [
    {
     "data": {
      "text/html": [
       "<div>\n",
       "<style scoped>\n",
       "    .dataframe tbody tr th:only-of-type {\n",
       "        vertical-align: middle;\n",
       "    }\n",
       "\n",
       "    .dataframe tbody tr th {\n",
       "        vertical-align: top;\n",
       "    }\n",
       "\n",
       "    .dataframe thead th {\n",
       "        text-align: right;\n",
       "    }\n",
       "</style>\n",
       "<table border=\"1\" class=\"dataframe\">\n",
       "  <thead>\n",
       "    <tr style=\"text-align: right;\">\n",
       "      <th></th>\n",
       "      <th>Name</th>\n",
       "      <th>Age</th>\n",
       "      <th>City</th>\n",
       "    </tr>\n",
       "  </thead>\n",
       "  <tbody>\n",
       "    <tr>\n",
       "      <th>0</th>\n",
       "      <td>Alice</td>\n",
       "      <td>25</td>\n",
       "      <td>New York</td>\n",
       "    </tr>\n",
       "    <tr>\n",
       "      <th>1</th>\n",
       "      <td>Bob</td>\n",
       "      <td>30</td>\n",
       "      <td>Los Angeles</td>\n",
       "    </tr>\n",
       "    <tr>\n",
       "      <th>2</th>\n",
       "      <td>Charlie</td>\n",
       "      <td>35</td>\n",
       "      <td>Chicago</td>\n",
       "    </tr>\n",
       "    <tr>\n",
       "      <th>4</th>\n",
       "      <td>Sara</td>\n",
       "      <td>40</td>\n",
       "      <td>Misouri</td>\n",
       "    </tr>\n",
       "  </tbody>\n",
       "</table>\n",
       "</div>"
      ],
      "text/plain": [
       "      Name  Age         City\n",
       "0    Alice   25     New York\n",
       "1      Bob   30  Los Angeles\n",
       "2  Charlie   35      Chicago\n",
       "4     Sara   40      Misouri"
      ]
     },
     "execution_count": 18,
     "metadata": {},
     "output_type": "execute_result"
    }
   ],
   "source": [
    "df.loc[df.Age>20,:]"
   ]
  },
  {
   "cell_type": "markdown",
   "id": "87f2680f-9ccd-46e2-904f-97f78f946c82",
   "metadata": {},
   "source": [
    "### Create a Dataframe Yourself"
   ]
  },
  {
   "cell_type": "markdown",
   "id": "fe093f9c-9027-4239-bf1a-09617e317e40",
   "metadata": {},
   "source": [
    "- create a dataframe yourself using following employee data having employee name, salary , and profession"
   ]
  },
  {
   "cell_type": "code",
   "execution_count": 8,
   "id": "94b582ce-8fee-45ac-8d03-5cc80089d559",
   "metadata": {},
   "outputs": [],
   "source": [
    "area=[\"Sawsan\", 'Sara', 'John',\"Victoria\"]\n",
    "salary=[2500, 3000, 2000,5000]\n",
    "profession =['Designer', 'MarketingExpert', 'SoftwareEngineer','DataScientist']"
   ]
  },
  {
   "cell_type": "code",
   "execution_count": null,
   "id": "ec463132-2d14-4ed8-acfe-3aaabb0d4047",
   "metadata": {},
   "outputs": [],
   "source": []
  },
  {
   "cell_type": "code",
   "execution_count": null,
   "id": "90024657-5b7f-42dc-aaf8-59c2d8835a1f",
   "metadata": {},
   "outputs": [],
   "source": []
  },
  {
   "cell_type": "markdown",
   "id": "243adbc0-6bab-4921-9e66-bc080679b68d",
   "metadata": {},
   "source": [
    "- after creating dataframe, print length of number of rows in dataframe Hint: use shape "
   ]
  },
  {
   "cell_type": "code",
   "execution_count": null,
   "id": "14b6277d-27ab-492a-9ded-26bb5c569473",
   "metadata": {},
   "outputs": [],
   "source": []
  },
  {
   "cell_type": "markdown",
   "id": "a73270d6-8023-4123-a94b-999aee57cc59",
   "metadata": {},
   "source": [
    "- print data of only 0 column and all rows"
   ]
  },
  {
   "cell_type": "code",
   "execution_count": null,
   "id": "cebbcaa9-ab83-4c9f-92a0-e82f3ac4a6d3",
   "metadata": {},
   "outputs": [],
   "source": []
  },
  {
   "cell_type": "code",
   "execution_count": null,
   "id": "a229f3cf-fa74-406a-b20b-0377ec5ce284",
   "metadata": {},
   "outputs": [],
   "source": []
  },
  {
   "cell_type": "markdown",
   "id": "4af318fc-88dd-4115-a559-9f2e4ae8a8fc",
   "metadata": {},
   "source": [
    "- print data of only 1 and 4 rows and all columns"
   ]
  },
  {
   "cell_type": "code",
   "execution_count": null,
   "id": "bbef88f7-5e3d-4bc2-b558-e32665a5f53b",
   "metadata": {},
   "outputs": [],
   "source": []
  },
  {
   "cell_type": "code",
   "execution_count": null,
   "id": "c511db97-2d1b-4d10-8903-12584dc56493",
   "metadata": {},
   "outputs": [],
   "source": []
  },
  {
   "cell_type": "markdown",
   "id": "b2e7284c-e4da-4846-9291-b9b4e01c0874",
   "metadata": {},
   "source": [
    "-  print data of only 2 and 3 rows and profession column"
   ]
  },
  {
   "cell_type": "code",
   "execution_count": null,
   "id": "3691b157-18ae-47a0-9934-a36f2fc1e057",
   "metadata": {},
   "outputs": [],
   "source": []
  },
  {
   "cell_type": "code",
   "execution_count": null,
   "id": "1c9729f5-951d-4862-be9d-26e0914d7f90",
   "metadata": {},
   "outputs": [],
   "source": []
  },
  {
   "cell_type": "code",
   "execution_count": null,
   "id": "1d2776b7-47de-4c6b-9fee-8d2e8ca16af0",
   "metadata": {},
   "outputs": [],
   "source": []
  },
  {
   "cell_type": "markdown",
   "id": "4ff20b8e-db6b-42c1-aa8c-a49381bddee9",
   "metadata": {},
   "source": [
    "- print data of all employees having salary greater than 2000"
   ]
  },
  {
   "cell_type": "code",
   "execution_count": null,
   "id": "89b03768-e68c-46df-b399-1028b0a7b747",
   "metadata": {},
   "outputs": [],
   "source": []
  },
  {
   "cell_type": "code",
   "execution_count": null,
   "id": "440ed37a-74a5-4ef5-b15f-a037017c922a",
   "metadata": {},
   "outputs": [],
   "source": []
  },
  {
   "cell_type": "code",
   "execution_count": null,
   "id": "7bc4e212-a6bc-43c2-b6ab-68c1f61543f8",
   "metadata": {},
   "outputs": [],
   "source": []
  },
  {
   "cell_type": "code",
   "execution_count": null,
   "id": "d2ef4bec-e023-4737-8023-dc996b757cc8",
   "metadata": {},
   "outputs": [],
   "source": []
  },
  {
   "cell_type": "code",
   "execution_count": null,
   "id": "e0a7473b-aeaa-4bde-931c-c39bf5229b21",
   "metadata": {},
   "outputs": [],
   "source": []
  }
 ],
 "metadata": {
  "kernelspec": {
   "display_name": "Python 3 (ipykernel)",
   "language": "python",
   "name": "python3"
  },
  "language_info": {
   "codemirror_mode": {
    "name": "ipython",
    "version": 3
   },
   "file_extension": ".py",
   "mimetype": "text/x-python",
   "name": "python",
   "nbconvert_exporter": "python",
   "pygments_lexer": "ipython3",
   "version": "3.8.6"
  }
 },
 "nbformat": 4,
 "nbformat_minor": 5
}
