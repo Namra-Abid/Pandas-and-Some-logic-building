{
 "cells": [
  {
   "cell_type": "code",
   "execution_count": 1,
   "id": "a06fdc86-2698-4754-be8d-65f9dcb525a8",
   "metadata": {},
   "outputs": [],
   "source": [
    "import pandas as pd\n",
    "\n"
   ]
  },
  {
   "cell_type": "code",
   "execution_count": 2,
   "id": "78414cd7-52e2-4140-8609-02d4d6d8fcbe",
   "metadata": {},
   "outputs": [
    {
     "data": {
      "text/html": [
       "<div>\n",
       "<style scoped>\n",
       "    .dataframe tbody tr th:only-of-type {\n",
       "        vertical-align: middle;\n",
       "    }\n",
       "\n",
       "    .dataframe tbody tr th {\n",
       "        vertical-align: top;\n",
       "    }\n",
       "\n",
       "    .dataframe thead th {\n",
       "        text-align: right;\n",
       "    }\n",
       "</style>\n",
       "<table border=\"1\" class=\"dataframe\">\n",
       "  <thead>\n",
       "    <tr style=\"text-align: right;\">\n",
       "      <th></th>\n",
       "      <th>Country</th>\n",
       "      <th>Population</th>\n",
       "      <th>Area</th>\n",
       "      <th>GDP</th>\n",
       "      <th>Continent</th>\n",
       "    </tr>\n",
       "  </thead>\n",
       "  <tbody>\n",
       "    <tr>\n",
       "      <th>0</th>\n",
       "      <td>China</td>\n",
       "      <td>1398.72</td>\n",
       "      <td>9596.96</td>\n",
       "      <td>12234.78</td>\n",
       "      <td>Asia</td>\n",
       "    </tr>\n",
       "    <tr>\n",
       "      <th>1</th>\n",
       "      <td>India</td>\n",
       "      <td>1351.16</td>\n",
       "      <td>3287.26</td>\n",
       "      <td>2575.67</td>\n",
       "      <td>Asia</td>\n",
       "    </tr>\n",
       "    <tr>\n",
       "      <th>2</th>\n",
       "      <td>US</td>\n",
       "      <td>329.74</td>\n",
       "      <td>9833.52</td>\n",
       "      <td>19485.39</td>\n",
       "      <td>N.America</td>\n",
       "    </tr>\n",
       "    <tr>\n",
       "      <th>3</th>\n",
       "      <td>Indonesia</td>\n",
       "      <td>268.07</td>\n",
       "      <td>1910.93</td>\n",
       "      <td>1015.54</td>\n",
       "      <td>Asia</td>\n",
       "    </tr>\n",
       "    <tr>\n",
       "      <th>4</th>\n",
       "      <td>Brazil</td>\n",
       "      <td>210.32</td>\n",
       "      <td>8515.77</td>\n",
       "      <td>2055.51</td>\n",
       "      <td>S.America</td>\n",
       "    </tr>\n",
       "  </tbody>\n",
       "</table>\n",
       "</div>"
      ],
      "text/plain": [
       "     Country  Population     Area       GDP  Continent\n",
       "0      China     1398.72  9596.96  12234.78       Asia\n",
       "1      India     1351.16  3287.26   2575.67       Asia\n",
       "2         US      329.74  9833.52  19485.39  N.America\n",
       "3  Indonesia      268.07  1910.93   1015.54       Asia\n",
       "4     Brazil      210.32  8515.77   2055.51  S.America"
      ]
     },
     "execution_count": 2,
     "metadata": {},
     "output_type": "execute_result"
    }
   ],
   "source": [
    "df_countries=pd.read_csv(\"countries_with_continent.csv\")\n",
    "df_countries.head()"
   ]
  },
  {
   "cell_type": "markdown",
   "id": "1786acf0-239b-4f1d-9d5a-d00146536d35",
   "metadata": {},
   "source": [
    "Count the number of countries in each continent using Pandas."
   ]
  },
  {
   "cell_type": "code",
   "execution_count": 4,
   "id": "2f65df55-bdf2-4064-9ce1-2468e916a0e7",
   "metadata": {},
   "outputs": [
    {
     "data": {
      "text/plain": [
       "Continent\n",
       "Africa       2\n",
       "Asia         7\n",
       "Europe       5\n",
       "N.America    3\n",
       "Oceania      1\n",
       "S.America    2\n",
       "Name: Country, dtype: int64"
      ]
     },
     "execution_count": 4,
     "metadata": {},
     "output_type": "execute_result"
    }
   ],
   "source": [
    "df_countries.groupby(\"Continent\")[\"Country\"].count()"
   ]
  },
  {
   "cell_type": "code",
   "execution_count": null,
   "id": "9ad401b1-7a85-4b40-be9c-134b638b7e3c",
   "metadata": {},
   "outputs": [],
   "source": []
  },
  {
   "cell_type": "code",
   "execution_count": null,
   "id": "b502c47b-cec6-4814-95d9-37cdf768c35e",
   "metadata": {},
   "outputs": [],
   "source": []
  },
  {
   "cell_type": "code",
   "execution_count": null,
   "id": "265faf8c-ddcb-4467-99bf-c3f0be472bb2",
   "metadata": {},
   "outputs": [],
   "source": []
  },
  {
   "cell_type": "code",
   "execution_count": null,
   "id": "de67c58f-65ba-411b-9aa8-23f94fe79bf7",
   "metadata": {},
   "outputs": [],
   "source": []
  },
  {
   "cell_type": "code",
   "execution_count": null,
   "id": "d6191657-a97f-4db2-98e4-ceaaa2651650",
   "metadata": {},
   "outputs": [],
   "source": []
  },
  {
   "cell_type": "code",
   "execution_count": null,
   "id": "9ea6c08a-1969-4f0a-b269-c64bebb57ae5",
   "metadata": {},
   "outputs": [],
   "source": []
  },
  {
   "cell_type": "code",
   "execution_count": null,
   "id": "b87c54b2-e17c-471e-8304-dbd89804878f",
   "metadata": {},
   "outputs": [],
   "source": []
  },
  {
   "cell_type": "code",
   "execution_count": null,
   "id": "e89aa332-aaf9-4f2e-9c07-cbebda41f4d9",
   "metadata": {},
   "outputs": [],
   "source": [
    "# df_countries.groupby(\"Continent\")[\"Country\"].count()"
   ]
  },
  {
   "cell_type": "markdown",
   "id": "003d1f36-b99e-412e-9d47-7a5bb93af44e",
   "metadata": {},
   "source": [
    "Calculate the average GDP of countries in each continent using Pandas."
   ]
  },
  {
   "cell_type": "code",
   "execution_count": 6,
   "id": "ca58b9b8-280b-4b68-8b58-d77d8d92afc3",
   "metadata": {},
   "outputs": [],
   "source": [
    "# aggregate=count, mean, sum, max ,min"
   ]
  },
  {
   "cell_type": "code",
   "execution_count": 5,
   "id": "ef745bd0-f71e-4f37-871e-722dd9fe6b1d",
   "metadata": {},
   "outputs": [
    {
     "data": {
      "text/html": [
       "<div>\n",
       "<style scoped>\n",
       "    .dataframe tbody tr th:only-of-type {\n",
       "        vertical-align: middle;\n",
       "    }\n",
       "\n",
       "    .dataframe tbody tr th {\n",
       "        vertical-align: top;\n",
       "    }\n",
       "\n",
       "    .dataframe thead th {\n",
       "        text-align: right;\n",
       "    }\n",
       "</style>\n",
       "<table border=\"1\" class=\"dataframe\">\n",
       "  <thead>\n",
       "    <tr style=\"text-align: right;\">\n",
       "      <th></th>\n",
       "      <th>Country</th>\n",
       "      <th>Population</th>\n",
       "      <th>Area</th>\n",
       "      <th>GDP</th>\n",
       "      <th>Continent</th>\n",
       "    </tr>\n",
       "  </thead>\n",
       "  <tbody>\n",
       "    <tr>\n",
       "      <th>0</th>\n",
       "      <td>China</td>\n",
       "      <td>1398.72</td>\n",
       "      <td>9596.96</td>\n",
       "      <td>12234.78</td>\n",
       "      <td>Asia</td>\n",
       "    </tr>\n",
       "    <tr>\n",
       "      <th>1</th>\n",
       "      <td>India</td>\n",
       "      <td>1351.16</td>\n",
       "      <td>3287.26</td>\n",
       "      <td>2575.67</td>\n",
       "      <td>Asia</td>\n",
       "    </tr>\n",
       "  </tbody>\n",
       "</table>\n",
       "</div>"
      ],
      "text/plain": [
       "  Country  Population     Area       GDP Continent\n",
       "0   China     1398.72  9596.96  12234.78      Asia\n",
       "1   India     1351.16  3287.26   2575.67      Asia"
      ]
     },
     "execution_count": 5,
     "metadata": {},
     "output_type": "execute_result"
    }
   ],
   "source": [
    "df_countries.head(2)"
   ]
  },
  {
   "cell_type": "code",
   "execution_count": 7,
   "id": "1da8c848-a29d-4852-b005-d26659344137",
   "metadata": {},
   "outputs": [
    {
     "data": {
      "text/plain": [
       "Continent\n",
       "Africa        271.665000\n",
       "Asia         3057.941429\n",
       "Europe       2476.302000\n",
       "N.America    7430.246667\n",
       "Oceania      1408.680000\n",
       "S.America    1346.500000\n",
       "Name: GDP, dtype: float64"
      ]
     },
     "execution_count": 7,
     "metadata": {},
     "output_type": "execute_result"
    }
   ],
   "source": [
    "df_countries.groupby(\"Continent\")[\"GDP\"].mean()"
   ]
  },
  {
   "cell_type": "markdown",
   "id": "7f720a1e-4252-42f0-9bdd-1b803d425caa",
   "metadata": {},
   "source": [
    "Calculate the average Area of  in each continent usi`ng Pandas."
   ]
  },
  {
   "cell_type": "code",
   "execution_count": 11,
   "id": "93f7ef4f-00b6-4c60-9d9e-9fba3f058798",
   "metadata": {},
   "outputs": [
    {
     "data": {
      "text/html": [
       "<div>\n",
       "<style scoped>\n",
       "    .dataframe tbody tr th:only-of-type {\n",
       "        vertical-align: middle;\n",
       "    }\n",
       "\n",
       "    .dataframe tbody tr th {\n",
       "        vertical-align: top;\n",
       "    }\n",
       "\n",
       "    .dataframe thead th {\n",
       "        text-align: right;\n",
       "    }\n",
       "</style>\n",
       "<table border=\"1\" class=\"dataframe\">\n",
       "  <thead>\n",
       "    <tr style=\"text-align: right;\">\n",
       "      <th></th>\n",
       "      <th>Country</th>\n",
       "      <th>Population</th>\n",
       "      <th>Area</th>\n",
       "      <th>GDP</th>\n",
       "      <th>Continent</th>\n",
       "    </tr>\n",
       "  </thead>\n",
       "  <tbody>\n",
       "    <tr>\n",
       "      <th>0</th>\n",
       "      <td>China</td>\n",
       "      <td>1398.72</td>\n",
       "      <td>9596.96</td>\n",
       "      <td>12234.78</td>\n",
       "      <td>Asia</td>\n",
       "    </tr>\n",
       "    <tr>\n",
       "      <th>1</th>\n",
       "      <td>India</td>\n",
       "      <td>1351.16</td>\n",
       "      <td>3287.26</td>\n",
       "      <td>2575.67</td>\n",
       "      <td>Asia</td>\n",
       "    </tr>\n",
       "    <tr>\n",
       "      <th>2</th>\n",
       "      <td>US</td>\n",
       "      <td>329.74</td>\n",
       "      <td>9833.52</td>\n",
       "      <td>19485.39</td>\n",
       "      <td>N.America</td>\n",
       "    </tr>\n",
       "    <tr>\n",
       "      <th>3</th>\n",
       "      <td>Indonesia</td>\n",
       "      <td>268.07</td>\n",
       "      <td>1910.93</td>\n",
       "      <td>1015.54</td>\n",
       "      <td>Asia</td>\n",
       "    </tr>\n",
       "    <tr>\n",
       "      <th>4</th>\n",
       "      <td>Brazil</td>\n",
       "      <td>210.32</td>\n",
       "      <td>8515.77</td>\n",
       "      <td>2055.51</td>\n",
       "      <td>S.America</td>\n",
       "    </tr>\n",
       "  </tbody>\n",
       "</table>\n",
       "</div>"
      ],
      "text/plain": [
       "     Country  Population     Area       GDP  Continent\n",
       "0      China     1398.72  9596.96  12234.78       Asia\n",
       "1      India     1351.16  3287.26   2575.67       Asia\n",
       "2         US      329.74  9833.52  19485.39  N.America\n",
       "3  Indonesia      268.07  1910.93   1015.54       Asia\n",
       "4     Brazil      210.32  8515.77   2055.51  S.America"
      ]
     },
     "execution_count": 11,
     "metadata": {},
     "output_type": "execute_result"
    }
   ],
   "source": [
    "df_countries.head()"
   ]
  },
  {
   "cell_type": "code",
   "execution_count": 12,
   "id": "5462929f-1e12-4f59-a65d-0785a7e92b76",
   "metadata": {},
   "outputs": [
    {
     "data": {
      "text/plain": [
       "Continent\n",
       "Africa       1652.755000\n",
       "Asia         2703.928571\n",
       "Europe       3727.976000\n",
       "N.America    7260.856667\n",
       "Oceania      7692.020000\n",
       "S.America    5648.085000\n",
       "Name: Area, dtype: float64"
      ]
     },
     "execution_count": 12,
     "metadata": {},
     "output_type": "execute_result"
    }
   ],
   "source": [
    "df_countries.groupby(\"Continent\")[\"Area\"].mean()"
   ]
  },
  {
   "cell_type": "code",
   "execution_count": null,
   "id": "1a4bc076-0c30-442f-9562-014ab736d501",
   "metadata": {},
   "outputs": [],
   "source": []
  },
  {
   "cell_type": "markdown",
   "id": "0630b374-46db-4f55-9956-80a3ff9d3a3b",
   "metadata": {},
   "source": [
    "Filter out the rows with Continent as Asia"
   ]
  },
  {
   "cell_type": "code",
   "execution_count": null,
   "id": "846c4d18-22a5-46b1-a0c5-e39b7a80deea",
   "metadata": {},
   "outputs": [],
   "source": [
    "df.loc[index of rows,Name of columns]"
   ]
  },
  {
   "cell_type": "code",
   "execution_count": 16,
   "id": "b6f21863-1313-4a03-9ed5-9d471978610a",
   "metadata": {},
   "outputs": [
    {
     "data": {
      "text/html": [
       "<div>\n",
       "<style scoped>\n",
       "    .dataframe tbody tr th:only-of-type {\n",
       "        vertical-align: middle;\n",
       "    }\n",
       "\n",
       "    .dataframe tbody tr th {\n",
       "        vertical-align: top;\n",
       "    }\n",
       "\n",
       "    .dataframe thead th {\n",
       "        text-align: right;\n",
       "    }\n",
       "</style>\n",
       "<table border=\"1\" class=\"dataframe\">\n",
       "  <thead>\n",
       "    <tr style=\"text-align: right;\">\n",
       "      <th></th>\n",
       "      <th>Country</th>\n",
       "      <th>Population</th>\n",
       "      <th>Area</th>\n",
       "      <th>GDP</th>\n",
       "      <th>Continent</th>\n",
       "    </tr>\n",
       "  </thead>\n",
       "  <tbody>\n",
       "    <tr>\n",
       "      <th>0</th>\n",
       "      <td>China</td>\n",
       "      <td>1398.72</td>\n",
       "      <td>9596.96</td>\n",
       "      <td>12234.78</td>\n",
       "      <td>Asia</td>\n",
       "    </tr>\n",
       "    <tr>\n",
       "      <th>1</th>\n",
       "      <td>India</td>\n",
       "      <td>1351.16</td>\n",
       "      <td>3287.26</td>\n",
       "      <td>2575.67</td>\n",
       "      <td>Asia</td>\n",
       "    </tr>\n",
       "    <tr>\n",
       "      <th>2</th>\n",
       "      <td>US</td>\n",
       "      <td>329.74</td>\n",
       "      <td>9833.52</td>\n",
       "      <td>19485.39</td>\n",
       "      <td>N.America</td>\n",
       "    </tr>\n",
       "    <tr>\n",
       "      <th>3</th>\n",
       "      <td>Indonesia</td>\n",
       "      <td>268.07</td>\n",
       "      <td>1910.93</td>\n",
       "      <td>1015.54</td>\n",
       "      <td>Asia</td>\n",
       "    </tr>\n",
       "    <tr>\n",
       "      <th>4</th>\n",
       "      <td>Brazil</td>\n",
       "      <td>210.32</td>\n",
       "      <td>8515.77</td>\n",
       "      <td>2055.51</td>\n",
       "      <td>S.America</td>\n",
       "    </tr>\n",
       "    <tr>\n",
       "      <th>5</th>\n",
       "      <td>Pakistan</td>\n",
       "      <td>205.71</td>\n",
       "      <td>881.91</td>\n",
       "      <td>302.14</td>\n",
       "      <td>Asia</td>\n",
       "    </tr>\n",
       "  </tbody>\n",
       "</table>\n",
       "</div>"
      ],
      "text/plain": [
       "     Country  Population     Area       GDP  Continent\n",
       "0      China     1398.72  9596.96  12234.78       Asia\n",
       "1      India     1351.16  3287.26   2575.67       Asia\n",
       "2         US      329.74  9833.52  19485.39  N.America\n",
       "3  Indonesia      268.07  1910.93   1015.54       Asia\n",
       "4     Brazil      210.32  8515.77   2055.51  S.America\n",
       "5   Pakistan      205.71   881.91    302.14       Asia"
      ]
     },
     "execution_count": 16,
     "metadata": {},
     "output_type": "execute_result"
    }
   ],
   "source": [
    "df_countries.loc[0:5,]"
   ]
  },
  {
   "cell_type": "code",
   "execution_count": 18,
   "id": "b8675cdd-3040-4f4b-8dc1-c470fd3a3592",
   "metadata": {},
   "outputs": [
    {
     "data": {
      "text/plain": [
       "0          Asia\n",
       "1          Asia\n",
       "2     N.America\n",
       "3          Asia\n",
       "4     S.America\n",
       "5          Asia\n",
       "6        Africa\n",
       "7          Asia\n",
       "8        Europe\n",
       "9     N.America\n",
       "10         Asia\n",
       "11       Europe\n",
       "12       Europe\n",
       "13       Europe\n",
       "14       Europe\n",
       "15    S.America\n",
       "16       Africa\n",
       "17    N.America\n",
       "18      Oceania\n",
       "19         Asia\n",
       "Name: Continent, dtype: object"
      ]
     },
     "execution_count": 18,
     "metadata": {},
     "output_type": "execute_result"
    }
   ],
   "source": [
    "df_countries[\"Continent\"]"
   ]
  },
  {
   "cell_type": "code",
   "execution_count": 17,
   "id": "f31fd868-42d6-4ea9-935c-26a497a35a33",
   "metadata": {},
   "outputs": [
    {
     "data": {
      "text/plain": [
       "0      True\n",
       "1      True\n",
       "2     False\n",
       "3      True\n",
       "4     False\n",
       "5      True\n",
       "6     False\n",
       "7      True\n",
       "8     False\n",
       "9     False\n",
       "10     True\n",
       "11    False\n",
       "12    False\n",
       "13    False\n",
       "14    False\n",
       "15    False\n",
       "16    False\n",
       "17    False\n",
       "18    False\n",
       "19     True\n",
       "Name: Continent, dtype: bool"
      ]
     },
     "execution_count": 17,
     "metadata": {},
     "output_type": "execute_result"
    }
   ],
   "source": [
    "df_countries[\"Continent\"]==\"Asia\""
   ]
  },
  {
   "cell_type": "code",
   "execution_count": 19,
   "id": "b6e2ec63-70ea-4637-b3e2-d3bbd7afc09a",
   "metadata": {},
   "outputs": [
    {
     "data": {
      "text/html": [
       "<div>\n",
       "<style scoped>\n",
       "    .dataframe tbody tr th:only-of-type {\n",
       "        vertical-align: middle;\n",
       "    }\n",
       "\n",
       "    .dataframe tbody tr th {\n",
       "        vertical-align: top;\n",
       "    }\n",
       "\n",
       "    .dataframe thead th {\n",
       "        text-align: right;\n",
       "    }\n",
       "</style>\n",
       "<table border=\"1\" class=\"dataframe\">\n",
       "  <thead>\n",
       "    <tr style=\"text-align: right;\">\n",
       "      <th></th>\n",
       "      <th>Country</th>\n",
       "      <th>Population</th>\n",
       "      <th>Area</th>\n",
       "      <th>GDP</th>\n",
       "      <th>Continent</th>\n",
       "    </tr>\n",
       "  </thead>\n",
       "  <tbody>\n",
       "    <tr>\n",
       "      <th>0</th>\n",
       "      <td>China</td>\n",
       "      <td>1398.72</td>\n",
       "      <td>9596.96</td>\n",
       "      <td>12234.78</td>\n",
       "      <td>Asia</td>\n",
       "    </tr>\n",
       "    <tr>\n",
       "      <th>1</th>\n",
       "      <td>India</td>\n",
       "      <td>1351.16</td>\n",
       "      <td>3287.26</td>\n",
       "      <td>2575.67</td>\n",
       "      <td>Asia</td>\n",
       "    </tr>\n",
       "    <tr>\n",
       "      <th>3</th>\n",
       "      <td>Indonesia</td>\n",
       "      <td>268.07</td>\n",
       "      <td>1910.93</td>\n",
       "      <td>1015.54</td>\n",
       "      <td>Asia</td>\n",
       "    </tr>\n",
       "    <tr>\n",
       "      <th>5</th>\n",
       "      <td>Pakistan</td>\n",
       "      <td>205.71</td>\n",
       "      <td>881.91</td>\n",
       "      <td>302.14</td>\n",
       "      <td>Asia</td>\n",
       "    </tr>\n",
       "    <tr>\n",
       "      <th>7</th>\n",
       "      <td>Bangladesh</td>\n",
       "      <td>167.09</td>\n",
       "      <td>147.57</td>\n",
       "      <td>245.63</td>\n",
       "      <td>Asia</td>\n",
       "    </tr>\n",
       "  </tbody>\n",
       "</table>\n",
       "</div>"
      ],
      "text/plain": [
       "      Country  Population     Area       GDP Continent\n",
       "0       China     1398.72  9596.96  12234.78      Asia\n",
       "1       India     1351.16  3287.26   2575.67      Asia\n",
       "3   Indonesia      268.07  1910.93   1015.54      Asia\n",
       "5    Pakistan      205.71   881.91    302.14      Asia\n",
       "7  Bangladesh      167.09   147.57    245.63      Asia"
      ]
     },
     "execution_count": 19,
     "metadata": {},
     "output_type": "execute_result"
    }
   ],
   "source": [
    "df_countries.loc[[0,1,3,5,7],]"
   ]
  },
  {
   "cell_type": "code",
   "execution_count": 20,
   "id": "652632fd-af50-4754-a7b2-240095ded09f",
   "metadata": {},
   "outputs": [
    {
     "data": {
      "text/html": [
       "<div>\n",
       "<style scoped>\n",
       "    .dataframe tbody tr th:only-of-type {\n",
       "        vertical-align: middle;\n",
       "    }\n",
       "\n",
       "    .dataframe tbody tr th {\n",
       "        vertical-align: top;\n",
       "    }\n",
       "\n",
       "    .dataframe thead th {\n",
       "        text-align: right;\n",
       "    }\n",
       "</style>\n",
       "<table border=\"1\" class=\"dataframe\">\n",
       "  <thead>\n",
       "    <tr style=\"text-align: right;\">\n",
       "      <th></th>\n",
       "      <th>Country</th>\n",
       "      <th>Population</th>\n",
       "      <th>Area</th>\n",
       "      <th>GDP</th>\n",
       "      <th>Continent</th>\n",
       "    </tr>\n",
       "  </thead>\n",
       "  <tbody>\n",
       "    <tr>\n",
       "      <th>0</th>\n",
       "      <td>China</td>\n",
       "      <td>1398.72</td>\n",
       "      <td>9596.96</td>\n",
       "      <td>12234.78</td>\n",
       "      <td>Asia</td>\n",
       "    </tr>\n",
       "    <tr>\n",
       "      <th>1</th>\n",
       "      <td>India</td>\n",
       "      <td>1351.16</td>\n",
       "      <td>3287.26</td>\n",
       "      <td>2575.67</td>\n",
       "      <td>Asia</td>\n",
       "    </tr>\n",
       "    <tr>\n",
       "      <th>3</th>\n",
       "      <td>Indonesia</td>\n",
       "      <td>268.07</td>\n",
       "      <td>1910.93</td>\n",
       "      <td>1015.54</td>\n",
       "      <td>Asia</td>\n",
       "    </tr>\n",
       "    <tr>\n",
       "      <th>5</th>\n",
       "      <td>Pakistan</td>\n",
       "      <td>205.71</td>\n",
       "      <td>881.91</td>\n",
       "      <td>302.14</td>\n",
       "      <td>Asia</td>\n",
       "    </tr>\n",
       "    <tr>\n",
       "      <th>7</th>\n",
       "      <td>Bangladesh</td>\n",
       "      <td>167.09</td>\n",
       "      <td>147.57</td>\n",
       "      <td>245.63</td>\n",
       "      <td>Asia</td>\n",
       "    </tr>\n",
       "    <tr>\n",
       "      <th>10</th>\n",
       "      <td>Japan</td>\n",
       "      <td>126.22</td>\n",
       "      <td>377.97</td>\n",
       "      <td>4872.42</td>\n",
       "      <td>Asia</td>\n",
       "    </tr>\n",
       "    <tr>\n",
       "      <th>19</th>\n",
       "      <td>Kazakhstan</td>\n",
       "      <td>18.53</td>\n",
       "      <td>2724.90</td>\n",
       "      <td>159.41</td>\n",
       "      <td>Asia</td>\n",
       "    </tr>\n",
       "  </tbody>\n",
       "</table>\n",
       "</div>"
      ],
      "text/plain": [
       "       Country  Population     Area       GDP Continent\n",
       "0        China     1398.72  9596.96  12234.78      Asia\n",
       "1        India     1351.16  3287.26   2575.67      Asia\n",
       "3    Indonesia      268.07  1910.93   1015.54      Asia\n",
       "5     Pakistan      205.71   881.91    302.14      Asia\n",
       "7   Bangladesh      167.09   147.57    245.63      Asia\n",
       "10       Japan      126.22   377.97   4872.42      Asia\n",
       "19  Kazakhstan       18.53  2724.90    159.41      Asia"
      ]
     },
     "execution_count": 20,
     "metadata": {},
     "output_type": "execute_result"
    }
   ],
   "source": [
    "df_countries.loc[df_countries[\"Continent\"]==\"Asia\",]"
   ]
  },
  {
   "cell_type": "markdown",
   "id": "eeb65ad1-0fa9-4beb-85b1-60c01dece4b0",
   "metadata": {},
   "source": [
    "Filter out all rows where continent is Europe"
   ]
  },
  {
   "cell_type": "code",
   "execution_count": 22,
   "id": "81599601-346c-4eaf-bd4c-efd9d69df5c4",
   "metadata": {},
   "outputs": [
    {
     "data": {
      "text/html": [
       "<div>\n",
       "<style scoped>\n",
       "    .dataframe tbody tr th:only-of-type {\n",
       "        vertical-align: middle;\n",
       "    }\n",
       "\n",
       "    .dataframe tbody tr th {\n",
       "        vertical-align: top;\n",
       "    }\n",
       "\n",
       "    .dataframe thead th {\n",
       "        text-align: right;\n",
       "    }\n",
       "</style>\n",
       "<table border=\"1\" class=\"dataframe\">\n",
       "  <thead>\n",
       "    <tr style=\"text-align: right;\">\n",
       "      <th></th>\n",
       "      <th>Country</th>\n",
       "      <th>Population</th>\n",
       "      <th>Area</th>\n",
       "      <th>GDP</th>\n",
       "      <th>Continent</th>\n",
       "    </tr>\n",
       "  </thead>\n",
       "  <tbody>\n",
       "    <tr>\n",
       "      <th>8</th>\n",
       "      <td>Russia</td>\n",
       "      <td>146.79</td>\n",
       "      <td>17098.25</td>\n",
       "      <td>1530.75</td>\n",
       "      <td>Europe</td>\n",
       "    </tr>\n",
       "    <tr>\n",
       "      <th>11</th>\n",
       "      <td>Germany</td>\n",
       "      <td>83.02</td>\n",
       "      <td>357.11</td>\n",
       "      <td>3693.20</td>\n",
       "      <td>Europe</td>\n",
       "    </tr>\n",
       "    <tr>\n",
       "      <th>12</th>\n",
       "      <td>France</td>\n",
       "      <td>67.02</td>\n",
       "      <td>640.68</td>\n",
       "      <td>2582.49</td>\n",
       "      <td>Europe</td>\n",
       "    </tr>\n",
       "    <tr>\n",
       "      <th>13</th>\n",
       "      <td>UK</td>\n",
       "      <td>66.44</td>\n",
       "      <td>242.50</td>\n",
       "      <td>2631.23</td>\n",
       "      <td>Europe</td>\n",
       "    </tr>\n",
       "    <tr>\n",
       "      <th>14</th>\n",
       "      <td>Italy</td>\n",
       "      <td>60.36</td>\n",
       "      <td>301.34</td>\n",
       "      <td>1943.84</td>\n",
       "      <td>Europe</td>\n",
       "    </tr>\n",
       "  </tbody>\n",
       "</table>\n",
       "</div>"
      ],
      "text/plain": [
       "    Country  Population      Area      GDP Continent\n",
       "8    Russia      146.79  17098.25  1530.75    Europe\n",
       "11  Germany       83.02    357.11  3693.20    Europe\n",
       "12   France       67.02    640.68  2582.49    Europe\n",
       "13       UK       66.44    242.50  2631.23    Europe\n",
       "14    Italy       60.36    301.34  1943.84    Europe"
      ]
     },
     "execution_count": 22,
     "metadata": {},
     "output_type": "execute_result"
    }
   ],
   "source": [
    "df_countries.loc[df_countries[\"Continent\"]==\"Europe\",]"
   ]
  },
  {
   "cell_type": "code",
   "execution_count": null,
   "id": "31a7d143-9a53-41e5-877e-c6efd4ef430a",
   "metadata": {},
   "outputs": [],
   "source": []
  },
  {
   "cell_type": "markdown",
   "id": "5b52662d-4b4d-4716-82b6-38d0405eede9",
   "metadata": {},
   "source": [
    "Calculate total population of each continent"
   ]
  },
  {
   "cell_type": "code",
   "execution_count": null,
   "id": "d414f8f8-f91a-41b8-b72f-fd9477993fbb",
   "metadata": {},
   "outputs": [],
   "source": [
    "#names_of_dataframe.groupby(sttring column name)[numericoumn].aggregatefucntionname"
   ]
  },
  {
   "cell_type": "code",
   "execution_count": 23,
   "id": "49022420-24d0-4f4b-833e-3c6a45018ba6",
   "metadata": {},
   "outputs": [
    {
     "data": {
      "text/plain": [
       "Continent\n",
       "Africa        244.34\n",
       "Asia         3535.50\n",
       "Europe        423.63\n",
       "N.America     493.91\n",
       "Oceania        25.47\n",
       "S.America     255.26\n",
       "Name: Population, dtype: float64"
      ]
     },
     "execution_count": 23,
     "metadata": {},
     "output_type": "execute_result"
    }
   ],
   "source": [
    "\n",
    "df_countries.groupby(\"Continent\")[\"Population\"].sum()"
   ]
  },
  {
   "cell_type": "code",
   "execution_count": null,
   "id": "44fcef61-1f84-4e69-b50a-99161ef91c60",
   "metadata": {},
   "outputs": [],
   "source": []
  },
  {
   "cell_type": "code",
   "execution_count": null,
   "id": "2b0368e0-bc0a-4426-8cf2-6e58bcc65306",
   "metadata": {},
   "outputs": [],
   "source": []
  },
  {
   "cell_type": "code",
   "execution_count": null,
   "id": "5bb935bc-a014-44e1-be5b-31dddc681ca8",
   "metadata": {},
   "outputs": [],
   "source": [
    "# df_countries.groupby(\"Continent\")[\"GDP\"].mean()"
   ]
  },
  {
   "cell_type": "markdown",
   "id": "7ea07267-4d17-4566-a028-14fe9b9e480c",
   "metadata": {},
   "source": [
    "Calculate the GDP per capita for each continent | by dividing | the total population of each Continent using Pandas"
   ]
  },
  {
   "cell_type": "markdown",
   "id": "9f7bdda0-ad4b-4933-8e1f-881f05bf6669",
   "metadata": {},
   "source": [
    "Group by Indicator\n",
    "- each\n",
    "- by \n",
    "- per\n",
    "- "
   ]
  },
  {
   "cell_type": "code",
   "execution_count": 24,
   "id": "5e7a270e-2294-4659-ba24-e948ff1450c3",
   "metadata": {},
   "outputs": [
    {
     "data": {
      "text/html": [
       "<div>\n",
       "<style scoped>\n",
       "    .dataframe tbody tr th:only-of-type {\n",
       "        vertical-align: middle;\n",
       "    }\n",
       "\n",
       "    .dataframe tbody tr th {\n",
       "        vertical-align: top;\n",
       "    }\n",
       "\n",
       "    .dataframe thead th {\n",
       "        text-align: right;\n",
       "    }\n",
       "</style>\n",
       "<table border=\"1\" class=\"dataframe\">\n",
       "  <thead>\n",
       "    <tr style=\"text-align: right;\">\n",
       "      <th></th>\n",
       "      <th>Country</th>\n",
       "      <th>Population</th>\n",
       "      <th>Area</th>\n",
       "      <th>GDP</th>\n",
       "      <th>Continent</th>\n",
       "    </tr>\n",
       "  </thead>\n",
       "  <tbody>\n",
       "    <tr>\n",
       "      <th>0</th>\n",
       "      <td>China</td>\n",
       "      <td>1398.72</td>\n",
       "      <td>9596.96</td>\n",
       "      <td>12234.78</td>\n",
       "      <td>Asia</td>\n",
       "    </tr>\n",
       "    <tr>\n",
       "      <th>1</th>\n",
       "      <td>India</td>\n",
       "      <td>1351.16</td>\n",
       "      <td>3287.26</td>\n",
       "      <td>2575.67</td>\n",
       "      <td>Asia</td>\n",
       "    </tr>\n",
       "  </tbody>\n",
       "</table>\n",
       "</div>"
      ],
      "text/plain": [
       "  Country  Population     Area       GDP Continent\n",
       "0   China     1398.72  9596.96  12234.78      Asia\n",
       "1   India     1351.16  3287.26   2575.67      Asia"
      ]
     },
     "execution_count": 24,
     "metadata": {},
     "output_type": "execute_result"
    }
   ],
   "source": [
    "df_countries.head(2)"
   ]
  },
  {
   "cell_type": "code",
   "execution_count": 26,
   "id": "48437fb9-730e-40f3-ad99-3e8e221ad366",
   "metadata": {},
   "outputs": [
    {
     "data": {
      "text/plain": [
       "Continent\n",
       "Africa         543.33\n",
       "Asia         21405.59\n",
       "Europe       12381.51\n",
       "N.America    22290.74\n",
       "Oceania       1408.68\n",
       "S.America     2693.00\n",
       "Name: GDP, dtype: float64"
      ]
     },
     "execution_count": 26,
     "metadata": {},
     "output_type": "execute_result"
    }
   ],
   "source": [
    "df_countries.groupby(\"Continent\")[\"GDP\"].sum()"
   ]
  },
  {
   "cell_type": "code",
   "execution_count": 27,
   "id": "6c4888b4-477a-42a5-bac7-2df6b4e87543",
   "metadata": {},
   "outputs": [
    {
     "data": {
      "text/plain": [
       "Continent\n",
       "Africa        244.34\n",
       "Asia         3535.50\n",
       "Europe        423.63\n",
       "N.America     493.91\n",
       "Oceania        25.47\n",
       "S.America     255.26\n",
       "Name: Population, dtype: float64"
      ]
     },
     "execution_count": 27,
     "metadata": {},
     "output_type": "execute_result"
    }
   ],
   "source": [
    "df_countries.groupby(\"Continent\")[\"Population\"].sum()"
   ]
  },
  {
   "cell_type": "code",
   "execution_count": 28,
   "id": "f49ce43a-9667-4431-821a-0715b5282120",
   "metadata": {},
   "outputs": [
    {
     "data": {
      "text/plain": [
       "Continent\n",
       "Africa        2.223664\n",
       "Asia          6.054473\n",
       "Europe       29.227179\n",
       "N.America    45.131178\n",
       "Oceania      55.307420\n",
       "S.America    10.550027\n",
       "dtype: float64"
      ]
     },
     "execution_count": 28,
     "metadata": {},
     "output_type": "execute_result"
    }
   ],
   "source": [
    "df_countries.groupby(\"Continent\")[\"GDP\"].sum() /df_countries.groupby(\"Continent\")[\"Population\"].sum()"
   ]
  },
  {
   "cell_type": "code",
   "execution_count": null,
   "id": "79a5a3fb-768a-4133-8394-1a28ddd77f24",
   "metadata": {},
   "outputs": [],
   "source": []
  },
  {
   "cell_type": "code",
   "execution_count": null,
   "id": "4c94e641-a0cf-4b38-b890-055b4e45e679",
   "metadata": {},
   "outputs": [],
   "source": [
    "# df_countries.groupby(\"Continent\")[\"GDP\"].sum() / df_countries.groupby(\"Continent\")[\"Population\"].sum()"
   ]
  },
  {
   "cell_type": "code",
   "execution_count": null,
   "id": "ebc34ccb-d49b-4af6-9d8f-6bfabd272082",
   "metadata": {},
   "outputs": [],
   "source": [
    "len(df_countries)"
   ]
  },
  {
   "cell_type": "code",
   "execution_count": 29,
   "id": "324d5023-3a8d-49b9-8634-990f7f50d3ab",
   "metadata": {},
   "outputs": [
    {
     "data": {
      "text/html": [
       "<div>\n",
       "<style scoped>\n",
       "    .dataframe tbody tr th:only-of-type {\n",
       "        vertical-align: middle;\n",
       "    }\n",
       "\n",
       "    .dataframe tbody tr th {\n",
       "        vertical-align: top;\n",
       "    }\n",
       "\n",
       "    .dataframe thead th {\n",
       "        text-align: right;\n",
       "    }\n",
       "</style>\n",
       "<table border=\"1\" class=\"dataframe\">\n",
       "  <thead>\n",
       "    <tr style=\"text-align: right;\">\n",
       "      <th></th>\n",
       "      <th>Policy</th>\n",
       "      <th>Expiry</th>\n",
       "      <th>Location</th>\n",
       "      <th>State</th>\n",
       "      <th>Region</th>\n",
       "      <th>InsuredValue</th>\n",
       "      <th>Construction</th>\n",
       "      <th>BusinessType</th>\n",
       "      <th>Earthquake</th>\n",
       "      <th>Flood</th>\n",
       "    </tr>\n",
       "  </thead>\n",
       "  <tbody>\n",
       "    <tr>\n",
       "      <th>0</th>\n",
       "      <td>100242</td>\n",
       "      <td>2021-01-02</td>\n",
       "      <td>Urban</td>\n",
       "      <td>NY</td>\n",
       "      <td>East</td>\n",
       "      <td>1617630</td>\n",
       "      <td>Frame</td>\n",
       "      <td>Retail</td>\n",
       "      <td>N</td>\n",
       "      <td>N</td>\n",
       "    </tr>\n",
       "    <tr>\n",
       "      <th>1</th>\n",
       "      <td>100314</td>\n",
       "      <td>2021-01-02</td>\n",
       "      <td>Urban</td>\n",
       "      <td>NY</td>\n",
       "      <td>East</td>\n",
       "      <td>8678500</td>\n",
       "      <td>Fire Resist</td>\n",
       "      <td>Apartment</td>\n",
       "      <td>Y</td>\n",
       "      <td>Y</td>\n",
       "    </tr>\n",
       "    <tr>\n",
       "      <th>2</th>\n",
       "      <td>100359</td>\n",
       "      <td>2021-01-02</td>\n",
       "      <td>Rural</td>\n",
       "      <td>WI</td>\n",
       "      <td>Midwest</td>\n",
       "      <td>2052660</td>\n",
       "      <td>Frame</td>\n",
       "      <td>Farming</td>\n",
       "      <td>N</td>\n",
       "      <td>N</td>\n",
       "    </tr>\n",
       "    <tr>\n",
       "      <th>3</th>\n",
       "      <td>100315</td>\n",
       "      <td>2021-01-03</td>\n",
       "      <td>Urban</td>\n",
       "      <td>NY</td>\n",
       "      <td>East</td>\n",
       "      <td>17580000</td>\n",
       "      <td>Frame</td>\n",
       "      <td>Apartment</td>\n",
       "      <td>Y</td>\n",
       "      <td>Y</td>\n",
       "    </tr>\n",
       "    <tr>\n",
       "      <th>4</th>\n",
       "      <td>100385</td>\n",
       "      <td>2021-01-03</td>\n",
       "      <td>Urban</td>\n",
       "      <td>NY</td>\n",
       "      <td>East</td>\n",
       "      <td>1925000</td>\n",
       "      <td>Masonry</td>\n",
       "      <td>Hospitality</td>\n",
       "      <td>N</td>\n",
       "      <td>N</td>\n",
       "    </tr>\n",
       "  </tbody>\n",
       "</table>\n",
       "</div>"
      ],
      "text/plain": [
       "   Policy     Expiry Location State   Region  InsuredValue Construction  \\\n",
       "0  100242 2021-01-02    Urban    NY     East       1617630        Frame   \n",
       "1  100314 2021-01-02    Urban    NY     East       8678500  Fire Resist   \n",
       "2  100359 2021-01-02    Rural    WI  Midwest       2052660        Frame   \n",
       "3  100315 2021-01-03    Urban    NY     East      17580000        Frame   \n",
       "4  100385 2021-01-03    Urban    NY     East       1925000      Masonry   \n",
       "\n",
       "  BusinessType Earthquake Flood  \n",
       "0       Retail          N     N  \n",
       "1    Apartment          Y     Y  \n",
       "2      Farming          N     N  \n",
       "3    Apartment          Y     Y  \n",
       "4  Hospitality          N     N  "
      ]
     },
     "execution_count": 29,
     "metadata": {},
     "output_type": "execute_result"
    }
   ],
   "source": [
    "insurance=pd.read_excel(\"insurance.xlsx\")\n",
    "insurance.head()"
   ]
  },
  {
   "cell_type": "markdown",
   "id": "210c9435-5270-4862-98b9-12780f003a93",
   "metadata": {},
   "source": [
    "- - Calculate the average of InsuredValue per state.\n"
   ]
  },
  {
   "cell_type": "markdown",
   "id": "af009af0-6f2a-4731-b7b8-9acb8fb074fc",
   "metadata": {},
   "source": [
    "Group by Indicator\n",
    "##### 1st Hint\n",
    "- each\n",
    "- by \n",
    "- per\n",
    "##### Aggregate Keywords\n",
    "\n",
    "- total --> sum\n",
    "- average --> mean\n",
    "- maximum --> max\n",
    "- minimum -min\n",
    "- number of something-->count\n",
    "\n"
   ]
  },
  {
   "cell_type": "code",
   "execution_count": 31,
   "id": "71fe71a0-99e1-4634-817d-9799d6b0066c",
   "metadata": {},
   "outputs": [
    {
     "data": {
      "text/html": [
       "<div>\n",
       "<style scoped>\n",
       "    .dataframe tbody tr th:only-of-type {\n",
       "        vertical-align: middle;\n",
       "    }\n",
       "\n",
       "    .dataframe tbody tr th {\n",
       "        vertical-align: top;\n",
       "    }\n",
       "\n",
       "    .dataframe thead th {\n",
       "        text-align: right;\n",
       "    }\n",
       "</style>\n",
       "<table border=\"1\" class=\"dataframe\">\n",
       "  <thead>\n",
       "    <tr style=\"text-align: right;\">\n",
       "      <th></th>\n",
       "      <th>Policy</th>\n",
       "      <th>Expiry</th>\n",
       "      <th>Location</th>\n",
       "      <th>State</th>\n",
       "      <th>Region</th>\n",
       "      <th>InsuredValue</th>\n",
       "      <th>Construction</th>\n",
       "      <th>BusinessType</th>\n",
       "      <th>Earthquake</th>\n",
       "      <th>Flood</th>\n",
       "    </tr>\n",
       "  </thead>\n",
       "  <tbody>\n",
       "    <tr>\n",
       "      <th>0</th>\n",
       "      <td>100242</td>\n",
       "      <td>2021-01-02</td>\n",
       "      <td>Urban</td>\n",
       "      <td>NY</td>\n",
       "      <td>East</td>\n",
       "      <td>1617630</td>\n",
       "      <td>Frame</td>\n",
       "      <td>Retail</td>\n",
       "      <td>N</td>\n",
       "      <td>N</td>\n",
       "    </tr>\n",
       "    <tr>\n",
       "      <th>1</th>\n",
       "      <td>100314</td>\n",
       "      <td>2021-01-02</td>\n",
       "      <td>Urban</td>\n",
       "      <td>NY</td>\n",
       "      <td>East</td>\n",
       "      <td>8678500</td>\n",
       "      <td>Fire Resist</td>\n",
       "      <td>Apartment</td>\n",
       "      <td>Y</td>\n",
       "      <td>Y</td>\n",
       "    </tr>\n",
       "  </tbody>\n",
       "</table>\n",
       "</div>"
      ],
      "text/plain": [
       "   Policy     Expiry Location State Region  InsuredValue Construction  \\\n",
       "0  100242 2021-01-02    Urban    NY   East       1617630        Frame   \n",
       "1  100314 2021-01-02    Urban    NY   East       8678500  Fire Resist   \n",
       "\n",
       "  BusinessType Earthquake Flood  \n",
       "0       Retail          N     N  \n",
       "1    Apartment          Y     Y  "
      ]
     },
     "execution_count": 31,
     "metadata": {},
     "output_type": "execute_result"
    }
   ],
   "source": [
    "insurance.head(2)"
   ]
  },
  {
   "cell_type": "code",
   "execution_count": 32,
   "id": "f1851807-aff2-4353-9e09-fd0211da236d",
   "metadata": {},
   "outputs": [
    {
     "data": {
      "text/plain": [
       "State\n",
       "IL    6.634327e+06\n",
       "ME    2.484139e+06\n",
       "MI    2.555560e+06\n",
       "MN    1.569650e+06\n",
       "NH    7.660286e+05\n",
       "NJ    4.391707e+06\n",
       "NY    5.717441e+06\n",
       "OH    2.241762e+06\n",
       "VT    5.342792e+06\n",
       "WI    4.051166e+06\n",
       "Name: InsuredValue, dtype: float64"
      ]
     },
     "execution_count": 32,
     "metadata": {},
     "output_type": "execute_result"
    }
   ],
   "source": [
    "insurance.groupby(\"State\")[\"InsuredValue\"].mean()"
   ]
  },
  {
   "cell_type": "code",
   "execution_count": null,
   "id": "16ead7df-5df1-4dff-9988-c40be0688e67",
   "metadata": {},
   "outputs": [],
   "source": []
  },
  {
   "cell_type": "code",
   "execution_count": null,
   "id": "bd653402-dcf3-47a1-b25e-3edb75d76f14",
   "metadata": {},
   "outputs": [],
   "source": []
  },
  {
   "cell_type": "code",
   "execution_count": null,
   "id": "eae29abc-1c23-4d1c-a6cd-3e7d289beb1a",
   "metadata": {},
   "outputs": [],
   "source": []
  },
  {
   "cell_type": "code",
   "execution_count": null,
   "id": "c9402bfb-ab52-4382-a521-4df3bffdd35b",
   "metadata": {},
   "outputs": [],
   "source": []
  },
  {
   "cell_type": "code",
   "execution_count": null,
   "id": "fb5f9965-173f-4c77-9914-d0f6083f5828",
   "metadata": {
    "scrolled": true
   },
   "outputs": [],
   "source": [
    "# insurance.groupby(\"\")[].mean()\n",
    "#insurance.groupby[\"State\"][\"InsuredValue\"].mean()--->syntax error\n",
    "\n"
   ]
  },
  {
   "cell_type": "code",
   "execution_count": null,
   "id": "2914d342-2bde-4195-874c-56cdd8117eae",
   "metadata": {},
   "outputs": [],
   "source": [
    "insurance.groupby(\"State\")[\"InsuredValue\"].mean()"
   ]
  },
  {
   "cell_type": "code",
   "execution_count": 34,
   "id": "9868fed6-0896-4924-964d-2751bd49886b",
   "metadata": {},
   "outputs": [
    {
     "data": {
      "text/html": [
       "<div>\n",
       "<style scoped>\n",
       "    .dataframe tbody tr th:only-of-type {\n",
       "        vertical-align: middle;\n",
       "    }\n",
       "\n",
       "    .dataframe tbody tr th {\n",
       "        vertical-align: top;\n",
       "    }\n",
       "\n",
       "    .dataframe thead th {\n",
       "        text-align: right;\n",
       "    }\n",
       "</style>\n",
       "<table border=\"1\" class=\"dataframe\">\n",
       "  <thead>\n",
       "    <tr style=\"text-align: right;\">\n",
       "      <th></th>\n",
       "      <th>Name</th>\n",
       "      <th>Age</th>\n",
       "      <th>City</th>\n",
       "      <th>Profession</th>\n",
       "    </tr>\n",
       "  </thead>\n",
       "  <tbody>\n",
       "    <tr>\n",
       "      <th>0</th>\n",
       "      <td>Alice</td>\n",
       "      <td>25</td>\n",
       "      <td>New York</td>\n",
       "      <td>Engineer</td>\n",
       "    </tr>\n",
       "    <tr>\n",
       "      <th>1</th>\n",
       "      <td>Bob</td>\n",
       "      <td>30</td>\n",
       "      <td>Los Angeles</td>\n",
       "      <td>Artist</td>\n",
       "    </tr>\n",
       "    <tr>\n",
       "      <th>2</th>\n",
       "      <td>Charlie</td>\n",
       "      <td>35</td>\n",
       "      <td>Chicago</td>\n",
       "      <td>Doctor</td>\n",
       "    </tr>\n",
       "    <tr>\n",
       "      <th>3</th>\n",
       "      <td>Dave</td>\n",
       "      <td>20</td>\n",
       "      <td>Maryland</td>\n",
       "      <td>Doctor</td>\n",
       "    </tr>\n",
       "    <tr>\n",
       "      <th>4</th>\n",
       "      <td>Sara</td>\n",
       "      <td>40</td>\n",
       "      <td>Misouri</td>\n",
       "      <td>Doctor</td>\n",
       "    </tr>\n",
       "    <tr>\n",
       "      <th>5</th>\n",
       "      <td>Liza</td>\n",
       "      <td>18</td>\n",
       "      <td>Arizona</td>\n",
       "      <td>Teacher</td>\n",
       "    </tr>\n",
       "    <tr>\n",
       "      <th>6</th>\n",
       "      <td>Alice</td>\n",
       "      <td>32</td>\n",
       "      <td>Arizona</td>\n",
       "      <td>Teacher</td>\n",
       "    </tr>\n",
       "    <tr>\n",
       "      <th>7</th>\n",
       "      <td>Sara</td>\n",
       "      <td>26</td>\n",
       "      <td>Misouri</td>\n",
       "      <td>Doctor</td>\n",
       "    </tr>\n",
       "    <tr>\n",
       "      <th>8</th>\n",
       "      <td>Jenny</td>\n",
       "      <td>45</td>\n",
       "      <td>New York</td>\n",
       "      <td>Engineer</td>\n",
       "    </tr>\n",
       "    <tr>\n",
       "      <th>9</th>\n",
       "      <td>Tom</td>\n",
       "      <td>18</td>\n",
       "      <td>Arizona</td>\n",
       "      <td>Engineer</td>\n",
       "    </tr>\n",
       "  </tbody>\n",
       "</table>\n",
       "</div>"
      ],
      "text/plain": [
       "      Name  Age         City Profession\n",
       "0    Alice   25     New York   Engineer\n",
       "1      Bob   30  Los Angeles     Artist\n",
       "2  Charlie   35      Chicago     Doctor\n",
       "3     Dave   20     Maryland     Doctor\n",
       "4     Sara   40      Misouri     Doctor\n",
       "5     Liza   18      Arizona    Teacher\n",
       "6    Alice   32      Arizona    Teacher\n",
       "7     Sara   26      Misouri     Doctor\n",
       "8    Jenny   45     New York   Engineer\n",
       "9      Tom   18      Arizona   Engineer"
      ]
     },
     "execution_count": 34,
     "metadata": {},
     "output_type": "execute_result"
    }
   ],
   "source": [
    "import pandas as pd\n",
    "\n",
    "data = {\n",
    "  'Name': ['Alice', 'Bob', 'Charlie', 'Dave', 'Sara', 'Liza', 'Alice', 'Sara', 'Jenny', 'Tom'],\n",
    "  'Age': [25, 30, 35, 20, 40, 18, 32, 26, 45, 18],\n",
    "  'City': ['New York', 'Los Angeles', 'Chicago', 'Maryland', 'Misouri', 'Arizona', 'Arizona', 'Misouri', 'New York', 'Arizona'],\n",
    "  'Profession': ['Engineer', 'Artist', 'Doctor', 'Doctor', 'Doctor', 'Teacher', 'Teacher', 'Doctor', 'Engineer', 'Engineer']\n",
    "}\n",
    "\n",
    "df = pd.DataFrame(data)\n",
    "(df)"
   ]
  },
  {
   "cell_type": "markdown",
   "id": "b334e815-dddc-46da-bcf5-05b41ba04311",
   "metadata": {},
   "source": [
    "Print number of rows"
   ]
  },
  {
   "cell_type": "code",
   "execution_count": 37,
   "id": "200df059-512e-42b5-a1ad-d20f1f357c7e",
   "metadata": {},
   "outputs": [
    {
     "data": {
      "text/plain": [
       "10"
      ]
     },
     "execution_count": 37,
     "metadata": {},
     "output_type": "execute_result"
    }
   ],
   "source": [
    "df.shape[0] #no of rows "
   ]
  },
  {
   "cell_type": "markdown",
   "id": "e8983e91-dbea-48a0-90a2-e280c8e94126",
   "metadata": {},
   "source": [
    "Print number of Columns"
   ]
  },
  {
   "cell_type": "code",
   "execution_count": 38,
   "id": "b9c6cdca-cb0a-428a-a623-dd4564f1f11d",
   "metadata": {},
   "outputs": [
    {
     "data": {
      "text/plain": [
       "4"
      ]
     },
     "execution_count": 38,
     "metadata": {},
     "output_type": "execute_result"
    }
   ],
   "source": [
    "df.shape[1]"
   ]
  },
  {
   "cell_type": "code",
   "execution_count": null,
   "id": "14cfac69-1bb2-410c-bae6-eddba69618fe",
   "metadata": {},
   "outputs": [],
   "source": []
  },
  {
   "cell_type": "code",
   "execution_count": null,
   "id": "f2088cca-d453-4704-ba60-235f62ef63d9",
   "metadata": {},
   "outputs": [],
   "source": []
  },
  {
   "cell_type": "code",
   "execution_count": 39,
   "id": "1a9c8b2f-d459-4f48-b2d9-44fc531a11a9",
   "metadata": {},
   "outputs": [
    {
     "data": {
      "text/html": [
       "<div>\n",
       "<style scoped>\n",
       "    .dataframe tbody tr th:only-of-type {\n",
       "        vertical-align: middle;\n",
       "    }\n",
       "\n",
       "    .dataframe tbody tr th {\n",
       "        vertical-align: top;\n",
       "    }\n",
       "\n",
       "    .dataframe thead th {\n",
       "        text-align: right;\n",
       "    }\n",
       "</style>\n",
       "<table border=\"1\" class=\"dataframe\">\n",
       "  <thead>\n",
       "    <tr style=\"text-align: right;\">\n",
       "      <th></th>\n",
       "      <th>Name</th>\n",
       "      <th>Age</th>\n",
       "      <th>City</th>\n",
       "      <th>Profession</th>\n",
       "    </tr>\n",
       "  </thead>\n",
       "  <tbody>\n",
       "    <tr>\n",
       "      <th>0</th>\n",
       "      <td>Alice</td>\n",
       "      <td>25</td>\n",
       "      <td>New York</td>\n",
       "      <td>Engineer</td>\n",
       "    </tr>\n",
       "    <tr>\n",
       "      <th>1</th>\n",
       "      <td>Bob</td>\n",
       "      <td>30</td>\n",
       "      <td>Los Angeles</td>\n",
       "      <td>Artist</td>\n",
       "    </tr>\n",
       "    <tr>\n",
       "      <th>2</th>\n",
       "      <td>Charlie</td>\n",
       "      <td>35</td>\n",
       "      <td>Chicago</td>\n",
       "      <td>Doctor</td>\n",
       "    </tr>\n",
       "    <tr>\n",
       "      <th>3</th>\n",
       "      <td>Dave</td>\n",
       "      <td>20</td>\n",
       "      <td>Maryland</td>\n",
       "      <td>Doctor</td>\n",
       "    </tr>\n",
       "    <tr>\n",
       "      <th>4</th>\n",
       "      <td>Sara</td>\n",
       "      <td>40</td>\n",
       "      <td>Misouri</td>\n",
       "      <td>Doctor</td>\n",
       "    </tr>\n",
       "  </tbody>\n",
       "</table>\n",
       "</div>"
      ],
      "text/plain": [
       "      Name  Age         City Profession\n",
       "0    Alice   25     New York   Engineer\n",
       "1      Bob   30  Los Angeles     Artist\n",
       "2  Charlie   35      Chicago     Doctor\n",
       "3     Dave   20     Maryland     Doctor\n",
       "4     Sara   40      Misouri     Doctor"
      ]
     },
     "execution_count": 39,
     "metadata": {},
     "output_type": "execute_result"
    }
   ],
   "source": [
    "df.head()"
   ]
  },
  {
   "cell_type": "markdown",
   "id": "2fec0cfe-9a15-4c5f-9130-41f142cfbbbf",
   "metadata": {},
   "source": [
    "Filter the DataFrame to select all rows where the 'Age' column is less than 25"
   ]
  },
  {
   "cell_type": "code",
   "execution_count": null,
   "id": "c3b2d8a6-90b6-41b1-830b-4955daeab922",
   "metadata": {},
   "outputs": [],
   "source": [
    "#df.loc[index of rows,name of columns]"
   ]
  },
  {
   "cell_type": "code",
   "execution_count": 45,
   "id": "edd26369-0ced-428c-a0ab-216d688dd74e",
   "metadata": {},
   "outputs": [
    {
     "data": {
      "text/html": [
       "<div>\n",
       "<style scoped>\n",
       "    .dataframe tbody tr th:only-of-type {\n",
       "        vertical-align: middle;\n",
       "    }\n",
       "\n",
       "    .dataframe tbody tr th {\n",
       "        vertical-align: top;\n",
       "    }\n",
       "\n",
       "    .dataframe thead th {\n",
       "        text-align: right;\n",
       "    }\n",
       "</style>\n",
       "<table border=\"1\" class=\"dataframe\">\n",
       "  <thead>\n",
       "    <tr style=\"text-align: right;\">\n",
       "      <th></th>\n",
       "      <th>Name</th>\n",
       "      <th>Age</th>\n",
       "      <th>City</th>\n",
       "      <th>Profession</th>\n",
       "    </tr>\n",
       "  </thead>\n",
       "  <tbody>\n",
       "    <tr>\n",
       "      <th>2</th>\n",
       "      <td>Charlie</td>\n",
       "      <td>35</td>\n",
       "      <td>Chicago</td>\n",
       "      <td>Doctor</td>\n",
       "    </tr>\n",
       "    <tr>\n",
       "      <th>3</th>\n",
       "      <td>Dave</td>\n",
       "      <td>20</td>\n",
       "      <td>Maryland</td>\n",
       "      <td>Doctor</td>\n",
       "    </tr>\n",
       "  </tbody>\n",
       "</table>\n",
       "</div>"
      ],
      "text/plain": [
       "      Name  Age      City Profession\n",
       "2  Charlie   35   Chicago     Doctor\n",
       "3     Dave   20  Maryland     Doctor"
      ]
     },
     "execution_count": 45,
     "metadata": {},
     "output_type": "execute_result"
    }
   ],
   "source": [
    "df.loc[[2,3],:]"
   ]
  },
  {
   "cell_type": "code",
   "execution_count": 46,
   "id": "1394bb1f-b764-4c11-b6ca-b6620082681e",
   "metadata": {},
   "outputs": [
    {
     "data": {
      "text/html": [
       "<div>\n",
       "<style scoped>\n",
       "    .dataframe tbody tr th:only-of-type {\n",
       "        vertical-align: middle;\n",
       "    }\n",
       "\n",
       "    .dataframe tbody tr th {\n",
       "        vertical-align: top;\n",
       "    }\n",
       "\n",
       "    .dataframe thead th {\n",
       "        text-align: right;\n",
       "    }\n",
       "</style>\n",
       "<table border=\"1\" class=\"dataframe\">\n",
       "  <thead>\n",
       "    <tr style=\"text-align: right;\">\n",
       "      <th></th>\n",
       "      <th>Name</th>\n",
       "      <th>Age</th>\n",
       "      <th>City</th>\n",
       "      <th>Profession</th>\n",
       "    </tr>\n",
       "  </thead>\n",
       "  <tbody>\n",
       "    <tr>\n",
       "      <th>0</th>\n",
       "      <td>Alice</td>\n",
       "      <td>25</td>\n",
       "      <td>New York</td>\n",
       "      <td>Engineer</td>\n",
       "    </tr>\n",
       "    <tr>\n",
       "      <th>1</th>\n",
       "      <td>Bob</td>\n",
       "      <td>30</td>\n",
       "      <td>Los Angeles</td>\n",
       "      <td>Artist</td>\n",
       "    </tr>\n",
       "    <tr>\n",
       "      <th>2</th>\n",
       "      <td>Charlie</td>\n",
       "      <td>35</td>\n",
       "      <td>Chicago</td>\n",
       "      <td>Doctor</td>\n",
       "    </tr>\n",
       "    <tr>\n",
       "      <th>3</th>\n",
       "      <td>Dave</td>\n",
       "      <td>20</td>\n",
       "      <td>Maryland</td>\n",
       "      <td>Doctor</td>\n",
       "    </tr>\n",
       "    <tr>\n",
       "      <th>4</th>\n",
       "      <td>Sara</td>\n",
       "      <td>40</td>\n",
       "      <td>Misouri</td>\n",
       "      <td>Doctor</td>\n",
       "    </tr>\n",
       "    <tr>\n",
       "      <th>5</th>\n",
       "      <td>Liza</td>\n",
       "      <td>18</td>\n",
       "      <td>Arizona</td>\n",
       "      <td>Teacher</td>\n",
       "    </tr>\n",
       "  </tbody>\n",
       "</table>\n",
       "</div>"
      ],
      "text/plain": [
       "      Name  Age         City Profession\n",
       "0    Alice   25     New York   Engineer\n",
       "1      Bob   30  Los Angeles     Artist\n",
       "2  Charlie   35      Chicago     Doctor\n",
       "3     Dave   20     Maryland     Doctor\n",
       "4     Sara   40      Misouri     Doctor\n",
       "5     Liza   18      Arizona    Teacher"
      ]
     },
     "execution_count": 46,
     "metadata": {},
     "output_type": "execute_result"
    }
   ],
   "source": [
    "df.loc[0:5,:]"
   ]
  },
  {
   "cell_type": "code",
   "execution_count": 40,
   "id": "420a80f2-cb35-430c-8466-10190c81641b",
   "metadata": {},
   "outputs": [
    {
     "data": {
      "text/plain": [
       "0    False\n",
       "1     True\n",
       "2     True\n",
       "3    False\n",
       "4     True\n",
       "5    False\n",
       "6     True\n",
       "7     True\n",
       "8     True\n",
       "9    False\n",
       "Name: Age, dtype: bool"
      ]
     },
     "execution_count": 40,
     "metadata": {},
     "output_type": "execute_result"
    }
   ],
   "source": [
    "df[\"Age\"]>25"
   ]
  },
  {
   "cell_type": "code",
   "execution_count": 44,
   "id": "c05464c9-fee7-4f7f-9c35-8e2a9773406b",
   "metadata": {},
   "outputs": [
    {
     "data": {
      "text/html": [
       "<div>\n",
       "<style scoped>\n",
       "    .dataframe tbody tr th:only-of-type {\n",
       "        vertical-align: middle;\n",
       "    }\n",
       "\n",
       "    .dataframe tbody tr th {\n",
       "        vertical-align: top;\n",
       "    }\n",
       "\n",
       "    .dataframe thead th {\n",
       "        text-align: right;\n",
       "    }\n",
       "</style>\n",
       "<table border=\"1\" class=\"dataframe\">\n",
       "  <thead>\n",
       "    <tr style=\"text-align: right;\">\n",
       "      <th></th>\n",
       "      <th>Name</th>\n",
       "      <th>Age</th>\n",
       "      <th>City</th>\n",
       "      <th>Profession</th>\n",
       "    </tr>\n",
       "  </thead>\n",
       "  <tbody>\n",
       "    <tr>\n",
       "      <th>1</th>\n",
       "      <td>Bob</td>\n",
       "      <td>30</td>\n",
       "      <td>Los Angeles</td>\n",
       "      <td>Artist</td>\n",
       "    </tr>\n",
       "    <tr>\n",
       "      <th>2</th>\n",
       "      <td>Charlie</td>\n",
       "      <td>35</td>\n",
       "      <td>Chicago</td>\n",
       "      <td>Doctor</td>\n",
       "    </tr>\n",
       "    <tr>\n",
       "      <th>4</th>\n",
       "      <td>Sara</td>\n",
       "      <td>40</td>\n",
       "      <td>Misouri</td>\n",
       "      <td>Doctor</td>\n",
       "    </tr>\n",
       "  </tbody>\n",
       "</table>\n",
       "</div>"
      ],
      "text/plain": [
       "      Name  Age         City Profession\n",
       "1      Bob   30  Los Angeles     Artist\n",
       "2  Charlie   35      Chicago     Doctor\n",
       "4     Sara   40      Misouri     Doctor"
      ]
     },
     "execution_count": 44,
     "metadata": {},
     "output_type": "execute_result"
    }
   ],
   "source": [
    "df.loc[[1,2,4],]"
   ]
  },
  {
   "cell_type": "code",
   "execution_count": 42,
   "id": "3597ab66-c033-46dd-8885-5ca1ace1df9c",
   "metadata": {},
   "outputs": [
    {
     "data": {
      "text/html": [
       "<div>\n",
       "<style scoped>\n",
       "    .dataframe tbody tr th:only-of-type {\n",
       "        vertical-align: middle;\n",
       "    }\n",
       "\n",
       "    .dataframe tbody tr th {\n",
       "        vertical-align: top;\n",
       "    }\n",
       "\n",
       "    .dataframe thead th {\n",
       "        text-align: right;\n",
       "    }\n",
       "</style>\n",
       "<table border=\"1\" class=\"dataframe\">\n",
       "  <thead>\n",
       "    <tr style=\"text-align: right;\">\n",
       "      <th></th>\n",
       "      <th>Name</th>\n",
       "      <th>Age</th>\n",
       "      <th>City</th>\n",
       "      <th>Profession</th>\n",
       "    </tr>\n",
       "  </thead>\n",
       "  <tbody>\n",
       "    <tr>\n",
       "      <th>1</th>\n",
       "      <td>Bob</td>\n",
       "      <td>30</td>\n",
       "      <td>Los Angeles</td>\n",
       "      <td>Artist</td>\n",
       "    </tr>\n",
       "    <tr>\n",
       "      <th>2</th>\n",
       "      <td>Charlie</td>\n",
       "      <td>35</td>\n",
       "      <td>Chicago</td>\n",
       "      <td>Doctor</td>\n",
       "    </tr>\n",
       "    <tr>\n",
       "      <th>4</th>\n",
       "      <td>Sara</td>\n",
       "      <td>40</td>\n",
       "      <td>Misouri</td>\n",
       "      <td>Doctor</td>\n",
       "    </tr>\n",
       "    <tr>\n",
       "      <th>6</th>\n",
       "      <td>Alice</td>\n",
       "      <td>32</td>\n",
       "      <td>Arizona</td>\n",
       "      <td>Teacher</td>\n",
       "    </tr>\n",
       "    <tr>\n",
       "      <th>7</th>\n",
       "      <td>Sara</td>\n",
       "      <td>26</td>\n",
       "      <td>Misouri</td>\n",
       "      <td>Doctor</td>\n",
       "    </tr>\n",
       "    <tr>\n",
       "      <th>8</th>\n",
       "      <td>Jenny</td>\n",
       "      <td>45</td>\n",
       "      <td>New York</td>\n",
       "      <td>Engineer</td>\n",
       "    </tr>\n",
       "  </tbody>\n",
       "</table>\n",
       "</div>"
      ],
      "text/plain": [
       "      Name  Age         City Profession\n",
       "1      Bob   30  Los Angeles     Artist\n",
       "2  Charlie   35      Chicago     Doctor\n",
       "4     Sara   40      Misouri     Doctor\n",
       "6    Alice   32      Arizona    Teacher\n",
       "7     Sara   26      Misouri     Doctor\n",
       "8    Jenny   45     New York   Engineer"
      ]
     },
     "execution_count": 42,
     "metadata": {},
     "output_type": "execute_result"
    }
   ],
   "source": [
    "df.loc[df[\"Age\"]>25,]"
   ]
  },
  {
   "cell_type": "markdown",
   "id": "0bf8bfdd-b41a-4158-8573-610da46f349d",
   "metadata": {},
   "source": [
    "In df.loc you have following options for Rows\n",
    "\n",
    "- directly give row number\n",
    "- give range 0:3\n",
    "- give a condition"
   ]
  },
  {
   "cell_type": "markdown",
   "id": "76d91e86-b8df-4c26-980e-8e8eedc3b411",
   "metadata": {},
   "source": [
    "## Loc "
   ]
  },
  {
   "cell_type": "markdown",
   "id": "ef2d35fd-f7a5-4ba4-9137-a776fadd2a7a",
   "metadata": {},
   "source": [
    "Select the 'Name' column for the first two rows (index 0 and 1) from the DataFrame"
   ]
  },
  {
   "cell_type": "code",
   "execution_count": 48,
   "id": "133eb595-b8f9-4f80-961f-3fd6bd5c615c",
   "metadata": {},
   "outputs": [
    {
     "data": {
      "text/html": [
       "<div>\n",
       "<style scoped>\n",
       "    .dataframe tbody tr th:only-of-type {\n",
       "        vertical-align: middle;\n",
       "    }\n",
       "\n",
       "    .dataframe tbody tr th {\n",
       "        vertical-align: top;\n",
       "    }\n",
       "\n",
       "    .dataframe thead th {\n",
       "        text-align: right;\n",
       "    }\n",
       "</style>\n",
       "<table border=\"1\" class=\"dataframe\">\n",
       "  <thead>\n",
       "    <tr style=\"text-align: right;\">\n",
       "      <th></th>\n",
       "      <th>Name</th>\n",
       "      <th>Age</th>\n",
       "      <th>City</th>\n",
       "      <th>Profession</th>\n",
       "    </tr>\n",
       "  </thead>\n",
       "  <tbody>\n",
       "    <tr>\n",
       "      <th>0</th>\n",
       "      <td>Alice</td>\n",
       "      <td>25</td>\n",
       "      <td>New York</td>\n",
       "      <td>Engineer</td>\n",
       "    </tr>\n",
       "    <tr>\n",
       "      <th>1</th>\n",
       "      <td>Bob</td>\n",
       "      <td>30</td>\n",
       "      <td>Los Angeles</td>\n",
       "      <td>Artist</td>\n",
       "    </tr>\n",
       "  </tbody>\n",
       "</table>\n",
       "</div>"
      ],
      "text/plain": [
       "    Name  Age         City Profession\n",
       "0  Alice   25     New York   Engineer\n",
       "1    Bob   30  Los Angeles     Artist"
      ]
     },
     "execution_count": 48,
     "metadata": {},
     "output_type": "execute_result"
    }
   ],
   "source": [
    "df.head(2)"
   ]
  },
  {
   "cell_type": "code",
   "execution_count": null,
   "id": "a5505d73-7703-4906-bc30-eedacf704c70",
   "metadata": {},
   "outputs": [],
   "source": [
    "#df.loc[index of rows,name of columns]"
   ]
  },
  {
   "cell_type": "code",
   "execution_count": 49,
   "id": "e90ec37d-e4a6-4651-a72c-6a1c50db0eba",
   "metadata": {},
   "outputs": [
    {
     "data": {
      "text/plain": [
       "0    Alice\n",
       "1      Bob\n",
       "Name: Name, dtype: object"
      ]
     },
     "execution_count": 49,
     "metadata": {},
     "output_type": "execute_result"
    }
   ],
   "source": [
    "df.loc[0:1,\"Name\"]"
   ]
  },
  {
   "cell_type": "code",
   "execution_count": 51,
   "id": "c4317434-5452-44f7-bbe9-a72054f048f3",
   "metadata": {},
   "outputs": [
    {
     "data": {
      "text/html": [
       "<div>\n",
       "<style scoped>\n",
       "    .dataframe tbody tr th:only-of-type {\n",
       "        vertical-align: middle;\n",
       "    }\n",
       "\n",
       "    .dataframe tbody tr th {\n",
       "        vertical-align: top;\n",
       "    }\n",
       "\n",
       "    .dataframe thead th {\n",
       "        text-align: right;\n",
       "    }\n",
       "</style>\n",
       "<table border=\"1\" class=\"dataframe\">\n",
       "  <thead>\n",
       "    <tr style=\"text-align: right;\">\n",
       "      <th></th>\n",
       "      <th>Name</th>\n",
       "      <th>City</th>\n",
       "    </tr>\n",
       "  </thead>\n",
       "  <tbody>\n",
       "    <tr>\n",
       "      <th>0</th>\n",
       "      <td>Alice</td>\n",
       "      <td>New York</td>\n",
       "    </tr>\n",
       "    <tr>\n",
       "      <th>1</th>\n",
       "      <td>Bob</td>\n",
       "      <td>Los Angeles</td>\n",
       "    </tr>\n",
       "  </tbody>\n",
       "</table>\n",
       "</div>"
      ],
      "text/plain": [
       "    Name         City\n",
       "0  Alice     New York\n",
       "1    Bob  Los Angeles"
      ]
     },
     "execution_count": 51,
     "metadata": {},
     "output_type": "execute_result"
    }
   ],
   "source": [
    "df.loc[0:1,[\"Name\",\"City\"]]"
   ]
  },
  {
   "cell_type": "code",
   "execution_count": null,
   "id": "bbf3454a-f682-4776-ae24-bc7704eec2d4",
   "metadata": {},
   "outputs": [],
   "source": []
  },
  {
   "cell_type": "markdown",
   "id": "fcc3638d-63e5-4a04-bd10-b5d071a306ba",
   "metadata": {},
   "source": [
    "Select the 'Name' and 'City' columns for the first two rows (index 0 and 1) from the DataFrame."
   ]
  },
  {
   "cell_type": "code",
   "execution_count": null,
   "id": "f7fa9ee3-2ea1-4f38-8c05-0c6ee318da06",
   "metadata": {},
   "outputs": [],
   "source": []
  },
  {
   "cell_type": "markdown",
   "id": "4129dd46-f80d-4245-9839-a559850e54fa",
   "metadata": {},
   "source": [
    "Add a new row with index 6 to the DataFrame using loc[], providing values for 'Name', 'Age', 'City', and 'Occupation"
   ]
  },
  {
   "cell_type": "code",
   "execution_count": null,
   "id": "9c6c1813-2660-4c73-962b-2b68e683b74a",
   "metadata": {},
   "outputs": [],
   "source": []
  },
  {
   "cell_type": "markdown",
   "id": "5e94121b-c69f-4ded-839a-736782ac920b",
   "metadata": {},
   "source": [
    "Add a new row with index 11 to the DataFrame using loc[], skipping index 10, and provide values for 'Name', 'Age', 'City', and 'Occupation"
   ]
  },
  {
   "cell_type": "code",
   "execution_count": null,
   "id": "4daf2dd3-3cfe-4c7f-b193-07a0dc6a0e88",
   "metadata": {},
   "outputs": [],
   "source": []
  },
  {
   "cell_type": "markdown",
   "id": "f2929251-0399-4d94-b0e8-c8f31c759053",
   "metadata": {},
   "source": [
    "\n",
    "### Adding column using loc\n"
   ]
  },
  {
   "cell_type": "markdown",
   "id": "0c13d939-4338-4298-9f7d-b18b051e75cb",
   "metadata": {},
   "source": [
    "Add a new column 'Salary' to the DataFrame and assign values to each row using loc[]."
   ]
  },
  {
   "cell_type": "code",
   "execution_count": null,
   "id": "519217dd-9f16-455e-9c6c-4391642e944c",
   "metadata": {},
   "outputs": [],
   "source": []
  },
  {
   "cell_type": "code",
   "execution_count": null,
   "id": "181390dc-88d0-40af-bac2-15c04a6e71aa",
   "metadata": {},
   "outputs": [],
   "source": []
  },
  {
   "cell_type": "code",
   "execution_count": null,
   "id": "b3bf53de-6ddd-445d-83ba-6a100bcbd859",
   "metadata": {},
   "outputs": [],
   "source": []
  },
  {
   "cell_type": "markdown",
   "id": "d3764753-e0df-4b88-8e33-e1408376f3fd",
   "metadata": {},
   "source": [
    "### To append value at end of df"
   ]
  },
  {
   "cell_type": "code",
   "execution_count": null,
   "id": "cb8e654a-53af-4500-aa10-0265ee0521d5",
   "metadata": {},
   "outputs": [],
   "source": [
    "df.loc[len(df)] = ['Gravelbike', 45, 'Misouri','Scientist', 40000]\n"
   ]
  },
  {
   "cell_type": "code",
   "execution_count": null,
   "id": "b5993e43-96f7-4f4c-b4b0-ac8cdc26f1ea",
   "metadata": {},
   "outputs": [],
   "source": []
  },
  {
   "cell_type": "markdown",
   "id": "a0b8de8d-7da7-4d57-b52a-4aaef69ff9af",
   "metadata": {},
   "source": [
    "Append a new row to the DataFrame using loc[len(df)], providing values for 'Name', 'Age', 'City', 'Occupation', and 'Salary"
   ]
  },
  {
   "cell_type": "code",
   "execution_count": null,
   "id": "6d3e722d-be7b-45e7-bd37-6f14a63b1050",
   "metadata": {},
   "outputs": [],
   "source": [
    "df.loc[df.shape[0]] = ['Kasha', 45, 'Misouri','Scientist', 40000]\n"
   ]
  },
  {
   "cell_type": "code",
   "execution_count": null,
   "id": "d11ef75e-241f-4d25-8b1c-9544b7040c62",
   "metadata": {},
   "outputs": [],
   "source": [
    "df.drop(6)"
   ]
  },
  {
   "cell_type": "code",
   "execution_count": null,
   "id": "13338391-3467-4827-852e-2b06dc13742d",
   "metadata": {},
   "outputs": [],
   "source": [
    "df.drop(1,axis=0) #axis 0 for rows"
   ]
  },
  {
   "cell_type": "code",
   "execution_count": null,
   "id": "2984a3dc-5585-47a0-84e0-5445924a8684",
   "metadata": {},
   "outputs": [],
   "source": [
    "df.drop('City',axis=1) # axis 1 for columns"
   ]
  },
  {
   "cell_type": "code",
   "execution_count": null,
   "id": "467d0dba-13c1-4710-af54-12db1d4a0b47",
   "metadata": {},
   "outputs": [],
   "source": [
    "df.loc[df.shape[0]] = ['Stephen', 23, 'Misouri','Teacher', 15000]\n",
    "df"
   ]
  },
  {
   "cell_type": "code",
   "execution_count": null,
   "id": "0dfc9c92-e739-40fc-a6cc-9377b2b72d9a",
   "metadata": {},
   "outputs": [],
   "source": [
    "df"
   ]
  },
  {
   "cell_type": "code",
   "execution_count": null,
   "id": "0c56f2e7-76a2-40ad-ab71-3990760146c5",
   "metadata": {},
   "outputs": [],
   "source": [
    "df.loc[12] = ['Iska', 19, 'Arizona','Artist',45000]\n",
    "df.loc[13] = ['Leon', 22, 'New York','DataScientist',65000]\n",
    "df.loc[14] = ['Nada', 23, 'Maryland','Engineer',70000]"
   ]
  },
  {
   "cell_type": "markdown",
   "id": "8789412f-c291-4abe-9661-3f308b1e951a",
   "metadata": {},
   "source": [
    "### Inplace and Assignment Operator "
   ]
  },
  {
   "cell_type": "code",
   "execution_count": null,
   "id": "163c682a-4eb0-4005-96a3-d615917a464a",
   "metadata": {},
   "outputs": [],
   "source": []
  },
  {
   "cell_type": "code",
   "execution_count": null,
   "id": "145ad863-8824-49f4-be0f-b6cb2f7c1eb0",
   "metadata": {},
   "outputs": [],
   "source": [
    "df = df.drop(14) #Assignment Operator"
   ]
  },
  {
   "cell_type": "code",
   "execution_count": null,
   "id": "7b28e551-e831-4056-ba45-7b4758b216f6",
   "metadata": {},
   "outputs": [],
   "source": []
  },
  {
   "cell_type": "code",
   "execution_count": null,
   "id": "e3c7a65e-8c7f-413e-8b9e-105f3469b649",
   "metadata": {},
   "outputs": [],
   "source": [
    "df.drop(13,axis=0,inplace=True)"
   ]
  },
  {
   "cell_type": "markdown",
   "id": "b49c0671-cf5e-4829-97e7-78fe0d5452d5",
   "metadata": {},
   "source": [
    "### Sort Values"
   ]
  },
  {
   "cell_type": "markdown",
   "id": "61484ac6-0e7c-485f-85ec-2b2ef8a74805",
   "metadata": {},
   "source": [
    "- data_sorted = df.sort_values(by='City')\n",
    "- data_sorted = df.sort_values('City')\n"
   ]
  },
  {
   "cell_type": "code",
   "execution_count": null,
   "id": "66a4e358-0da5-4457-9d4a-f5ca2e7ea026",
   "metadata": {},
   "outputs": [],
   "source": [
    "data_sorted = df.sort_values(by='City')\n",
    "data_sorted"
   ]
  },
  {
   "cell_type": "code",
   "execution_count": null,
   "id": "4591f92c-d660-4071-bab1-d7b77aa3522d",
   "metadata": {},
   "outputs": [],
   "source": [
    "data_sorted = df.sort_values(['Age'])\n",
    "data_sorted"
   ]
  },
  {
   "cell_type": "code",
   "execution_count": null,
   "id": "fcda9a34-0411-42a4-aa3c-de922f74af47",
   "metadata": {},
   "outputs": [],
   "source": [
    "data_sorted = df.sort_values(['Age', 'Salary'])\n",
    "data_sorted"
   ]
  },
  {
   "cell_type": "markdown",
   "id": "c2e096f0-b5c5-4cf4-80c4-442f1874bdb6",
   "metadata": {},
   "source": [
    "### order of sorting"
   ]
  },
  {
   "cell_type": "code",
   "execution_count": null,
   "id": "9d6f7c4d-b07c-46d0-a51f-ad5d237df770",
   "metadata": {},
   "outputs": [],
   "source": [
    "data_sorted = df.sort_values(by=['City', 'Salary'], ascending=False)\n",
    "data_sorted"
   ]
  },
  {
   "cell_type": "code",
   "execution_count": null,
   "id": "afe5e63f-283d-4fab-b0e8-bfe1a962324e",
   "metadata": {},
   "outputs": [],
   "source": [
    "a_list=[3,4,5,6,7,8,9,10,2,3]\n",
    "for leon in a_list:\n",
    "    print(leon)"
   ]
  },
  {
   "cell_type": "code",
   "execution_count": null,
   "id": "4c98920f-a51a-4d61-acba-77fbb393d169",
   "metadata": {},
   "outputs": [],
   "source": [
    "for i in df['City']:\n",
    "    print(i)"
   ]
  },
  {
   "cell_type": "code",
   "execution_count": null,
   "id": "7503b6c4-19b7-4e4a-89b8-388a8f7bf150",
   "metadata": {},
   "outputs": [],
   "source": [
    "countries_data = {\n",
    "    'country': ['Germany', 'France', 'Italy', 'Spain', 'Netherlands', 'Sweden', 'Norway', 'Belgium', 'Austria', 'Denmark'],\n",
    "    'population': [1000000, 2000000, 1500000, 800000, 2500000, 3000000, 500000, 1800000, 1200000, 2200000],\n",
    "    'area': [500, 800, 600, 450, 900, 1200, 300, 700, 550, 850],\n",
    "    'gdp': [500000000, 1200000000, 750000000, 400000000, 1500000000, 1800000000, 250000000, 900000000, 650000000, 1400000000]\n",
    "}\n",
    "\n",
    "countries_df = pd.DataFrame(countries_data)\n",
    "\n",
    "countries_df"
   ]
  },
  {
   "cell_type": "code",
   "execution_count": null,
   "id": "1cd5debd-6a32-44b7-b5c0-277d8679cecb",
   "metadata": {},
   "outputs": [],
   "source": [
    "countries_df.sum()"
   ]
  },
  {
   "cell_type": "code",
   "execution_count": null,
   "id": "bf6545ae-6557-46ee-8c91-fc0a0d04686f",
   "metadata": {},
   "outputs": [],
   "source": [
    "# Select specific columns and calculate their sum\n",
    "result = countries_df.loc[:, ['population', 'gdp']].sum()\n",
    "\n",
    "print(result)"
   ]
  },
  {
   "cell_type": "code",
   "execution_count": null,
   "id": "663b2f81-004b-44a8-ace6-63fb8847c547",
   "metadata": {},
   "outputs": [],
   "source": [
    "# Select specific columns and calculate their sum\n",
    "result = countries_df.loc[:, ['population', 'gdp']].min()\n",
    "\n",
    "print(result)"
   ]
  },
  {
   "cell_type": "markdown",
   "id": "a04df978-3d8d-4df0-ad0c-e2deadef1082",
   "metadata": {},
   "source": [
    "- count() Number of non-null Values\n",
    "- sum() Sum of Values\n",
    "- mean() Mean of Values\n",
    "- median() Median of Values  -> the middle value in sorted numerical data.\n",
    "- mode() Mode of Values -> Finds the value(s) that appear most frequently in a column\n",
    "- var() Variance of the Values -> measures the spread of data from the mean.\n",
    "- std() Standard Deviation of the Values -> the square root of the variance, Measures how much data deviates from the mean on average.\n",
    "- min() Minimum Value\n",
    "- max() Maximum Value\n",
    "- prod() Product of Values -> Computes the product of all values in a column or DataFrame, skips NaN values\n",
    "- cumsum() Cumulative Sum -> Calculates the cumulative sum of values along a column or row, Adds each value to the sum of all previous values\n",
    "- cumprod() Cumulative Product -> Computes the cumulative product of values in a column or row,Multiplies each value by the product of all previous values.\n",
    "- corr() Correlation Matrix ->showing pairwise correlation coefficients between columns, Correlation values range from -1 to 1, indicating the strength and direction of the relationship."
   ]
  },
  {
   "cell_type": "code",
   "execution_count": null,
   "id": "f8bb14b4-fad5-4b79-bbf4-257cc42b05d5",
   "metadata": {},
   "outputs": [],
   "source": [
    "list_a={\n",
    "    'numbers':[10,20,30,40]\n",
    "}\n",
    "numbers_df=pd.DataFrame(list_a)\n",
    "numbers_df"
   ]
  },
  {
   "cell_type": "code",
   "execution_count": null,
   "id": "2bd76e17-978b-443b-b52e-2e5b26985fd1",
   "metadata": {},
   "outputs": [],
   "source": [
    "numbers_df.sum()"
   ]
  },
  {
   "cell_type": "code",
   "execution_count": null,
   "id": "7ff5a083-beb8-48dd-adb9-b319d6451bd5",
   "metadata": {},
   "outputs": [],
   "source": [
    "numbers_df.cumsum()"
   ]
  },
  {
   "cell_type": "code",
   "execution_count": null,
   "id": "9411d521-88c0-49ed-9b79-8922027951ed",
   "metadata": {},
   "outputs": [],
   "source": [
    "numbers_df.prod()"
   ]
  },
  {
   "cell_type": "code",
   "execution_count": null,
   "id": "37f3b9c7-5453-4768-abc3-f4f4566cd10a",
   "metadata": {},
   "outputs": [],
   "source": [
    "numbers_df.cumprod()"
   ]
  },
  {
   "cell_type": "code",
   "execution_count": null,
   "id": "522c3429-54ed-45b7-b2f7-75b16917217f",
   "metadata": {},
   "outputs": [],
   "source": [
    "countries_df.loc[:, ['population']].mean()"
   ]
  },
  {
   "cell_type": "code",
   "execution_count": null,
   "id": "dec195dd-25a8-418a-b243-672ccf668d9a",
   "metadata": {},
   "outputs": [],
   "source": [
    "countries_df.loc[:, ['population', 'gdp']].mean()\n"
   ]
  },
  {
   "cell_type": "code",
   "execution_count": null,
   "id": "107b087b-4adf-42b0-93a7-f70391f1330c",
   "metadata": {},
   "outputs": [],
   "source": [
    "countries_df['population'].describe()"
   ]
  },
  {
   "cell_type": "code",
   "execution_count": null,
   "id": "e02f50c2-7c2b-43de-a43f-8dd60e6ba1c8",
   "metadata": {},
   "outputs": [],
   "source": [
    "countries_df.describe()"
   ]
  },
  {
   "cell_type": "code",
   "execution_count": null,
   "id": "96f7e41a-ba7d-4175-ae53-fe0a15d8b68e",
   "metadata": {},
   "outputs": [],
   "source": [
    "df.count()"
   ]
  },
  {
   "cell_type": "markdown",
   "id": "0ce8ba1a-a7c5-4e02-b3a2-827d7b0affd8",
   "metadata": {},
   "source": [
    "### Null Value (OPTIONAL)"
   ]
  },
  {
   "cell_type": "code",
   "execution_count": null,
   "id": "068b9803-1de6-4e46-aedd-d6db9227d630",
   "metadata": {},
   "outputs": [],
   "source": [
    "import numpy as np\n",
    "df.loc[len(df)] = ['Gravelbike', 45, 'Misouri','Scientist',np.nan ]\n",
    "df"
   ]
  },
  {
   "cell_type": "code",
   "execution_count": null,
   "id": "ef06bf71-6e3b-4ba8-a508-dfb6caa321c9",
   "metadata": {},
   "outputs": [],
   "source": [
    "df.describe()"
   ]
  },
  {
   "cell_type": "code",
   "execution_count": null,
   "id": "5b709135-571f-4090-85fe-bd54c6f49d46",
   "metadata": {},
   "outputs": [],
   "source": [
    "df.count()"
   ]
  },
  {
   "cell_type": "markdown",
   "id": "f481ef6a-b4cb-4014-99e3-383a9e4c2acd",
   "metadata": {},
   "source": [
    "### Correlation"
   ]
  },
  {
   "cell_type": "code",
   "execution_count": null,
   "id": "043a2c8f-2bd9-4218-8812-897a428b4adc",
   "metadata": {},
   "outputs": [],
   "source": [
    "df.loc[:, ['Age','Salary']].corr()"
   ]
  },
  {
   "cell_type": "markdown",
   "id": "42c833ed-12b9-4f5f-8741-cd3c6cbfd07b",
   "metadata": {},
   "source": [
    "### UNIQUE"
   ]
  },
  {
   "cell_type": "code",
   "execution_count": null,
   "id": "97222ee3-d457-486d-9d5d-d569b6599804",
   "metadata": {},
   "outputs": [],
   "source": [
    "df['Profession'].unique()"
   ]
  },
  {
   "cell_type": "code",
   "execution_count": null,
   "id": "9834a3fa-7160-47cd-803d-7a500c943318",
   "metadata": {},
   "outputs": [],
   "source": []
  },
  {
   "cell_type": "code",
   "execution_count": null,
   "id": "07cfc68f-7833-4e7f-b60b-498a295d7c38",
   "metadata": {},
   "outputs": [],
   "source": [
    "df['Age'].unique()"
   ]
  },
  {
   "cell_type": "code",
   "execution_count": null,
   "id": "c25efa4d-6431-4162-85a5-e17c14b63867",
   "metadata": {},
   "outputs": [],
   "source": [
    "countries_df['country'].unique()"
   ]
  },
  {
   "cell_type": "markdown",
   "id": "3303e358-31f1-4276-8e8c-e068a5d5b74e",
   "metadata": {},
   "source": [
    "### Value Counts"
   ]
  },
  {
   "cell_type": "markdown",
   "id": "4abd2d0e-4a80-4d44-81ba-14c31d2674ca",
   "metadata": {},
   "source": [
    "### verifying correlation ( Optional)"
   ]
  },
  {
   "cell_type": "code",
   "execution_count": null,
   "id": "8c64832a-c916-490f-b579-24ece8da86e8",
   "metadata": {},
   "outputs": [],
   "source": [
    "df[['Age','Salary']]"
   ]
  },
  {
   "cell_type": "code",
   "execution_count": null,
   "id": "2e7e7856-8546-4c26-afb9-d20513d2fa2b",
   "metadata": {},
   "outputs": [],
   "source": [
    "df.loc[:, ['Age','Salary']].corr()"
   ]
  }
 ],
 "metadata": {
  "kernelspec": {
   "display_name": "Python 3 (ipykernel)",
   "language": "python",
   "name": "python3"
  },
  "language_info": {
   "codemirror_mode": {
    "name": "ipython",
    "version": 3
   },
   "file_extension": ".py",
   "mimetype": "text/x-python",
   "name": "python",
   "nbconvert_exporter": "python",
   "pygments_lexer": "ipython3",
   "version": "3.8.6"
  }
 },
 "nbformat": 4,
 "nbformat_minor": 5
}
